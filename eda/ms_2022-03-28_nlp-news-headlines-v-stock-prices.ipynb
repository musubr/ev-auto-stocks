{
 "cells": [
  {
   "cell_type": "markdown",
   "id": "c9459c46-3861-4435-90db-cd6e69ff11c2",
   "metadata": {},
   "source": [
    "# 0. Problem statement"
   ]
  },
  {
   "cell_type": "markdown",
   "id": "d9384474-3711-4654-bf14-084c753feab0",
   "metadata": {},
   "source": [
    "We are given the top 25 news headlines (based on votes from the \"worldnews\" subreddit in Reddit) for every day from Aug. 8, 2008 to Jul. 1, 2016 along with the corresponding movements in the DJI index: daily returns >= 0% are labelled with a 1 and daily returns < 0% are labelled with a 0. \n",
    "\n",
    "**Can we use NLP to develop a model that can forecast whether DJI returns are positive or not given the top 25 headlines for a day?**"
   ]
  },
  {
   "cell_type": "markdown",
   "id": "dc45c558-8816-4f92-99b4-8a61c3fd9206",
   "metadata": {},
   "source": [
    "# I. Imports"
   ]
  },
  {
   "cell_type": "code",
   "execution_count": 1,
   "id": "e87403de-c6c7-41c7-a023-374362d7f0de",
   "metadata": {},
   "outputs": [],
   "source": [
    "import pandas as pd\n",
    "import numpy as np\n",
    "from matplotlib import pyplot as plt\n",
    "from matplotlib.pyplot import figure\n",
    "import seaborn as sns\n",
    "import pandas_datareader.data as reader\n",
    "import datetime as dt\n",
    "from datetime import timedelta\n",
    "from typing import Iterable, Union\n",
    "import itertools\n",
    "from plotly import graph_objects as go\n",
    "from plotly.subplots import make_subplots\n",
    "from plotly import express as px\n",
    "\n",
    "import unicodedata\n",
    "import re\n",
    "import nltk\n",
    "from nltk import word_tokenize, sent_tokenize\n",
    "from nltk.corpus import stopwords, wordnet\n",
    "from nltk.stem import LancasterStemmer, WordNetLemmatizer"
   ]
  },
  {
   "cell_type": "code",
   "execution_count": 2,
   "id": "624892cd-95a7-41b3-b4b0-e3d932924e49",
   "metadata": {},
   "outputs": [],
   "source": [
    "import contractions"
   ]
  },
  {
   "cell_type": "code",
   "execution_count": 3,
   "id": "dac2993d-4dec-4355-8293-d2ca262c4fa1",
   "metadata": {},
   "outputs": [],
   "source": [
    "import requests"
   ]
  },
  {
   "cell_type": "code",
   "execution_count": 4,
   "id": "5c8dab11-d9ba-467b-bf41-a6149a090d11",
   "metadata": {},
   "outputs": [],
   "source": [
    "from functools import partial"
   ]
  },
  {
   "cell_type": "code",
   "execution_count": 5,
   "id": "326d9818-a850-48c5-824c-fcaaf329533d",
   "metadata": {},
   "outputs": [],
   "source": [
    "from nltk.sentiment.vader import SentimentIntensityAnalyzer"
   ]
  },
  {
   "cell_type": "code",
   "execution_count": 6,
   "id": "f86691f6-9b92-4ca3-9ee1-a5148c7b567f",
   "metadata": {},
   "outputs": [],
   "source": [
    "# Ensure that the following commands are run at least once on your machine to ensure that NLTK pre-processing works as expected.\n",
    "# nltk.download('punkt')\n",
    "# nltk.download('stopwords')\n",
    "# nltk.download('wordnet')\n",
    "# nltk.download('omw-1.4')\n",
    "# nltk.download('vader_lexicon')"
   ]
  },
  {
   "cell_type": "markdown",
   "id": "db7bed18-043b-4d05-8cd4-f750f9ea4b3b",
   "metadata": {},
   "source": [
    "# II. Data loading\n",
    "I downloaded the relevant dataset from Kaggle (https://www.kaggle.com/datasets/aaron7sun/stocknews?resource=download) and have saved it to my local machine. It is part of my GitHub Repository as well, so the following command should work if you've cloned the repository appropriately."
   ]
  },
  {
   "cell_type": "code",
   "execution_count": 7,
   "id": "7df5ea9b-6409-4ce2-bc30-43d0019bc734",
   "metadata": {},
   "outputs": [
    {
     "data": {
      "text/plain": [
       "'/home/murali/personal_projects/stock-price-forecasts/eda'"
      ]
     },
     "execution_count": 7,
     "metadata": {},
     "output_type": "execute_result"
    }
   ],
   "source": [
    "pwd"
   ]
  },
  {
   "cell_type": "code",
   "execution_count": 8,
   "id": "22fdd286-bf60-49b1-a64c-093333f14824",
   "metadata": {},
   "outputs": [],
   "source": [
    "df = pd.read_csv(\"data/headlines_vs_DJI.csv\")"
   ]
  },
  {
   "cell_type": "markdown",
   "id": "bac18687-1918-482c-b446-2290bcb01621",
   "metadata": {},
   "source": [
    "# III. Preliminary look at the data"
   ]
  },
  {
   "cell_type": "code",
   "execution_count": 9,
   "id": "e5c8917a-bd50-4e82-b6df-90880aad503f",
   "metadata": {},
   "outputs": [
    {
     "data": {
      "text/html": [
       "<div>\n",
       "<style scoped>\n",
       "    .dataframe tbody tr th:only-of-type {\n",
       "        vertical-align: middle;\n",
       "    }\n",
       "\n",
       "    .dataframe tbody tr th {\n",
       "        vertical-align: top;\n",
       "    }\n",
       "\n",
       "    .dataframe thead th {\n",
       "        text-align: right;\n",
       "    }\n",
       "</style>\n",
       "<table border=\"1\" class=\"dataframe\">\n",
       "  <thead>\n",
       "    <tr style=\"text-align: right;\">\n",
       "      <th></th>\n",
       "      <th>Date</th>\n",
       "      <th>Label</th>\n",
       "      <th>Top1</th>\n",
       "      <th>Top2</th>\n",
       "      <th>Top3</th>\n",
       "      <th>Top4</th>\n",
       "      <th>Top5</th>\n",
       "      <th>Top6</th>\n",
       "      <th>Top7</th>\n",
       "      <th>Top8</th>\n",
       "      <th>...</th>\n",
       "      <th>Top16</th>\n",
       "      <th>Top17</th>\n",
       "      <th>Top18</th>\n",
       "      <th>Top19</th>\n",
       "      <th>Top20</th>\n",
       "      <th>Top21</th>\n",
       "      <th>Top22</th>\n",
       "      <th>Top23</th>\n",
       "      <th>Top24</th>\n",
       "      <th>Top25</th>\n",
       "    </tr>\n",
       "  </thead>\n",
       "  <tbody>\n",
       "    <tr>\n",
       "      <th>0</th>\n",
       "      <td>2008-08-08</td>\n",
       "      <td>0</td>\n",
       "      <td>b\"Georgia 'downs two Russian warplanes' as cou...</td>\n",
       "      <td>b'BREAKING: Musharraf to be impeached.'</td>\n",
       "      <td>b'Russia Today: Columns of troops roll into So...</td>\n",
       "      <td>b'Russian tanks are moving towards the capital...</td>\n",
       "      <td>b\"Afghan children raped with 'impunity,' U.N. ...</td>\n",
       "      <td>b'150 Russian tanks have entered South Ossetia...</td>\n",
       "      <td>b\"Breaking: Georgia invades South Ossetia, Rus...</td>\n",
       "      <td>b\"The 'enemy combatent' trials are nothing but...</td>\n",
       "      <td>...</td>\n",
       "      <td>b'Georgia Invades South Ossetia - if Russia ge...</td>\n",
       "      <td>b'Al-Qaeda Faces Islamist Backlash'</td>\n",
       "      <td>b'Condoleezza Rice: \"The US would not act to p...</td>\n",
       "      <td>b'This is a busy day:  The European Union has ...</td>\n",
       "      <td>b\"Georgia will withdraw 1,000 soldiers from Ir...</td>\n",
       "      <td>b'Why the Pentagon Thinks Attacking Iran is a ...</td>\n",
       "      <td>b'Caucasus in crisis: Georgia invades South Os...</td>\n",
       "      <td>b'Indian shoe manufactory  - And again in a se...</td>\n",
       "      <td>b'Visitors Suffering from Mental Illnesses Ban...</td>\n",
       "      <td>b\"No Help for Mexico's Kidnapping Surge\"</td>\n",
       "    </tr>\n",
       "    <tr>\n",
       "      <th>1</th>\n",
       "      <td>2008-08-11</td>\n",
       "      <td>1</td>\n",
       "      <td>b'Why wont America and Nato help us? If they w...</td>\n",
       "      <td>b'Bush puts foot down on Georgian conflict'</td>\n",
       "      <td>b\"Jewish Georgian minister: Thanks to Israeli ...</td>\n",
       "      <td>b'Georgian army flees in disarray as Russians ...</td>\n",
       "      <td>b\"Olympic opening ceremony fireworks 'faked'\"</td>\n",
       "      <td>b'What were the Mossad with fraudulent New Zea...</td>\n",
       "      <td>b'Russia angered by Israeli military sale to G...</td>\n",
       "      <td>b'An American citizen living in S.Ossetia blam...</td>\n",
       "      <td>...</td>\n",
       "      <td>b'Israel and the US behind the Georgian aggres...</td>\n",
       "      <td>b'\"Do not believe TV, neither Russian nor Geor...</td>\n",
       "      <td>b'Riots are still going on in Montreal (Canada...</td>\n",
       "      <td>b'China to overtake US as largest manufacturer'</td>\n",
       "      <td>b'War in South Ossetia [PICS]'</td>\n",
       "      <td>b'Israeli Physicians Group Condemns State Tort...</td>\n",
       "      <td>b' Russia has just beaten the United States ov...</td>\n",
       "      <td>b'Perhaps *the* question about the Georgia - R...</td>\n",
       "      <td>b'Russia is so much better at war'</td>\n",
       "      <td>b\"So this is what it's come to: trading sex fo...</td>\n",
       "    </tr>\n",
       "    <tr>\n",
       "      <th>2</th>\n",
       "      <td>2008-08-12</td>\n",
       "      <td>0</td>\n",
       "      <td>b'Remember that adorable 9-year-old who sang a...</td>\n",
       "      <td>b\"Russia 'ends Georgia operation'\"</td>\n",
       "      <td>b'\"If we had no sexual harassment we would hav...</td>\n",
       "      <td>b\"Al-Qa'eda is losing support in Iraq because ...</td>\n",
       "      <td>b'Ceasefire in Georgia: Putin Outmaneuvers the...</td>\n",
       "      <td>b'Why Microsoft and Intel tried to kill the XO...</td>\n",
       "      <td>b'Stratfor: The Russo-Georgian War and the Bal...</td>\n",
       "      <td>b\"I'm Trying to Get a Sense of This Whole Geor...</td>\n",
       "      <td>...</td>\n",
       "      <td>b'U.S. troops still in Georgia (did you know t...</td>\n",
       "      <td>b'Why Russias response to Georgia was right'</td>\n",
       "      <td>b'Gorbachev accuses U.S. of making a \"serious ...</td>\n",
       "      <td>b'Russia, Georgia, and NATO: Cold War Two'</td>\n",
       "      <td>b'Remember that adorable 62-year-old who led y...</td>\n",
       "      <td>b'War in Georgia: The Israeli connection'</td>\n",
       "      <td>b'All signs point to the US encouraging Georgi...</td>\n",
       "      <td>b'Christopher King argues that the US and NATO...</td>\n",
       "      <td>b'America: The New Mexico?'</td>\n",
       "      <td>b\"BBC NEWS | Asia-Pacific | Extinction 'by man...</td>\n",
       "    </tr>\n",
       "    <tr>\n",
       "      <th>3</th>\n",
       "      <td>2008-08-13</td>\n",
       "      <td>0</td>\n",
       "      <td>b' U.S. refuses Israel weapons to attack Iran:...</td>\n",
       "      <td>b\"When the president ordered to attack Tskhinv...</td>\n",
       "      <td>b' Israel clears troops who killed Reuters cam...</td>\n",
       "      <td>b'Britain\\'s policy of being tough on drugs is...</td>\n",
       "      <td>b'Body of 14 year old found in trunk; Latest (...</td>\n",
       "      <td>b'China has moved 10 *million* quake survivors...</td>\n",
       "      <td>b\"Bush announces Operation Get All Up In Russi...</td>\n",
       "      <td>b'Russian forces sink Georgian ships '</td>\n",
       "      <td>...</td>\n",
       "      <td>b'Elephants extinct by 2020?'</td>\n",
       "      <td>b'US humanitarian missions soon in Georgia - i...</td>\n",
       "      <td>b\"Georgia's DDOS came from US sources\"</td>\n",
       "      <td>b'Russian convoy heads into Georgia, violating...</td>\n",
       "      <td>b'Israeli defence minister: US against strike ...</td>\n",
       "      <td>b'Gorbachev: We Had No Choice'</td>\n",
       "      <td>b'Witness: Russian forces head towards Tbilisi...</td>\n",
       "      <td>b' Quarter of Russians blame U.S. for conflict...</td>\n",
       "      <td>b'Georgian president  says US military will ta...</td>\n",
       "      <td>b'2006: Nobel laureate Aleksander Solzhenitsyn...</td>\n",
       "    </tr>\n",
       "    <tr>\n",
       "      <th>4</th>\n",
       "      <td>2008-08-14</td>\n",
       "      <td>1</td>\n",
       "      <td>b'All the experts admit that we should legalis...</td>\n",
       "      <td>b'War in South Osetia - 89 pictures made by a ...</td>\n",
       "      <td>b'Swedish wrestler Ara Abrahamian throws away ...</td>\n",
       "      <td>b'Russia exaggerated the death toll in South O...</td>\n",
       "      <td>b'Missile That Killed 9 Inside Pakistan May Ha...</td>\n",
       "      <td>b\"Rushdie Condemns Random House's Refusal to P...</td>\n",
       "      <td>b'Poland and US agree to missle defense deal. ...</td>\n",
       "      <td>b'Will the Russians conquer Tblisi? Bet on it,...</td>\n",
       "      <td>...</td>\n",
       "      <td>b'Bank analyst forecast Georgian crisis 2 days...</td>\n",
       "      <td>b\"Georgia confict could set back Russia's US r...</td>\n",
       "      <td>b'War in the Caucasus is as much the product o...</td>\n",
       "      <td>b'\"Non-media\" photos of South Ossetia/Georgia ...</td>\n",
       "      <td>b'Georgian TV reporter shot by Russian sniper ...</td>\n",
       "      <td>b'Saudi Arabia: Mother moves to block child ma...</td>\n",
       "      <td>b'Taliban wages war on humanitarian aid workers'</td>\n",
       "      <td>b'Russia: World  \"can forget about\" Georgia\\'s...</td>\n",
       "      <td>b'Darfur rebels accuse Sudan of mounting major...</td>\n",
       "      <td>b'Philippines : Peace Advocate say Muslims nee...</td>\n",
       "    </tr>\n",
       "  </tbody>\n",
       "</table>\n",
       "<p>5 rows × 27 columns</p>\n",
       "</div>"
      ],
      "text/plain": [
       "         Date  Label                                               Top1  \\\n",
       "0  2008-08-08      0  b\"Georgia 'downs two Russian warplanes' as cou...   \n",
       "1  2008-08-11      1  b'Why wont America and Nato help us? If they w...   \n",
       "2  2008-08-12      0  b'Remember that adorable 9-year-old who sang a...   \n",
       "3  2008-08-13      0  b' U.S. refuses Israel weapons to attack Iran:...   \n",
       "4  2008-08-14      1  b'All the experts admit that we should legalis...   \n",
       "\n",
       "                                                Top2  \\\n",
       "0            b'BREAKING: Musharraf to be impeached.'   \n",
       "1        b'Bush puts foot down on Georgian conflict'   \n",
       "2                 b\"Russia 'ends Georgia operation'\"   \n",
       "3  b\"When the president ordered to attack Tskhinv...   \n",
       "4  b'War in South Osetia - 89 pictures made by a ...   \n",
       "\n",
       "                                                Top3  \\\n",
       "0  b'Russia Today: Columns of troops roll into So...   \n",
       "1  b\"Jewish Georgian minister: Thanks to Israeli ...   \n",
       "2  b'\"If we had no sexual harassment we would hav...   \n",
       "3  b' Israel clears troops who killed Reuters cam...   \n",
       "4  b'Swedish wrestler Ara Abrahamian throws away ...   \n",
       "\n",
       "                                                Top4  \\\n",
       "0  b'Russian tanks are moving towards the capital...   \n",
       "1  b'Georgian army flees in disarray as Russians ...   \n",
       "2  b\"Al-Qa'eda is losing support in Iraq because ...   \n",
       "3  b'Britain\\'s policy of being tough on drugs is...   \n",
       "4  b'Russia exaggerated the death toll in South O...   \n",
       "\n",
       "                                                Top5  \\\n",
       "0  b\"Afghan children raped with 'impunity,' U.N. ...   \n",
       "1      b\"Olympic opening ceremony fireworks 'faked'\"   \n",
       "2  b'Ceasefire in Georgia: Putin Outmaneuvers the...   \n",
       "3  b'Body of 14 year old found in trunk; Latest (...   \n",
       "4  b'Missile That Killed 9 Inside Pakistan May Ha...   \n",
       "\n",
       "                                                Top6  \\\n",
       "0  b'150 Russian tanks have entered South Ossetia...   \n",
       "1  b'What were the Mossad with fraudulent New Zea...   \n",
       "2  b'Why Microsoft and Intel tried to kill the XO...   \n",
       "3  b'China has moved 10 *million* quake survivors...   \n",
       "4  b\"Rushdie Condemns Random House's Refusal to P...   \n",
       "\n",
       "                                                Top7  \\\n",
       "0  b\"Breaking: Georgia invades South Ossetia, Rus...   \n",
       "1  b'Russia angered by Israeli military sale to G...   \n",
       "2  b'Stratfor: The Russo-Georgian War and the Bal...   \n",
       "3  b\"Bush announces Operation Get All Up In Russi...   \n",
       "4  b'Poland and US agree to missle defense deal. ...   \n",
       "\n",
       "                                                Top8  ...  \\\n",
       "0  b\"The 'enemy combatent' trials are nothing but...  ...   \n",
       "1  b'An American citizen living in S.Ossetia blam...  ...   \n",
       "2  b\"I'm Trying to Get a Sense of This Whole Geor...  ...   \n",
       "3             b'Russian forces sink Georgian ships '  ...   \n",
       "4  b'Will the Russians conquer Tblisi? Bet on it,...  ...   \n",
       "\n",
       "                                               Top16  \\\n",
       "0  b'Georgia Invades South Ossetia - if Russia ge...   \n",
       "1  b'Israel and the US behind the Georgian aggres...   \n",
       "2  b'U.S. troops still in Georgia (did you know t...   \n",
       "3                      b'Elephants extinct by 2020?'   \n",
       "4  b'Bank analyst forecast Georgian crisis 2 days...   \n",
       "\n",
       "                                               Top17  \\\n",
       "0                b'Al-Qaeda Faces Islamist Backlash'   \n",
       "1  b'\"Do not believe TV, neither Russian nor Geor...   \n",
       "2       b'Why Russias response to Georgia was right'   \n",
       "3  b'US humanitarian missions soon in Georgia - i...   \n",
       "4  b\"Georgia confict could set back Russia's US r...   \n",
       "\n",
       "                                               Top18  \\\n",
       "0  b'Condoleezza Rice: \"The US would not act to p...   \n",
       "1  b'Riots are still going on in Montreal (Canada...   \n",
       "2  b'Gorbachev accuses U.S. of making a \"serious ...   \n",
       "3             b\"Georgia's DDOS came from US sources\"   \n",
       "4  b'War in the Caucasus is as much the product o...   \n",
       "\n",
       "                                               Top19  \\\n",
       "0  b'This is a busy day:  The European Union has ...   \n",
       "1    b'China to overtake US as largest manufacturer'   \n",
       "2         b'Russia, Georgia, and NATO: Cold War Two'   \n",
       "3  b'Russian convoy heads into Georgia, violating...   \n",
       "4  b'\"Non-media\" photos of South Ossetia/Georgia ...   \n",
       "\n",
       "                                               Top20  \\\n",
       "0  b\"Georgia will withdraw 1,000 soldiers from Ir...   \n",
       "1                     b'War in South Ossetia [PICS]'   \n",
       "2  b'Remember that adorable 62-year-old who led y...   \n",
       "3  b'Israeli defence minister: US against strike ...   \n",
       "4  b'Georgian TV reporter shot by Russian sniper ...   \n",
       "\n",
       "                                               Top21  \\\n",
       "0  b'Why the Pentagon Thinks Attacking Iran is a ...   \n",
       "1  b'Israeli Physicians Group Condemns State Tort...   \n",
       "2          b'War in Georgia: The Israeli connection'   \n",
       "3                     b'Gorbachev: We Had No Choice'   \n",
       "4  b'Saudi Arabia: Mother moves to block child ma...   \n",
       "\n",
       "                                               Top22  \\\n",
       "0  b'Caucasus in crisis: Georgia invades South Os...   \n",
       "1  b' Russia has just beaten the United States ov...   \n",
       "2  b'All signs point to the US encouraging Georgi...   \n",
       "3  b'Witness: Russian forces head towards Tbilisi...   \n",
       "4   b'Taliban wages war on humanitarian aid workers'   \n",
       "\n",
       "                                               Top23  \\\n",
       "0  b'Indian shoe manufactory  - And again in a se...   \n",
       "1  b'Perhaps *the* question about the Georgia - R...   \n",
       "2  b'Christopher King argues that the US and NATO...   \n",
       "3  b' Quarter of Russians blame U.S. for conflict...   \n",
       "4  b'Russia: World  \"can forget about\" Georgia\\'s...   \n",
       "\n",
       "                                               Top24  \\\n",
       "0  b'Visitors Suffering from Mental Illnesses Ban...   \n",
       "1                 b'Russia is so much better at war'   \n",
       "2                        b'America: The New Mexico?'   \n",
       "3  b'Georgian president  says US military will ta...   \n",
       "4  b'Darfur rebels accuse Sudan of mounting major...   \n",
       "\n",
       "                                               Top25  \n",
       "0           b\"No Help for Mexico's Kidnapping Surge\"  \n",
       "1  b\"So this is what it's come to: trading sex fo...  \n",
       "2  b\"BBC NEWS | Asia-Pacific | Extinction 'by man...  \n",
       "3  b'2006: Nobel laureate Aleksander Solzhenitsyn...  \n",
       "4  b'Philippines : Peace Advocate say Muslims nee...  \n",
       "\n",
       "[5 rows x 27 columns]"
      ]
     },
     "execution_count": 9,
     "metadata": {},
     "output_type": "execute_result"
    }
   ],
   "source": [
    "df.head()"
   ]
  },
  {
   "cell_type": "code",
   "execution_count": 10,
   "id": "380adec5-0c23-4b40-b1db-d84321bcce58",
   "metadata": {},
   "outputs": [
    {
     "data": {
      "text/plain": [
       "Date     object\n",
       "Label     int64\n",
       "Top1     object\n",
       "Top2     object\n",
       "Top3     object\n",
       "Top4     object\n",
       "Top5     object\n",
       "Top6     object\n",
       "Top7     object\n",
       "Top8     object\n",
       "Top9     object\n",
       "Top10    object\n",
       "Top11    object\n",
       "Top12    object\n",
       "Top13    object\n",
       "Top14    object\n",
       "Top15    object\n",
       "Top16    object\n",
       "Top17    object\n",
       "Top18    object\n",
       "Top19    object\n",
       "Top20    object\n",
       "Top21    object\n",
       "Top22    object\n",
       "Top23    object\n",
       "Top24    object\n",
       "Top25    object\n",
       "dtype: object"
      ]
     },
     "execution_count": 10,
     "metadata": {},
     "output_type": "execute_result"
    }
   ],
   "source": [
    "df.dtypes"
   ]
  },
  {
   "cell_type": "code",
   "execution_count": 11,
   "id": "fa285dac-8875-4162-a06d-a9a3259a4b5d",
   "metadata": {},
   "outputs": [],
   "source": [
    "df = df.rename(columns={\"Date\": \"date\", \"Label\": \"label\"})"
   ]
  },
  {
   "cell_type": "code",
   "execution_count": 12,
   "id": "14bc28ee-f3a1-4ffe-865c-e5b61be55fbf",
   "metadata": {},
   "outputs": [],
   "source": [
    "df[\"date\"] = pd.to_datetime(df[\"date\"])"
   ]
  },
  {
   "cell_type": "code",
   "execution_count": 13,
   "id": "0a413100-61a9-491a-b832-ff9f4e86aeee",
   "metadata": {},
   "outputs": [
    {
     "data": {
      "text/html": [
       "<div>\n",
       "<style scoped>\n",
       "    .dataframe tbody tr th:only-of-type {\n",
       "        vertical-align: middle;\n",
       "    }\n",
       "\n",
       "    .dataframe tbody tr th {\n",
       "        vertical-align: top;\n",
       "    }\n",
       "\n",
       "    .dataframe thead th {\n",
       "        text-align: right;\n",
       "    }\n",
       "</style>\n",
       "<table border=\"1\" class=\"dataframe\">\n",
       "  <thead>\n",
       "    <tr style=\"text-align: right;\">\n",
       "      <th></th>\n",
       "      <th>date</th>\n",
       "      <th>label</th>\n",
       "    </tr>\n",
       "  </thead>\n",
       "  <tbody>\n",
       "    <tr>\n",
       "      <th>count</th>\n",
       "      <td>1989</td>\n",
       "      <td>1989.000000</td>\n",
       "    </tr>\n",
       "    <tr>\n",
       "      <th>mean</th>\n",
       "      <td>2012-07-20 11:52:23.891402752</td>\n",
       "      <td>0.535445</td>\n",
       "    </tr>\n",
       "    <tr>\n",
       "      <th>min</th>\n",
       "      <td>2008-08-08 00:00:00</td>\n",
       "      <td>0.000000</td>\n",
       "    </tr>\n",
       "    <tr>\n",
       "      <th>25%</th>\n",
       "      <td>2010-07-30 00:00:00</td>\n",
       "      <td>0.000000</td>\n",
       "    </tr>\n",
       "    <tr>\n",
       "      <th>50%</th>\n",
       "      <td>2012-07-19 00:00:00</td>\n",
       "      <td>1.000000</td>\n",
       "    </tr>\n",
       "    <tr>\n",
       "      <th>75%</th>\n",
       "      <td>2014-07-14 00:00:00</td>\n",
       "      <td>1.000000</td>\n",
       "    </tr>\n",
       "    <tr>\n",
       "      <th>max</th>\n",
       "      <td>2016-07-01 00:00:00</td>\n",
       "      <td>1.000000</td>\n",
       "    </tr>\n",
       "    <tr>\n",
       "      <th>std</th>\n",
       "      <td>NaN</td>\n",
       "      <td>0.498867</td>\n",
       "    </tr>\n",
       "  </tbody>\n",
       "</table>\n",
       "</div>"
      ],
      "text/plain": [
       "                                date        label\n",
       "count                           1989  1989.000000\n",
       "mean   2012-07-20 11:52:23.891402752     0.535445\n",
       "min              2008-08-08 00:00:00     0.000000\n",
       "25%              2010-07-30 00:00:00     0.000000\n",
       "50%              2012-07-19 00:00:00     1.000000\n",
       "75%              2014-07-14 00:00:00     1.000000\n",
       "max              2016-07-01 00:00:00     1.000000\n",
       "std                              NaN     0.498867"
      ]
     },
     "execution_count": 13,
     "metadata": {},
     "output_type": "execute_result"
    }
   ],
   "source": [
    "df[[\"date\", \"label\"]].describe(datetime_is_numeric=True)"
   ]
  },
  {
   "cell_type": "markdown",
   "id": "91944d09-8610-43e3-9f70-6a339408d996",
   "metadata": {},
   "source": [
    "# IV. Data pre-processing"
   ]
  },
  {
   "cell_type": "markdown",
   "id": "223d6c96-fee3-48e9-8823-772806faf29d",
   "metadata": {},
   "source": [
    "There are various different ways to process text. Some methods may be applicable to our use case and others may not! It will be useful to apply some standard text processing functions on the head of randomly selected columns of text in our DataFrame to evaluate each method's utility."
   ]
  },
  {
   "cell_type": "code",
   "execution_count": 14,
   "id": "a2075923-a647-42cf-985c-08f073a82231",
   "metadata": {},
   "outputs": [],
   "source": [
    "# Let's make sure we can see the full string every time\n",
    "pd.set_option('display.max_colwidth', None)"
   ]
  },
  {
   "cell_type": "code",
   "execution_count": 15,
   "id": "2426be34-19c1-4797-8d96-c76e0e1e0a48",
   "metadata": {},
   "outputs": [],
   "source": [
    "def remove_accented_chars(text: str) -> str:\n",
    "    try:\n",
    "        text = unicodedata.normalize('NFKD', text).encode('ascii', 'ignore').decode('utf-8', 'ignore')\n",
    "        return text\n",
    "    except:\n",
    "        print(f\"{text} is causing issues.\")"
   ]
  },
  {
   "cell_type": "code",
   "execution_count": 16,
   "id": "def89ea5-d819-4763-a9b7-d882f6202d53",
   "metadata": {},
   "outputs": [],
   "source": [
    "def replace_contractions(text):\n",
    "    \"\"\"Replace contractions in string of text\"\"\"\n",
    "    return contractions.fix(text)"
   ]
  },
  {
   "cell_type": "code",
   "execution_count": 17,
   "id": "9d0e9eaf-e6e2-4462-811b-f508c2d87d2a",
   "metadata": {},
   "outputs": [],
   "source": [
    "def remove_special_characters(text: str, remove_digits: bool=False) -> str:\n",
    "    pattern = r'[^a-zA-z0-9\\s]' if not remove_digits else r'[^a-zA-z\\s]'\n",
    "    text = re.sub(pattern, '', text)\n",
    "    return text"
   ]
  },
  {
   "cell_type": "code",
   "execution_count": 18,
   "id": "094920ea-4781-4687-ab63-c0856dfe45a9",
   "metadata": {},
   "outputs": [],
   "source": [
    "def remove_stopwords(words: Iterable) -> Iterable:\n",
    "    \"\"\"Remove stop words from list of tokenized words\"\"\"\n",
    "    new_words = []                        # Create empty list to store pre-processed words.\n",
    "    for word in words:\n",
    "        if word not in stopwords.words('english'):\n",
    "            new_words.append(word)        # Append processed words to new list.\n",
    "    return new_words"
   ]
  },
  {
   "cell_type": "markdown",
   "id": "4db0bb57-d21e-4111-ae55-d9035f1ca5bf",
   "metadata": {},
   "source": [
    "**Let us evaluate our pre-processing functions on our DataFrame's Top1 column's head:**"
   ]
  },
  {
   "cell_type": "code",
   "execution_count": 19,
   "id": "a2e1ab48-8ac2-44a7-9666-3166aa434353",
   "metadata": {},
   "outputs": [
    {
     "data": {
      "text/plain": [
       "0                       b\"Georgia 'downs two Russian warplanes' as countries move to brink of war\"\n",
       "1    b'Why wont America and Nato help us? If they wont help us now, why did we help them in Iraq?'\n",
       "2     b'Remember that adorable 9-year-old who sang at the opening ceremonies? That was fake, too.'\n",
       "3                                           b' U.S. refuses Israel weapons to attack Iran: report'\n",
       "4                                          b'All the experts admit that we should legalise drugs '\n",
       "Name: Top1, dtype: object"
      ]
     },
     "execution_count": 19,
     "metadata": {},
     "output_type": "execute_result"
    }
   ],
   "source": [
    "# Original df[\"Top1\"].head()\n",
    "df[\"Top1\"].head()"
   ]
  },
  {
   "cell_type": "code",
   "execution_count": 20,
   "id": "295d5049-1368-4c9a-ac10-f3e2a83c5301",
   "metadata": {},
   "outputs": [
    {
     "data": {
      "text/plain": [
       "0                       b\"Georgia 'downs two Russian warplanes' as countries move to brink of war\"\n",
       "1    b'Why wont America and Nato help us? If they wont help us now, why did we help them in Iraq?'\n",
       "2     b'Remember that adorable 9-year-old who sang at the opening ceremonies? That was fake, too.'\n",
       "3                                           b' U.S. refuses Israel weapons to attack Iran: report'\n",
       "4                                          b'All the experts admit that we should legalise drugs '\n",
       "Name: Top1, dtype: object"
      ]
     },
     "execution_count": 20,
     "metadata": {},
     "output_type": "execute_result"
    }
   ],
   "source": [
    "df[\"Top1\"].head().apply(remove_accented_chars)"
   ]
  },
  {
   "cell_type": "markdown",
   "id": "652c7f47-ba19-4292-a5d2-7efe3da4fca8",
   "metadata": {},
   "source": [
    "**We don't see much impact of the function above on the head of our Top1 series, because there aren't any accented characters in these headlines. Nevertheless, this will be useful processing to do on our text.**"
   ]
  },
  {
   "cell_type": "code",
   "execution_count": 21,
   "id": "0caadf57-58e3-426f-985c-e9aeb2f97e0b",
   "metadata": {},
   "outputs": [
    {
     "data": {
      "text/plain": [
       "0                               b\"Georgia 'downs two Russian warplanes' as countries move to brink of war\"\n",
       "1    b'Why will not America and Nato help us? If they will not help us now, why did we help them in Iraq?'\n",
       "2             b'Remember that adorable 9-year-old who sang at the opening ceremonies? That was fake, too.'\n",
       "3                                                 b' YOU.S. refuses Israel weapons to attack Iran: report'\n",
       "4                                                  b'All the experts admit that we should legalise drugs '\n",
       "Name: Top1, dtype: object"
      ]
     },
     "execution_count": 21,
     "metadata": {},
     "output_type": "execute_result"
    }
   ],
   "source": [
    "df[\"Top1\"].head().apply(replace_contractions)"
   ]
  },
  {
   "cell_type": "markdown",
   "id": "803a0de6-7ae6-4a80-b9ef-2f5953c2c2ad",
   "metadata": {},
   "source": [
    "**We see that replacing contractions has replaced the U in \"U.S\" from the headline in row 4. We could try removing the special characters and see how this holds up.**"
   ]
  },
  {
   "cell_type": "code",
   "execution_count": 22,
   "id": "46905d1e-b052-4758-b5fb-e1f51a440aaa",
   "metadata": {},
   "outputs": [
    {
     "data": {
      "text/plain": [
       "0                      bGeorgia downs two Russian warplanes as countries move to brink of war\n",
       "1    bWhy wont America and Nato help us If they wont help us now why did we help them in Iraq\n",
       "2       bRemember that adorable 9yearold who sang at the opening ceremonies That was fake too\n",
       "3                                           b US refuses Israel weapons to attack Iran report\n",
       "4                                       bAll the experts admit that we should legalise drugs \n",
       "Name: Top1, dtype: object"
      ]
     },
     "execution_count": 22,
     "metadata": {},
     "output_type": "execute_result"
    }
   ],
   "source": [
    "df[\"Top1\"].head().apply(remove_special_characters)"
   ]
  },
  {
   "cell_type": "code",
   "execution_count": 23,
   "id": "ff1869e0-4902-459f-961c-a93d41ff2509",
   "metadata": {},
   "outputs": [
    {
     "data": {
      "text/plain": [
       "0                              bGeorgia downs two Russian warplanes as countries move to brink of war\n",
       "1    bWhy will not America and Nato help us If they will not help us now why did we help them in Iraq\n",
       "2               bRemember that adorable 9yearold who sang at the opening ceremonies That was fake too\n",
       "3                                                   b US refuses Israel weapons to attack Iran report\n",
       "4                                               bAll the experts admit that we should legalise drugs \n",
       "Name: Top1, dtype: object"
      ]
     },
     "execution_count": 23,
     "metadata": {},
     "output_type": "execute_result"
    }
   ],
   "source": [
    "df[\"Top1\"].head().apply(remove_special_characters).apply(replace_contractions)"
   ]
  },
  {
   "cell_type": "markdown",
   "id": "0a14b2b3-5c5d-447e-8f53-ab63460ed68a",
   "metadata": {},
   "source": [
    "**This works, but it will be useful to replace hyphens with a space. Otherwise, the text that is split by hyphens would probably be bunched up together, similar to how \"9-year-old\" has become \"9yearold\" in headline #3. In addition, we need to do something about the \"b\" that is at the beginning of many of these headlines.**"
   ]
  },
  {
   "cell_type": "code",
   "execution_count": 24,
   "id": "58d1b296-7ddd-413c-954c-5fd813063024",
   "metadata": {},
   "outputs": [],
   "source": [
    "def replace_hyphen_with_space(text: str) -> str:\n",
    "    return text.replace(\"-\", \" \")"
   ]
  },
  {
   "cell_type": "code",
   "execution_count": 25,
   "id": "5fa2375f-2533-4893-896d-e389219b4aac",
   "metadata": {},
   "outputs": [
    {
     "data": {
      "text/plain": [
       "0                       b\"Georgia 'downs two Russian warplanes' as countries move to brink of war\"\n",
       "1    b'Why wont America and Nato help us? If they wont help us now, why did we help them in Iraq?'\n",
       "2     b'Remember that adorable 9 year old who sang at the opening ceremonies? That was fake, too.'\n",
       "3                                           b' U.S. refuses Israel weapons to attack Iran: report'\n",
       "4                                          b'All the experts admit that we should legalise drugs '\n",
       "Name: Top1, dtype: object"
      ]
     },
     "execution_count": 25,
     "metadata": {},
     "output_type": "execute_result"
    }
   ],
   "source": [
    "df[\"Top1\"].head().apply(replace_hyphen_with_space)"
   ]
  },
  {
   "cell_type": "code",
   "execution_count": 26,
   "id": "2cf05a15-a065-4980-aca7-3be108a21081",
   "metadata": {},
   "outputs": [],
   "source": [
    "def remove_unnecessary_prefix_from_headlines(text: str) -> str:\n",
    "    if (\"b\\\"\" == text[0:2]) or (\"b\\'\" == text[0:2]):\n",
    "        return text[2:]\n",
    "    else:\n",
    "        return text"
   ]
  },
  {
   "cell_type": "markdown",
   "id": "c51db2ac-0bee-49ac-838a-75b4b4b68ccf",
   "metadata": {},
   "source": [
    "**Note that our assumption in the function above is that the first two characters are b\" or b'. So, we will need to strip any preceding whitespaces before running this function.**"
   ]
  },
  {
   "cell_type": "code",
   "execution_count": 27,
   "id": "b371ec48-3dee-44df-9e7e-1291ca07207b",
   "metadata": {},
   "outputs": [
    {
     "data": {
      "text/plain": [
       "0                       Georgia 'downs two Russian warplanes' as countries move to brink of war\"\n",
       "1    Why wont America and Nato help us? If they wont help us now, why did we help them in Iraq?'\n",
       "2     Remember that adorable 9-year-old who sang at the opening ceremonies? That was fake, too.'\n",
       "3                                            U.S. refuses Israel weapons to attack Iran: report'\n",
       "4                                          All the experts admit that we should legalise drugs '\n",
       "Name: Top1, dtype: object"
      ]
     },
     "execution_count": 27,
     "metadata": {},
     "output_type": "execute_result"
    }
   ],
   "source": [
    "df[\"Top1\"].head().str.lstrip().apply(remove_unnecessary_prefix_from_headlines)"
   ]
  },
  {
   "cell_type": "markdown",
   "id": "3bb57d7c-140e-4cfa-baf2-63cbc6effcad",
   "metadata": {},
   "source": [
    "**Similar to removing these prefixes, it would be good to remove the \"'s\" that stems that indicates that something belongs to the noun it is being applied on.**"
   ]
  },
  {
   "cell_type": "code",
   "execution_count": 28,
   "id": "e3468ae9-080e-44fc-94be-c342049b3f0e",
   "metadata": {},
   "outputs": [],
   "source": [
    "def remove_possessive_s(text: str) -> str:\n",
    "    return text.replace(\"\\'s\", \"\")"
   ]
  },
  {
   "cell_type": "markdown",
   "id": "6dcc9d0c-cd7d-4650-951c-6454e1e73d75",
   "metadata": {},
   "source": [
    "**Let us also standardise country names. For example, it would be good to replace \"US\" with \"america\" after removing all the punctuation**"
   ]
  },
  {
   "cell_type": "code",
   "execution_count": 29,
   "id": "1531e1e1-cb9c-49fd-bc29-d8c103dd7052",
   "metadata": {},
   "outputs": [],
   "source": [
    "def standardise_country_names(text: str) -> str:\n",
    "    text = text.replace(\"US\", \"america\")\n",
    "    text = text.replace(\"UK\", \"britain\")\n",
    "    text = text.lower().replace(\"great britain\", \"britain\")\n",
    "    \n",
    "    return text"
   ]
  },
  {
   "cell_type": "markdown",
   "id": "4bfcf8da-a4ff-4165-9d46-cd9e0a8ba880",
   "metadata": {},
   "source": [
    "**Getting headlines from different geographies means that we should also standardise our spelling. Let us change everything to UK style.**"
   ]
  },
  {
   "cell_type": "code",
   "execution_count": 30,
   "id": "79d2dd55-3174-4681-a480-fe97acec72c6",
   "metadata": {},
   "outputs": [],
   "source": [
    "url =\"https://raw.githubusercontent.com/hyperreality/American-British-English-Translator/master/data/american_spellings.json\"\n",
    "american_to_british_dict = requests.get(url).json() "
   ]
  },
  {
   "cell_type": "code",
   "execution_count": 31,
   "id": "e8a7538e-c74a-46b3-8b51-96d0d8afea98",
   "metadata": {},
   "outputs": [],
   "source": [
    "def text_to_british_spelling(text: str, american_to_british_dict: dict) -> str:\n",
    "    for american_spelling, british_spelling in american_to_british_dict.items():\n",
    "        text = text.replace(american_spelling, british_spelling)\n",
    "  \n",
    "    return text"
   ]
  },
  {
   "cell_type": "markdown",
   "id": "5b7d24e3-0b90-4b06-ad81-1e1390d8580a",
   "metadata": {},
   "source": [
    "**Pre-processing text prior to stemming / lemmatisation**"
   ]
  },
  {
   "cell_type": "code",
   "execution_count": 32,
   "id": "50b38dbf-493f-4bd0-b4e1-c7ae51c22276",
   "metadata": {},
   "outputs": [],
   "source": [
    "def normalise_text(text_series: pd.Series) -> pd.Series:\n",
    "    text_series = text_series.apply(remove_accented_chars)\n",
    "    text_series = text_series.str.lstrip().apply(remove_unnecessary_prefix_from_headlines)\n",
    "    text_series = text_series.apply(replace_hyphen_with_space)\n",
    "    text_series = text_series.apply(remove_possessive_s)\n",
    "    text_series = text_series.apply(remove_special_characters)\n",
    "    text_series = text_series.apply(replace_contractions)\n",
    "    text_series = text_series.apply(standardise_country_names)\n",
    "    text_series = text_series.str.lower()\n",
    "    text_series = text_series.apply(partial(text_to_british_spelling, american_to_british_dict = american_to_british_dict))\n",
    "    text_series = text_series.apply(word_tokenize).apply(remove_stopwords)\n",
    "    \n",
    "    return text_series"
   ]
  },
  {
   "cell_type": "code",
   "execution_count": 33,
   "id": "7f2dc40f-e602-46a5-ba8d-67691d8bb2df",
   "metadata": {},
   "outputs": [
    {
     "data": {
      "text/plain": [
       "0    [georgia, downs, two, russian, warplanes, countries, move, brink, war]\n",
       "1                           [america, nato, help, us, help, us, help, iraq]\n",
       "2       [remember, adorable, 9, year, old, sang, opening, ceremonies, fake]\n",
       "3                 [america, refuses, israel, weapons, attack, iran, report]\n",
       "4                                         [experts, admit, legalise, drugs]\n",
       "Name: Top1, dtype: object"
      ]
     },
     "execution_count": 33,
     "metadata": {},
     "output_type": "execute_result"
    }
   ],
   "source": [
    "normalised_text = normalise_text(df[\"Top1\"].head())\n",
    "normalised_text"
   ]
  },
  {
   "cell_type": "markdown",
   "id": "d1541782-f2d4-43c2-b44f-1753ed405280",
   "metadata": {},
   "source": [
    "**Stemming vs Lemmatisation: which one do we use?**\n",
    "\n",
    "The answer is clearly lemmatisation (from the examples shown below)."
   ]
  },
  {
   "cell_type": "code",
   "execution_count": 34,
   "id": "b0d5330f-4c7f-40bf-968e-ce2946cb110c",
   "metadata": {},
   "outputs": [],
   "source": [
    "def stem_words(text_series: pd.Series) -> pd.Series:\n",
    "    \"\"\"Stem words in list of tokenized words\"\"\"\n",
    "    stemmer = LancasterStemmer()\n",
    "    \n",
    "    return text_series.apply(lambda x: [stemmer.stem(y) for y in x])"
   ]
  },
  {
   "cell_type": "code",
   "execution_count": 35,
   "id": "6ca81a83-06f3-41ea-b1fb-b7ba26d743c3",
   "metadata": {},
   "outputs": [
    {
     "data": {
      "text/plain": [
       "0    [georg, down, two, russ, warpl, country, mov, brink, war]\n",
       "1               [americ, nato, help, us, help, us, help, iraq]\n",
       "2          [rememb, ad, 9, year, old, sang, op, ceremony, fak]\n",
       "3          [americ, refus, israel, weapon, attack, ir, report]\n",
       "4                                   [expert, admit, leg, drug]\n",
       "Name: Top1, dtype: object"
      ]
     },
     "execution_count": 35,
     "metadata": {},
     "output_type": "execute_result"
    }
   ],
   "source": [
    "stem_words(normalised_text)"
   ]
  },
  {
   "cell_type": "code",
   "execution_count": 36,
   "id": "68b1cf83-6fab-4ff4-bf1b-686318fde59c",
   "metadata": {},
   "outputs": [],
   "source": [
    "def lemmatize_verbs(text_series: Iterable) -> Iterable:\n",
    "    \"\"\"Lemmatize verbs in list of tokenized words\"\"\"\n",
    "    lemmatizer = WordNetLemmatizer()    \n",
    "    return text_series.apply(lambda x: [lemmatizer.lemmatize(y, pos='v') for y in x])"
   ]
  },
  {
   "cell_type": "code",
   "execution_count": 37,
   "id": "4cd45214-c4a1-4731-be6d-a232d7d8b6d6",
   "metadata": {},
   "outputs": [
    {
     "data": {
      "text/plain": [
       "0    [georgia, down, two, russian, warplanes, countries, move, brink, war]\n",
       "1                          [america, nato, help, us, help, us, help, iraq]\n",
       "2         [remember, adorable, 9, year, old, sing, open, ceremonies, fake]\n",
       "3                 [america, refuse, israel, weapons, attack, iran, report]\n",
       "4                                         [experts, admit, legalise, drug]\n",
       "Name: Top1, dtype: object"
      ]
     },
     "execution_count": 37,
     "metadata": {},
     "output_type": "execute_result"
    }
   ],
   "source": [
    "lemmatize_verbs(normalised_text)"
   ]
  },
  {
   "cell_type": "markdown",
   "id": "236d74c1-ae25-4227-a179-8b05398183e4",
   "metadata": {},
   "source": [
    "**Now that we have a decent set of pre-processing steps, let us apply this to samples from other columns of our df.**"
   ]
  },
  {
   "cell_type": "code",
   "execution_count": 38,
   "id": "88988c40-2eff-4d46-9d4e-f4b80053566e",
   "metadata": {},
   "outputs": [
    {
     "name": "stdout",
     "output_type": "stream",
     "text": [
      "Original text:\n",
      "0                                                                                                             b'BREAKING: Musharraf to be impeached.'\n",
      "1                                                                                                         b'Bush puts foot down on Georgian conflict'\n",
      "2                                                                                                                  b\"Russia 'ends Georgia operation'\"\n",
      "3    b\"When the president ordered to attack Tskhinvali [the capital of South Ossetia], we knew then we were doomed. How come he didn't realize that?\"\n",
      "4                                                                                     b'War in South Osetia - 89 pictures made by a Russian soldier.'\n",
      "Name: Top2, dtype: object\n",
      "\n",
      "\n",
      "Processed text:\n"
     ]
    },
    {
     "data": {
      "text/plain": [
       "0                                                                         [break, musharraf, impeach]\n",
       "1                                                               [bush, put, foot, georgian, conflict]\n",
       "2                                                                   [russia, end, georgia, operation]\n",
       "3    [president, order, attack, tskhinvali, [, capital, south, ossetia, ], know, doom, come, realise]\n",
       "4                                           [war, south, osetia, 89, picture, make, russian, soldier]\n",
       "Name: Top2, dtype: object"
      ]
     },
     "execution_count": 38,
     "metadata": {},
     "output_type": "execute_result"
    }
   ],
   "source": [
    "print(\"Original text:\")\n",
    "print(df[\"Top2\"].head())\n",
    "print(\"\\n\")\n",
    "print(\"Processed text:\")\n",
    "lemmatize_verbs(normalise_text(df[\"Top2\"].head()))"
   ]
  },
  {
   "cell_type": "code",
   "execution_count": 39,
   "id": "cb3a372d-39cf-48fb-8016-da1c70b9c59c",
   "metadata": {},
   "outputs": [
    {
     "name": "stdout",
     "output_type": "stream",
     "text": [
      "Original text:\n",
      "0    b'Russia Today: Columns of troops roll into South Ossetia; footage from fighting (YouTube)'\n",
      "1             b\"Jewish Georgian minister: Thanks to Israeli training, we're fending off Russia \"\n",
      "2                               b'\"If we had no sexual harassment we would have no children...\"'\n",
      "3                                          b' Israel clears troops who killed Reuters cameraman'\n",
      "4                     b'Swedish wrestler Ara Abrahamian throws away medal in Olympic hissy fit '\n",
      "Name: Top3, dtype: object\n",
      "\n",
      "\n",
      "Processed text:\n"
     ]
    },
    {
     "data": {
      "text/plain": [
       "0    [russia, today, columns, troop, roll, south, ossetia, footage, fight, youtube]\n",
       "1                 [jewish, georgian, minister, thank, israeli, train, fend, russia]\n",
       "2                                             [sexual, harassment, would, children]\n",
       "3                                  [israel, clear, troop, kill, reuters, cameraman]\n",
       "4     [swedish, wrestler, ara, abrahamian, throw, away, medal, olympic, hissy, fit]\n",
       "Name: Top3, dtype: object"
      ]
     },
     "execution_count": 39,
     "metadata": {},
     "output_type": "execute_result"
    }
   ],
   "source": [
    "print(\"Original text:\")\n",
    "print(df[\"Top3\"].head())\n",
    "print(\"\\n\")\n",
    "print(\"Processed text:\")\n",
    "lemmatize_verbs(normalise_text(df[\"Top3\"].head()))"
   ]
  },
  {
   "cell_type": "code",
   "execution_count": 40,
   "id": "489530f7-11b2-4960-bdbd-38eb68d1bee9",
   "metadata": {},
   "outputs": [
    {
     "name": "stdout",
     "output_type": "stream",
     "text": [
      "Original text:\n",
      "0                                                                       b'Did World War III start today?'\n",
      "1                                       b'The French Team is Stunned by Phelps and the 4x100m Relay Team'\n",
      "2                                                                 b'The 11 Top Party Cities in the World'\n",
      "3                                                            b'Why Russias response to Georgia was right'\n",
      "4    b'Russia apparently is sabotaging infrastructure to cripple the already battered Georgian military.'\n",
      "Name: Top15, dtype: object\n",
      "\n",
      "\n",
      "Processed text:\n"
     ]
    },
    {
     "data": {
      "text/plain": [
       "0                                                                 [world, war, iii, start, today]\n",
       "1                                               [french, team, stun, phelps, 4x100m, relay, team]\n",
       "2                                                                 [11, top, party, cities, world]\n",
       "3                                                             [russias, response, georgia, right]\n",
       "4    [russia, apparently, sabotage, infrastructure, cripple, already, batter, georgian, military]\n",
       "Name: Top15, dtype: object"
      ]
     },
     "execution_count": 40,
     "metadata": {},
     "output_type": "execute_result"
    }
   ],
   "source": [
    "print(\"Original text:\")\n",
    "print(df[\"Top15\"].head())\n",
    "print(\"\\n\")\n",
    "print(\"Processed text:\")\n",
    "lemmatize_verbs(normalise_text(df[\"Top15\"].head()))"
   ]
  },
  {
   "cell_type": "code",
   "execution_count": 41,
   "id": "06cb8dce-b7fc-4348-8101-f127e3b36668",
   "metadata": {},
   "outputs": [
    {
     "name": "stdout",
     "output_type": "stream",
     "text": [
      "Original text:\n",
      "0                                                         b\"No Help for Mexico's Kidnapping Surge\"\n",
      "1                                           b\"So this is what it's come to: trading sex for food.\"\n",
      "2                                     b\"BBC NEWS | Asia-Pacific | Extinction 'by man not climate'\"\n",
      "3          b'2006: Nobel laureate Aleksander Solzhenitsyn accuses U.S., NATO of encircling Russia'\n",
      "4    b'Philippines : Peace Advocate say Muslims need assurance Christians not out to convert them'\n",
      "Name: Top25, dtype: object\n",
      "\n",
      "\n",
      "Processed text:\n"
     ]
    },
    {
     "data": {
      "text/plain": [
       "0                                                                 [help, mexico, kidnap, surge]\n",
       "1                                                                      [come, trade, sex, food]\n",
       "2                                          [bbc, news, asia, pacific, extinction, man, climate]\n",
       "3    [2006, nobel, laureate, aleksander, solzhenitsyn, accuse, america, nato, encircle, russia]\n",
       "4            [philippines, peace, advocate, say, muslims, need, assurance, christians, convert]\n",
       "Name: Top25, dtype: object"
      ]
     },
     "execution_count": 41,
     "metadata": {},
     "output_type": "execute_result"
    }
   ],
   "source": [
    "print(\"Original text:\")\n",
    "print(df[\"Top25\"].head())\n",
    "print(\"\\n\")\n",
    "print(\"Processed text:\")\n",
    "lemmatize_verbs(normalise_text(df[\"Top25\"].head()))"
   ]
  },
  {
   "cell_type": "markdown",
   "id": "ae4452ea-cd5f-4c18-97c9-855d42dc1c51",
   "metadata": {},
   "source": [
    "**From a quick look at the processed text, it looks like we've done a good job in removing many of the unnecessary text that could serve as noise for our model. There is still some irrelevant text in our headlines though (like news channel names like BBC).**\n",
    "\n",
    "How do we deal with the problem above? We could add them to a list of unnecessary words that we could remove (similar to how we got rid of stop-words). However, we are only able to see a fraction of words that are not useful. This means that we can't be comprehensive enough if we keep adding one word at a time to this list. \n",
    "\n",
    "Is there some way we could generalise this to add a large set of words that are (for the most part) not necessary?\n",
    "- Are country names necessary for the model to detect sentiment? \n",
    "- Are news channel names relevant (even if the headlines is about the news channel)? \n",
    "\n",
    "These are potential considerations to help tune our model. But for now, let us see how good our model can be with our current level of pre-processing!"
   ]
  },
  {
   "cell_type": "code",
   "execution_count": 42,
   "id": "edbffba0-2947-4c3e-8545-2fe0c97a1163",
   "metadata": {},
   "outputs": [
    {
     "data": {
      "text/html": [
       "<div>\n",
       "<style scoped>\n",
       "    .dataframe tbody tr th:only-of-type {\n",
       "        vertical-align: middle;\n",
       "    }\n",
       "\n",
       "    .dataframe tbody tr th {\n",
       "        vertical-align: top;\n",
       "    }\n",
       "\n",
       "    .dataframe thead th {\n",
       "        text-align: right;\n",
       "    }\n",
       "</style>\n",
       "<table border=\"1\" class=\"dataframe\">\n",
       "  <thead>\n",
       "    <tr style=\"text-align: right;\">\n",
       "      <th></th>\n",
       "      <th>date</th>\n",
       "      <th>label</th>\n",
       "      <th>Top1</th>\n",
       "      <th>Top2</th>\n",
       "      <th>Top3</th>\n",
       "      <th>Top4</th>\n",
       "      <th>Top5</th>\n",
       "      <th>Top6</th>\n",
       "      <th>Top7</th>\n",
       "      <th>Top8</th>\n",
       "      <th>...</th>\n",
       "      <th>Top16</th>\n",
       "      <th>Top17</th>\n",
       "      <th>Top18</th>\n",
       "      <th>Top19</th>\n",
       "      <th>Top20</th>\n",
       "      <th>Top21</th>\n",
       "      <th>Top22</th>\n",
       "      <th>Top23</th>\n",
       "      <th>Top24</th>\n",
       "      <th>Top25</th>\n",
       "    </tr>\n",
       "  </thead>\n",
       "  <tbody>\n",
       "    <tr>\n",
       "      <th>0</th>\n",
       "      <td>2008-08-08</td>\n",
       "      <td>0</td>\n",
       "      <td>b\"Georgia 'downs two Russian warplanes' as countries move to brink of war\"</td>\n",
       "      <td>b'BREAKING: Musharraf to be impeached.'</td>\n",
       "      <td>b'Russia Today: Columns of troops roll into South Ossetia; footage from fighting (YouTube)'</td>\n",
       "      <td>b'Russian tanks are moving towards the capital of South Ossetia, which has reportedly been completely destroyed by Georgian artillery fire'</td>\n",
       "      <td>b\"Afghan children raped with 'impunity,' U.N. official says - this is sick, a three year old was raped and they do nothing\"</td>\n",
       "      <td>b'150 Russian tanks have entered South Ossetia whilst Georgia shoots down two Russian jets.'</td>\n",
       "      <td>b\"Breaking: Georgia invades South Ossetia, Russia warned it would intervene on SO's side\"</td>\n",
       "      <td>b\"The 'enemy combatent' trials are nothing but a sham: Salim Haman has been sentenced to 5 1/2 years, but will be kept longer anyway just because they feel like it.\"</td>\n",
       "      <td>...</td>\n",
       "      <td>b'Georgia Invades South Ossetia - if Russia gets involved, will NATO absorb Georgia and unleash a full scale war?'</td>\n",
       "      <td>b'Al-Qaeda Faces Islamist Backlash'</td>\n",
       "      <td>b'Condoleezza Rice: \"The US would not act to prevent an Israeli strike on Iran.\" Israeli Defense Minister Ehud Barak: \"Israel is prepared for uncompromising victory in the case of military hostilities.\"'</td>\n",
       "      <td>b'This is a busy day:  The European Union has approved new sanctions against Iran in protest at its nuclear programme.'</td>\n",
       "      <td>b\"Georgia will withdraw 1,000 soldiers from Iraq to help fight off Russian forces in Georgia's breakaway region of South Ossetia\"</td>\n",
       "      <td>b'Why the Pentagon Thinks Attacking Iran is a Bad Idea - US News &amp;amp; World Report'</td>\n",
       "      <td>b'Caucasus in crisis: Georgia invades South Ossetia'</td>\n",
       "      <td>b'Indian shoe manufactory  - And again in a series of \"you do not like your work?\"'</td>\n",
       "      <td>b'Visitors Suffering from Mental Illnesses Banned from Olympics'</td>\n",
       "      <td>b\"No Help for Mexico's Kidnapping Surge\"</td>\n",
       "    </tr>\n",
       "  </tbody>\n",
       "</table>\n",
       "<p>1 rows × 27 columns</p>\n",
       "</div>"
      ],
      "text/plain": [
       "        date  label  \\\n",
       "0 2008-08-08      0   \n",
       "\n",
       "                                                                         Top1  \\\n",
       "0  b\"Georgia 'downs two Russian warplanes' as countries move to brink of war\"   \n",
       "\n",
       "                                      Top2  \\\n",
       "0  b'BREAKING: Musharraf to be impeached.'   \n",
       "\n",
       "                                                                                          Top3  \\\n",
       "0  b'Russia Today: Columns of troops roll into South Ossetia; footage from fighting (YouTube)'   \n",
       "\n",
       "                                                                                                                                          Top4  \\\n",
       "0  b'Russian tanks are moving towards the capital of South Ossetia, which has reportedly been completely destroyed by Georgian artillery fire'   \n",
       "\n",
       "                                                                                                                          Top5  \\\n",
       "0  b\"Afghan children raped with 'impunity,' U.N. official says - this is sick, a three year old was raped and they do nothing\"   \n",
       "\n",
       "                                                                                           Top6  \\\n",
       "0  b'150 Russian tanks have entered South Ossetia whilst Georgia shoots down two Russian jets.'   \n",
       "\n",
       "                                                                                        Top7  \\\n",
       "0  b\"Breaking: Georgia invades South Ossetia, Russia warned it would intervene on SO's side\"   \n",
       "\n",
       "                                                                                                                                                                    Top8  \\\n",
       "0  b\"The 'enemy combatent' trials are nothing but a sham: Salim Haman has been sentenced to 5 1/2 years, but will be kept longer anyway just because they feel like it.\"   \n",
       "\n",
       "   ...  \\\n",
       "0  ...   \n",
       "\n",
       "                                                                                                                Top16  \\\n",
       "0  b'Georgia Invades South Ossetia - if Russia gets involved, will NATO absorb Georgia and unleash a full scale war?'   \n",
       "\n",
       "                                 Top17  \\\n",
       "0  b'Al-Qaeda Faces Islamist Backlash'   \n",
       "\n",
       "                                                                                                                                                                                                         Top18  \\\n",
       "0  b'Condoleezza Rice: \"The US would not act to prevent an Israeli strike on Iran.\" Israeli Defense Minister Ehud Barak: \"Israel is prepared for uncompromising victory in the case of military hostilities.\"'   \n",
       "\n",
       "                                                                                                                     Top19  \\\n",
       "0  b'This is a busy day:  The European Union has approved new sanctions against Iran in protest at its nuclear programme.'   \n",
       "\n",
       "                                                                                                                               Top20  \\\n",
       "0  b\"Georgia will withdraw 1,000 soldiers from Iraq to help fight off Russian forces in Georgia's breakaway region of South Ossetia\"   \n",
       "\n",
       "                                                                                  Top21  \\\n",
       "0  b'Why the Pentagon Thinks Attacking Iran is a Bad Idea - US News &amp; World Report'   \n",
       "\n",
       "                                                  Top22  \\\n",
       "0  b'Caucasus in crisis: Georgia invades South Ossetia'   \n",
       "\n",
       "                                                                                 Top23  \\\n",
       "0  b'Indian shoe manufactory  - And again in a series of \"you do not like your work?\"'   \n",
       "\n",
       "                                                              Top24  \\\n",
       "0  b'Visitors Suffering from Mental Illnesses Banned from Olympics'   \n",
       "\n",
       "                                      Top25  \n",
       "0  b\"No Help for Mexico's Kidnapping Surge\"  \n",
       "\n",
       "[1 rows x 27 columns]"
      ]
     },
     "execution_count": 42,
     "metadata": {},
     "output_type": "execute_result"
    }
   ],
   "source": [
    "df.head(1)"
   ]
  },
  {
   "cell_type": "code",
   "execution_count": 43,
   "id": "b1831335-4d42-4145-8a29-ececa7054d30",
   "metadata": {},
   "outputs": [
    {
     "data": {
      "text/plain": [
       "0                                                             [afghan, children, raped, impunity, un, official, says, sick, three, year, old, raped, nothing]\n",
       "1                                                                                                              [olympic, opening, ceremony, fireworks, faked]\n",
       "2                                                                                                            [ceasefire, georgia, putin, outmanoeuvres, west]\n",
       "3       [body, 14, year, old, found, trunk, latest, ransom, paid, kidnapping, victim, mexico, head, cop, quits, prez, dissolves, suspect, elite, task, force]\n",
       "4                                                                                                  [missile, killed, 9, inside, pakistan, may, launched, cia]\n",
       "                                                                                ...                                                                          \n",
       "1984                                                                                                        [scotland, welcome, join, eu, merkel, ally, says]\n",
       "1985                                                             [ceo, south, african, state, broadcaster, quits, shortly, negative, news, president, banned]\n",
       "1986                                                               [british, labour, party, leader, jeremy, corbyn, loses, confidence, vote, refuses, resign]\n",
       "1987                                                                [switzerland, denies, citizenship, muslim, immigrant, girls, refused, swim, boys, report]\n",
       "1988                                                                                          [100, nobel, laureates, urge, greenpeace, stop, opposing, gmos]\n",
       "Name: Top5, Length: 1989, dtype: object"
      ]
     },
     "execution_count": 43,
     "metadata": {},
     "output_type": "execute_result"
    }
   ],
   "source": [
    "normalise_text(df[\"Top5\"])"
   ]
  },
  {
   "cell_type": "code",
   "execution_count": 45,
   "id": "9518c1f8-7dd4-430c-9e54-eae27082f67a",
   "metadata": {},
   "outputs": [],
   "source": [
    "df = df.fillna(\"\")"
   ]
  },
  {
   "cell_type": "code",
   "execution_count": 47,
   "id": "7c22fe61-90d2-4f30-922b-58fa40d55d90",
   "metadata": {},
   "outputs": [],
   "source": [
    "processed_df = df.drop(columns=[\"label\", \"date\"]).apply(normalise_text, axis=1)"
   ]
  },
  {
   "cell_type": "code",
   "execution_count": 49,
   "id": "7ad5ba04-190a-45de-9742-c43535f66369",
   "metadata": {},
   "outputs": [
    {
     "data": {
      "text/plain": [
       "['cuban',\n",
       " 'president',\n",
       " 'ral',\n",
       " 'castro',\n",
       " 'willing',\n",
       " 'hold',\n",
       " 'limits',\n",
       " 'talks',\n",
       " 'america']"
      ]
     },
     "execution_count": 49,
     "metadata": {},
     "output_type": "execute_result"
    }
   ],
   "source": [
    "processed_df.loc[1000, \"Top1\"]"
   ]
  },
  {
   "cell_type": "code",
   "execution_count": 75,
   "id": "c168636d-2025-482b-bec1-7832c9602220",
   "metadata": {},
   "outputs": [],
   "source": [
    "# for col in processed_df.columns:\n",
    "#     if col == \"Top1\":\n",
    "#         all_headlines = processed_df[col]\n",
    "#     else:\n",
    "#         all_headlines += processed_df[col]"
   ]
  },
  {
   "cell_type": "markdown",
   "id": "7d31a338-f6cd-4d5d-8ef0-1acc5f5d31a7",
   "metadata": {},
   "source": [
    "# SCRATCH"
   ]
  },
  {
   "cell_type": "code",
   "execution_count": 123,
   "id": "ead32cdf-a60d-4f10-b46c-aa5ae945f987",
   "metadata": {},
   "outputs": [
    {
     "name": "stderr",
     "output_type": "stream",
     "text": [
      "/tmp/ipykernel_45040/3128458170.py:14: SettingWithCopyWarning: \n",
      "A value is trying to be set on a copy of a slice from a DataFrame.\n",
      "Try using .loc[row_indexer,col_indexer] = value instead\n",
      "\n",
      "See the caveats in the documentation: https://pandas.pydata.org/pandas-docs/stable/user_guide/indexing.html#returning-a-view-versus-a-copy\n",
      "  stats[\"up\"] = up\n",
      "/tmp/ipykernel_45040/3128458170.py:15: SettingWithCopyWarning: \n",
      "A value is trying to be set on a copy of a slice from a DataFrame.\n",
      "Try using .loc[row_indexer,col_indexer] = value instead\n",
      "\n",
      "See the caveats in the documentation: https://pandas.pydata.org/pandas-docs/stable/user_guide/indexing.html#returning-a-view-versus-a-copy\n",
      "  stats[\"neutral\"] = neutral\n",
      "/tmp/ipykernel_45040/3128458170.py:16: SettingWithCopyWarning: \n",
      "A value is trying to be set on a copy of a slice from a DataFrame.\n",
      "Try using .loc[row_indexer,col_indexer] = value instead\n",
      "\n",
      "See the caveats in the documentation: https://pandas.pydata.org/pandas-docs/stable/user_guide/indexing.html#returning-a-view-versus-a-copy\n",
      "  stats[\"down\"] = down\n"
     ]
    }
   ],
   "source": [
    "# sid = SentimentIntensityAnalyzer()\n",
    "# up = []\n",
    "# neutral = []\n",
    "# down = []\n",
    "\n",
    "# for i in range(len(processed_df)):\n",
    "#     t=processed_df.iloc[i].apply(lambda headline: sid.polarity_scores(\" \".join(headline))) \n",
    "#     q=t.apply(lambda scores: scores[\"compound\"])\n",
    "#     up += [len(q[q>0])]\n",
    "#     neutral += [len(q[q==0])]\n",
    "#     down += [len(q[q<0])]\n",
    "    \n",
    "# stats = df[[\"date\", \"label\"]]\n",
    "# stats[\"up\"] = up\n",
    "# stats[\"neutral\"] = neutral\n",
    "# stats[\"down\"] = down"
   ]
  },
  {
   "cell_type": "code",
   "execution_count": 81,
   "id": "99cfe151-aab6-402d-9c0d-4368308de626",
   "metadata": {},
   "outputs": [],
   "source": [
    "final_df = pd.DataFrame(df[\"label\"])\n",
    "final_df = final_df.assign(headlines = all_headlines)"
   ]
  },
  {
   "cell_type": "code",
   "execution_count": 90,
   "id": "8243df0a-69b2-4fc5-90a3-22e9805032bb",
   "metadata": {},
   "outputs": [],
   "source": [
    "final_df[\"headlines\"] = final_df[\"headlines\"].str.join(\" \")"
   ]
  },
  {
   "cell_type": "code",
   "execution_count": 159,
   "id": "dc472c76-e092-4952-89e2-d9ebfc37de74",
   "metadata": {},
   "outputs": [
    {
     "ename": "NameError",
     "evalue": "name 'final_df' is not defined",
     "output_type": "error",
     "traceback": [
      "\u001b[0;31m---------------------------------------------------------------------------\u001b[0m",
      "\u001b[0;31mNameError\u001b[0m                                 Traceback (most recent call last)",
      "Input \u001b[0;32mIn [159]\u001b[0m, in \u001b[0;36m<cell line: 1>\u001b[0;34m()\u001b[0m\n\u001b[0;32m----> 1\u001b[0m \u001b[43mfinal_df\u001b[49m\u001b[38;5;241m.\u001b[39mhead(\u001b[38;5;241m2\u001b[39m)\n",
      "\u001b[0;31mNameError\u001b[0m: name 'final_df' is not defined"
     ]
    }
   ],
   "source": [
    "final_df.head(2)"
   ]
  },
  {
   "cell_type": "markdown",
   "id": "d70d1d58-3997-4f4b-b35a-8713aac71d28",
   "metadata": {},
   "source": [
    "# V. Building the model"
   ]
  },
  {
   "cell_type": "code",
   "execution_count": 154,
   "id": "cae85e72-5bbe-40ef-ab38-78280c279461",
   "metadata": {},
   "outputs": [
    {
     "data": {
      "text/plain": [
       "(1989, 1000)"
      ]
     },
     "execution_count": 154,
     "metadata": {},
     "output_type": "execute_result"
    }
   ],
   "source": [
    "from sklearn.feature_extraction.text import TfidfVectorizer\n",
    "\n",
    "vectorizer = TfidfVectorizer(max_features=1000)\n",
    "data_features = vectorizer.fit_transform(processed_df['Top1'].str.join(\" \"))\n",
    "\n",
    "data_features = data_features.toarray()\n",
    "\n",
    "data_features.shape"
   ]
  },
  {
   "cell_type": "code",
   "execution_count": 153,
   "id": "2324e643-30ab-4f45-bd8d-0aad7d4fc3d2",
   "metadata": {},
   "outputs": [
    {
     "ename": "NameError",
     "evalue": "name 'final_df' is not defined",
     "output_type": "error",
     "traceback": [
      "\u001b[0;31m---------------------------------------------------------------------------\u001b[0m",
      "\u001b[0;31mNameError\u001b[0m                                 Traceback (most recent call last)",
      "Input \u001b[0;32mIn [153]\u001b[0m, in \u001b[0;36m<cell line: 4>\u001b[0;34m()\u001b[0m\n\u001b[1;32m      1\u001b[0m \u001b[38;5;28;01mfrom\u001b[39;00m \u001b[38;5;21;01msklearn\u001b[39;00m\u001b[38;5;21;01m.\u001b[39;00m\u001b[38;5;21;01mfeature_extraction\u001b[39;00m\u001b[38;5;21;01m.\u001b[39;00m\u001b[38;5;21;01mtext\u001b[39;00m \u001b[38;5;28;01mimport\u001b[39;00m CountVectorizer\n\u001b[1;32m      3\u001b[0m vectorizer \u001b[38;5;241m=\u001b[39m CountVectorizer(max_features\u001b[38;5;241m=\u001b[39m\u001b[38;5;241m1000\u001b[39m)\n\u001b[0;32m----> 4\u001b[0m data_features \u001b[38;5;241m=\u001b[39m vectorizer\u001b[38;5;241m.\u001b[39mfit_transform(\u001b[43mfinal_df\u001b[49m[\u001b[38;5;124m'\u001b[39m\u001b[38;5;124mheadlines\u001b[39m\u001b[38;5;124m'\u001b[39m])\n\u001b[1;32m      6\u001b[0m data_features \u001b[38;5;241m=\u001b[39m data_features\u001b[38;5;241m.\u001b[39mtoarray()\n\u001b[1;32m      8\u001b[0m data_features\u001b[38;5;241m.\u001b[39mshape\n",
      "\u001b[0;31mNameError\u001b[0m: name 'final_df' is not defined"
     ]
    }
   ],
   "source": [
    "from sklearn.feature_extraction.text import CountVectorizer\n",
    "\n",
    "vectorizer = CountVectorizer(max_features=1000)\n",
    "data_features = vectorizer.fit_transform(processed_df['Top1'].str.join(\" \"))\n",
    "\n",
    "data_features = data_features.toarray()\n",
    "\n",
    "data_features.shape"
   ]
  },
  {
   "cell_type": "code",
   "execution_count": 156,
   "id": "05bccdbe-515e-4d05-86ca-614c47623583",
   "metadata": {},
   "outputs": [],
   "source": [
    "from sklearn.model_selection import train_test_split\n",
    "\n",
    "X_train_count, X_test_count, y_train_count, y_test_count = train_test_split(data_features, df[\"label\"], test_size=0.3, random_state=42)"
   ]
  },
  {
   "cell_type": "code",
   "execution_count": 158,
   "id": "7b0be398-d240-4a27-b63f-92eab4ff64c1",
   "metadata": {},
   "outputs": [
    {
     "name": "stdout",
     "output_type": "stream",
     "text": [
      "RandomForestClassifier(n_estimators=10, n_jobs=4)\n",
      "0.5067813816557536\n"
     ]
    }
   ],
   "source": [
    "from sklearn.ensemble import RandomForestClassifier\n",
    "from sklearn.model_selection import cross_val_score\n",
    "\n",
    "forest = RandomForestClassifier(n_estimators=10, n_jobs=4)\n",
    "\n",
    "forest = forest.fit(X_train_count, y_train_count)\n",
    "\n",
    "print(forest)\n",
    "\n",
    "print(np.mean(cross_val_score(forest, data_features, df[\"label\"], cv=10)))"
   ]
  },
  {
   "cell_type": "code",
   "execution_count": 4,
   "id": "6f0c8db9-d453-47c5-ab46-caff4ac303a3",
   "metadata": {},
   "outputs": [
    {
     "ename": "ModuleNotFoundError",
     "evalue": "No module named 'fasttext'",
     "output_type": "error",
     "traceback": [
      "\u001b[0;31m---------------------------------------------------------------------------\u001b[0m",
      "\u001b[0;31mModuleNotFoundError\u001b[0m                       Traceback (most recent call last)",
      "Input \u001b[0;32mIn [4]\u001b[0m, in \u001b[0;36m<cell line: 1>\u001b[0;34m()\u001b[0m\n\u001b[0;32m----> 1\u001b[0m \u001b[38;5;28;01mimport\u001b[39;00m \u001b[38;5;21;01mfasttext\u001b[39;00m\n",
      "\u001b[0;31mModuleNotFoundError\u001b[0m: No module named 'fasttext'"
     ]
    }
   ],
   "source": [
    "import fasttext"
   ]
  },
  {
   "cell_type": "markdown",
   "id": "8e72f4ad-5f47-45ff-8f20-7f3f6367ddba",
   "metadata": {},
   "source": [
    "# VI. Testing the model against test data for the last one month"
   ]
  },
  {
   "cell_type": "code",
   "execution_count": null,
   "id": "4869c763-f625-4c24-b73b-47997978699f",
   "metadata": {},
   "outputs": [],
   "source": []
  },
  {
   "cell_type": "markdown",
   "id": "a93b8cec-12d8-4ec5-bea5-48465cb7f1dd",
   "metadata": {},
   "source": [
    "# VII. Conclusion + Next steps"
   ]
  },
  {
   "cell_type": "code",
   "execution_count": null,
   "id": "a9c5365b-2d2e-4947-afe6-a55795a660dc",
   "metadata": {},
   "outputs": [],
   "source": []
  }
 ],
 "metadata": {
  "kernelspec": {
   "display_name": "stock-price-forecasts",
   "language": "python",
   "name": "stock-price-forecasts"
  },
  "language_info": {
   "codemirror_mode": {
    "name": "ipython",
    "version": 3
   },
   "file_extension": ".py",
   "mimetype": "text/x-python",
   "name": "python",
   "nbconvert_exporter": "python",
   "pygments_lexer": "ipython3",
   "version": "3.8.10"
  }
 },
 "nbformat": 4,
 "nbformat_minor": 5
}
