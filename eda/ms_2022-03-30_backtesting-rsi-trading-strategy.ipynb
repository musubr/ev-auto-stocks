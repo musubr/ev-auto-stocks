{
 "cells": [
  {
   "cell_type": "markdown",
   "id": "257387a4-6ac9-407a-8cb7-fd078627c3a5",
   "metadata": {},
   "source": [
    "# 0. Problem statement\n",
    "\n",
    "As a **quantitative analyst**, I am interested in determining whether the following trading strategy using the RSI oscillator on S&P500 stocks can yield positive risk-adjusted returns for our portfolio:\n",
    "- Buy the stock when the RSI oscillator hits 30. \n",
    "- Sell the stock either when the RSI oscillator hits 70 or in half a quarter (45 days), whichever comes first. "
   ]
  },
  {
   "cell_type": "markdown",
   "id": "3f36c9a7-f887-4bbf-a00b-fbed650ef1cd",
   "metadata": {},
   "source": [
    "# I. Approach\n",
    "\n",
    "- $H_0$: The risk adjusted return for our portfolio is less than or equal to 0%.\n",
    "- $H_a$: The risk adjusted return for our portfolio is greater than 0%.\n",
    "\n",
    "We have 500 stocks to choose from and our dataset of S&P500 stocks has each company's GICS sector as well. So, we can use stratified random sampling to select a \"mini-S&P 500 portfolio\" on each run and apply our trading strategy to evaluate our monthly returns. From a quick google search, we see that most of the companies that are part of the S&P500 index today have been publicly listed for at least 3 years (which can be our time period for back-testing). However, there are some exceptions (found from an initial run of downloading the data). This is elabored upon later in this notebook, but the bottom-line is that we will be removing those tickers from our analysis.\n",
    "\n",
    "Here are some rules we can set for ourselves:\n",
    "- Every time one of our 30 stocks' RSI value hits 30, we will invest $\\$1000$. \n",
    "- Since we can't assume we have an infinite amount of cash on us, we will start our 3 year period with $\\$30000$. \n",
    "- We are expected to liquidate all our positions by EOM, we will know what our total cash balance is at the end.\n",
    "- If the cash balance at the start of the month is less than $\\$30,000$, then we will not be allowed to invest in all 30 companies if we wanted to (i.e. we cannot purchase stock on margin). \n",
    "- If the cash balance at the start of the month is greater than $\\$30000$, then we will be allowed to invest a greater dollar amount per company; so, if our cash balance started at $\\$33000$, then we will be allowed to invest $\\$33,000/30 = \\$1100$ per company. "
   ]
  },
  {
   "cell_type": "markdown",
   "id": "a084cdc0-166c-40da-b0ff-5661f6adf2d4",
   "metadata": {},
   "source": [
    "# II. Imports"
   ]
  },
  {
   "cell_type": "code",
   "execution_count": 1,
   "id": "e87b5a31-44e9-44ae-8adf-37a6a60b6190",
   "metadata": {},
   "outputs": [],
   "source": [
    "import pandas as pd\n",
    "import numpy as np\n",
    "from matplotlib import pyplot as plt\n",
    "from matplotlib.pyplot import figure\n",
    "import seaborn as sns\n",
    "import pandas_datareader.data as reader\n",
    "import datetime as dt\n",
    "from datetime import timedelta\n",
    "from typing import Iterable, Union\n",
    "import itertools\n",
    "from plotly import graph_objects as go\n",
    "from plotly.subplots import make_subplots\n",
    "from plotly import express as px"
   ]
  },
  {
   "cell_type": "code",
   "execution_count": 65,
   "id": "7ae02ef2-894f-4cec-b7e8-4be7081f6134",
   "metadata": {},
   "outputs": [],
   "source": [
    "import logging\n",
    "import scipy"
   ]
  },
  {
   "cell_type": "markdown",
   "id": "f2f1a0e8-7866-4f2c-90fd-37049137ac36",
   "metadata": {},
   "source": [
    "# III. S&P500 data exploration"
   ]
  },
  {
   "cell_type": "code",
   "execution_count": 3,
   "id": "c975554d-096b-48f6-a79a-e407f29407f2",
   "metadata": {},
   "outputs": [],
   "source": [
    "sp500_df = pd.read_csv(\"data/sp_500_stocks.csv\")"
   ]
  },
  {
   "cell_type": "code",
   "execution_count": 4,
   "id": "275b6821-b006-4a65-9bb1-66a4b3bb574a",
   "metadata": {},
   "outputs": [
    {
     "data": {
      "text/html": [
       "<div>\n",
       "<style scoped>\n",
       "    .dataframe tbody tr th:only-of-type {\n",
       "        vertical-align: middle;\n",
       "    }\n",
       "\n",
       "    .dataframe tbody tr th {\n",
       "        vertical-align: top;\n",
       "    }\n",
       "\n",
       "    .dataframe thead th {\n",
       "        text-align: right;\n",
       "    }\n",
       "</style>\n",
       "<table border=\"1\" class=\"dataframe\">\n",
       "  <thead>\n",
       "    <tr style=\"text-align: right;\">\n",
       "      <th></th>\n",
       "      <th>Symbol</th>\n",
       "      <th>Description</th>\n",
       "      <th>Category2</th>\n",
       "      <th>Category3</th>\n",
       "      <th>GICS Sector</th>\n",
       "      <th>Market cap</th>\n",
       "      <th>Dividend yield</th>\n",
       "      <th>Price to TTM earnings</th>\n",
       "      <th>Price to TTM sales</th>\n",
       "      <th>Price to book value</th>\n",
       "    </tr>\n",
       "  </thead>\n",
       "  <tbody>\n",
       "    <tr>\n",
       "      <th>0</th>\n",
       "      <td>AAPL</td>\n",
       "      <td>Apple Inc</td>\n",
       "      <td>Common stocks</td>\n",
       "      <td>Large cap</td>\n",
       "      <td>Information Technology</td>\n",
       "      <td>$2,865,693,839,600</td>\n",
       "      <td>0.50%</td>\n",
       "      <td>29.04</td>\n",
       "      <td>7.57</td>\n",
       "      <td>40.60</td>\n",
       "    </tr>\n",
       "    <tr>\n",
       "      <th>1</th>\n",
       "      <td>MSFT</td>\n",
       "      <td>Microsoft Corp</td>\n",
       "      <td>Common stocks</td>\n",
       "      <td>Large cap</td>\n",
       "      <td>Information Technology</td>\n",
       "      <td>$2,329,276,399,180</td>\n",
       "      <td>0.76%</td>\n",
       "      <td>33.22</td>\n",
       "      <td>12.60</td>\n",
       "      <td>14.78</td>\n",
       "    </tr>\n",
       "    <tr>\n",
       "      <th>2</th>\n",
       "      <td>GOOG</td>\n",
       "      <td>Alphabet Inc Class C</td>\n",
       "      <td>Common stocks</td>\n",
       "      <td>Large cap</td>\n",
       "      <td>Communication Services</td>\n",
       "      <td>$1,916,810,491,712</td>\n",
       "      <td>0.00%</td>\n",
       "      <td>11.89</td>\n",
       "      <td>7.44</td>\n",
       "      <td>3.59</td>\n",
       "    </tr>\n",
       "    <tr>\n",
       "      <th>3</th>\n",
       "      <td>GOOGL</td>\n",
       "      <td>Alphabet Inc Class A</td>\n",
       "      <td>Common stocks</td>\n",
       "      <td>Large cap</td>\n",
       "      <td>Communication Services</td>\n",
       "      <td>$1,916,810,491,712</td>\n",
       "      <td>0.00%</td>\n",
       "      <td>11.27</td>\n",
       "      <td>7.44</td>\n",
       "      <td>3.41</td>\n",
       "    </tr>\n",
       "    <tr>\n",
       "      <th>4</th>\n",
       "      <td>AMZN</td>\n",
       "      <td>Amazon.Com Inc.</td>\n",
       "      <td>Common stocks</td>\n",
       "      <td>Large cap</td>\n",
       "      <td>Consumer Discretionary</td>\n",
       "      <td>$1,719,797,425,362</td>\n",
       "      <td>0.00%</td>\n",
       "      <td>51.65</td>\n",
       "      <td>3.66</td>\n",
       "      <td>12.46</td>\n",
       "    </tr>\n",
       "  </tbody>\n",
       "</table>\n",
       "</div>"
      ],
      "text/plain": [
       "  Symbol           Description      Category2  Category3  \\\n",
       "0   AAPL             Apple Inc  Common stocks  Large cap   \n",
       "1   MSFT        Microsoft Corp  Common stocks  Large cap   \n",
       "2   GOOG  Alphabet Inc Class C  Common stocks  Large cap   \n",
       "3  GOOGL  Alphabet Inc Class A  Common stocks  Large cap   \n",
       "4   AMZN       Amazon.Com Inc.  Common stocks  Large cap   \n",
       "\n",
       "              GICS Sector          Market cap Dividend yield  \\\n",
       "0  Information Technology  $2,865,693,839,600          0.50%   \n",
       "1  Information Technology  $2,329,276,399,180          0.76%   \n",
       "2  Communication Services  $1,916,810,491,712          0.00%   \n",
       "3  Communication Services  $1,916,810,491,712          0.00%   \n",
       "4  Consumer Discretionary  $1,719,797,425,362          0.00%   \n",
       "\n",
       "   Price to TTM earnings  Price to TTM sales  Price to book value  \n",
       "0                  29.04                7.57                40.60  \n",
       "1                  33.22               12.60                14.78  \n",
       "2                  11.89                7.44                 3.59  \n",
       "3                  11.27                7.44                 3.41  \n",
       "4                  51.65                3.66                12.46  "
      ]
     },
     "execution_count": 4,
     "metadata": {},
     "output_type": "execute_result"
    }
   ],
   "source": [
    "sp500_df.head()"
   ]
  },
  {
   "cell_type": "code",
   "execution_count": 5,
   "id": "18e4c239-a7e0-4a75-8cdc-04321aacade4",
   "metadata": {},
   "outputs": [
    {
     "data": {
      "text/plain": [
       "True"
      ]
     },
     "execution_count": 5,
     "metadata": {},
     "output_type": "execute_result"
    }
   ],
   "source": [
    "# Ensuring that our tickers are unique\n",
    "sp500_df[\"Symbol\"].is_unique"
   ]
  },
  {
   "cell_type": "code",
   "execution_count": 6,
   "id": "2e67f07e-e5e9-446b-b87b-f693e3ac8fae",
   "metadata": {},
   "outputs": [],
   "source": [
    "def tickers_to_remove(df: pd.DataFrame, ticker_list: Iterable) -> pd.DataFrame:\n",
    "    mask = True\n",
    "    \n",
    "    for ticker in ticker_list:\n",
    "        mask &= (df[\"Symbol\"] != ticker)\n",
    "    \n",
    "    return df.loc[mask].reset_index(drop=True)"
   ]
  },
  {
   "cell_type": "code",
   "execution_count": 7,
   "id": "41526b3b-8122-4849-b260-9abf95a2bf7a",
   "metadata": {},
   "outputs": [],
   "source": [
    "def replace_ticker_names(df: pd.DataFrame, old_to_new_ticker_mapping: dict) -> pd.DataFrame:\n",
    "    for old, new in old_to_new_ticker_mapping.items():\n",
    "        df.loc[df[\"Symbol\"] == old, \"Symbol\"] = new\n",
    "    \n",
    "    return sp500_df"
   ]
  },
  {
   "attachments": {
    "cd95f107-1069-4b3e-af7f-feb5733cea98.png": {
     "image/png": "[encoded data removed]"
    }
   },
   "cell_type": "markdown",
   "id": "0082b729-e77c-48aa-a613-d0edec63e2b6",
   "metadata": {},
   "source": [
    "The tickers below are of stocks that have IPO'd much later into our 3 year window and would limit the time we will be back-testing our data for.\n",
    "\n",
    "![image.png](attachment:cd95f107-1069-4b3e-af7f-feb5733cea98.png)\n",
    "\n",
    "Removing the tickers in this list as well as \"GOOGL\" and \"UAA\". Removing \"Alphabet Inc Class A\" and \"Under Armour Class A\" shares, which are both just common shares with voting rights. As far as trends are concerned in the stock price movement for that company, it will be the same for both class A and class C shares. So, removing the former to have just one ticker per company in this dataset. "
   ]
  },
  {
   "cell_type": "code",
   "execution_count": 8,
   "id": "5949cc15-1558-4b75-b89d-82ce1b7fe408",
   "metadata": {},
   "outputs": [],
   "source": [
    "sp500_df = tickers_to_remove(sp500_df, [\"GOOGL\", \"UAA\", \"CTVA\", \"CARR\", \"OTIS\", \"BF.B\", \"CEG\", \"OGN\", \"AMCR\"])"
   ]
  },
  {
   "cell_type": "code",
   "execution_count": 9,
   "id": "c8188671-5dff-4576-af95-16509c66fb91",
   "metadata": {},
   "outputs": [],
   "source": [
    "old_to_new_ticker_mapping = {\n",
    "    \"BRK.B\": \"BRK-B\"\n",
    "}\n",
    "\n",
    "sp500_df = replace_ticker_names(sp500_df, old_to_new_ticker_mapping)"
   ]
  },
  {
   "cell_type": "code",
   "execution_count": 10,
   "id": "1274b7ad-38e6-4bdd-8bf2-697cf389b70f",
   "metadata": {},
   "outputs": [],
   "source": [
    "sector_mapping = {\n",
    "    \"Information Technology\": \"IT\",\n",
    "    \"Information technology\": \"IT\", \n",
    "    \"Industrials\": \"ID\",\n",
    "    \"Financials\": \"F\",\n",
    "    \"Health Care\": \"HC\",\n",
    "    \"Consumer Discretionary\": \"CD\",\n",
    "    \"Consumer Staples\": \"CS\",\n",
    "    \"Utilities\": \"U\",\n",
    "    \"Real Estate\": \"RE\",\n",
    "    \"Materials\": \"M\",\n",
    "    \"Communication Services\": \"CM\",\n",
    "    \"Energy\": \"E\"\n",
    "}\n",
    "\n",
    "sp500_df[\"sector\"] = sp500_df[\"GICS Sector\"].replace(sector_mapping)"
   ]
  },
  {
   "cell_type": "code",
   "execution_count": 11,
   "id": "1b311bf4-adca-45d0-b958-6dbfcd622f1d",
   "metadata": {},
   "outputs": [
    {
     "data": {
      "text/plain": [
       "IT    75\n",
       "ID    70\n",
       "F     67\n",
       "HC    64\n",
       "CD    59\n",
       "CS    31\n",
       "RE    29\n",
       "U     28\n",
       "CM    26\n",
       "M     26\n",
       "E     21\n",
       "Name: sector, dtype: int64"
      ]
     },
     "execution_count": 11,
     "metadata": {},
     "output_type": "execute_result"
    }
   ],
   "source": [
    "sp500_df[\"sector\"].value_counts()"
   ]
  },
  {
   "cell_type": "markdown",
   "id": "e6048da4-8b48-419a-9b1f-6f2d8116c828",
   "metadata": {},
   "source": [
    "# IV. Calculating $\\beta$ and RSI:\n",
    "\n",
    "We can use the following formula to compute the $\\beta$ for each stock over our back-testing period:\n",
    "$$\\beta_i = \\frac{Cov(R_i, R_m)}{\\sigma_m^2}$$\n",
    "where:\n",
    "- $R_i$ is the return of asset $i$.\n",
    "- $R_m$ is the return on our chosen market index: S&P 500.\n",
    "- $\\sigma_m$ is the standard deviation of returns on the chosen market index."
   ]
  },
  {
   "cell_type": "code",
   "execution_count": 12,
   "id": "ac40e983-ef0f-4eee-ab5b-672c8c8cb35f",
   "metadata": {},
   "outputs": [],
   "source": [
    "def calculate_daily_returns(series_of_prices: pd.Series) -> pd.Series:\n",
    "    return np.log(series_of_prices/series_of_prices.shift())"
   ]
  },
  {
   "cell_type": "code",
   "execution_count": 13,
   "id": "86dcef01-418c-4b67-8d38-d13171aa27fe",
   "metadata": {},
   "outputs": [],
   "source": [
    "def calculate_beta(asset_returns: pd.Series, index_returns: pd.Series, index_returns_var: float) -> pd.Series:\n",
    "    cov_matrix = np.cov(asset_returns, sp500_returns)\n",
    "    return cov_matrix[0,1]/index_returns_var"
   ]
  },
  {
   "cell_type": "markdown",
   "id": "ef43ef0e-d134-451b-871c-c906f57da576",
   "metadata": {},
   "source": [
    "We can calculate RSI on a standard 14-d window using the following formula:\n",
    "$$RSI=100-\\frac{100}{1+RS}$$\n",
    "where:\n",
    "- RS is the relative strength indicator and is given by $RS = \\sum_{d=1}^{14} \\frac{total~returns~up}{total~returns~down}$"
   ]
  },
  {
   "cell_type": "code",
   "execution_count": 14,
   "id": "da917def-f073-4e6b-af8e-76d834068c3e",
   "metadata": {},
   "outputs": [],
   "source": [
    "def calculate_rsi(df: pd.DataFrame) -> pd.DataFrame:\n",
    "    mask = df[\"daily_return\"] >= 0\n",
    "    \n",
    "    df[\"is_up\"] = (df[\"daily_return\"] >= 0).replace({True: 1, False: 0})\n",
    "    df[\"is_down\"] = (df[\"daily_return\"] < 0).replace({True: 1, False: 0})\n",
    "    df[\"up_return\"] = df[\"is_up\"]*df[\"daily_return\"]\n",
    "    df[\"down_return\"] = df[\"is_down\"]*abs(df[\"daily_return\"])\n",
    "\n",
    "    df[\"RSI\"] = 100 - 100/(1+df[\"up_return\"].rolling(14).sum()/df[\"down_return\"].rolling(14).sum())\n",
    "    \n",
    "    df = df.drop(columns=[\"is_up\", \"is_down\", \"up_return\", \"down_return\"])\n",
    "    \n",
    "    return df"
   ]
  },
  {
   "cell_type": "markdown",
   "id": "fef886b3-26a9-47df-8cba-9ce60a575d93",
   "metadata": {},
   "source": [
    "# V. Loading, pre-processing, and locally storing our datasets \n",
    "\n",
    "It would be a good idea for us to store our datasets locally for the following reasons:\n",
    "1. We don't have to run the API calls every time we wish to load the same data\n",
    "2. These datasets can be useful for other analyses (outside this notebook) as well.\n",
    "\n",
    "**So, if you have not run the code below, please do.**"
   ]
  },
  {
   "cell_type": "code",
   "execution_count": 15,
   "id": "15ff955c-c1e1-45a5-b271-07eac7dc2d62",
   "metadata": {},
   "outputs": [],
   "source": [
    "common_path = \"data/sp500/\"\n",
    "earliest_data_fetch_date = dt.datetime(2019, 3, 1).date()\n",
    "start_date = dt.datetime(2019, 4, 15).date()\n",
    "end_date = dt.datetime(2022, 3, 30).date()\n",
    "index_ticker = (\"^GSPC\")    # S&P 500"
   ]
  },
  {
   "cell_type": "code",
   "execution_count": 16,
   "id": "91e69726-63a6-4876-a5d0-f46c602a2588",
   "metadata": {},
   "outputs": [],
   "source": [
    "def get_stock_data(ticker: str, start_date: dt, end_date: dt) -> pd.DataFrame:\n",
    "    return reader.get_data_yahoo(ticker, earliest_data_fetch_date, end_date)"
   ]
  },
  {
   "cell_type": "code",
   "execution_count": 17,
   "id": "73dade9f-f173-4a45-ae11-ba345239a3d5",
   "metadata": {},
   "outputs": [],
   "source": [
    "def write_df_to_local_directory(path: str, df: pd.DataFrame) -> None:\n",
    "    df.to_parquet(path)"
   ]
  },
  {
   "cell_type": "code",
   "execution_count": 18,
   "id": "20012bc5-0db7-4889-82e7-7253ac3fd346",
   "metadata": {},
   "outputs": [],
   "source": [
    "def preprocess_input_df(df: pd.DataFrame, earliest_start_date: dt) -> pd.DataFrame:   \n",
    "    df = df.reset_index()\n",
    "    df = df.rename(columns={\n",
    "        \"Date\": \"date\", \n",
    "        \"High\": \"high\", \n",
    "        \"Low\": \"low\", \n",
    "        \"Open\": \"open\", \n",
    "        \"Close\": \"close\", \n",
    "        \"Adj Close\": \"closing_price\"\n",
    "    })\n",
    "    df = df.drop_duplicates(subset=[\"date\"])\n",
    "    \n",
    "    df[\"daily_return\"] = calculate_daily_returns(df[\"closing_price\"])\n",
    "    \n",
    "    df = calculate_rsi(df)\n",
    "    \n",
    "    return df.loc[df[\"date\"] > pd.Timestamp(start_date)]"
   ]
  },
  {
   "cell_type": "code",
   "execution_count": 19,
   "id": "deb63c2f-824c-4f01-922f-3ed581e62bdd",
   "metadata": {},
   "outputs": [],
   "source": [
    "def get_10y_treasury_yield_data(index_df: pd.DataFrame, start_date: dt) -> pd.DataFrame:\n",
    "    path = \"data/10-year-treasury-yield.csv\"\n",
    "    \n",
    "    df = pd.read_csv(path)\n",
    "    df[\"date\"] = pd.to_datetime(df[\"date\"])\n",
    "    df = df.rename(columns={\" value\": \"yield\"}).set_index(\"date\")\n",
    "    df = df.reindex(index_df.set_index(\"date\").index)\n",
    "    \n",
    "    return df.fillna(method=\"ffill\")"
   ]
  },
  {
   "cell_type": "code",
   "execution_count": 20,
   "id": "ae06226f-3281-464b-a8d5-71679c454ec7",
   "metadata": {},
   "outputs": [],
   "source": [
    "def calculate_expected_returns(\n",
    "    index_returns: pd.Series, ten_yr_yield: pd.Series, stock_beta_df: pd.DataFrame, ticker: str\n",
    ") -> pd.DataFrame:\n",
    "    capm_df = pd.DataFrame()\n",
    "    ticker_beta = stock_beta_df.set_index(\"ticker\").loc[ticker][\"beta\"]\n",
    "    \n",
    "    capm_df[\"rf\"] = ten_yr_yield[\"yield\"].reset_index(drop=True)/365\n",
    "    capm_df[\"rm\"] = sp500_returns.reset_index(drop=True)\n",
    "    capm_df[\"er\"] = capm_df[\"rf\"] + ticker_beta*(capm_df[\"rm\"] - capm_df[\"rf\"])\n",
    "    \n",
    "    return capm_df"
   ]
  },
  {
   "cell_type": "code",
   "execution_count": 21,
   "id": "e39d20f4-9323-4383-8208-f0561022be42",
   "metadata": {},
   "outputs": [],
   "source": [
    "# Read and store index data\n",
    "# sp500 = get_stock_data(index_ticker, start_date, end_date)\n",
    "# sp500 = preprocess_input_df(sp500, earliest_data_fetch_date)\n",
    "# path = common_path + \"sp500.parquet\"\n",
    "# write_df_to_local_directory(path, sp500)"
   ]
  },
  {
   "cell_type": "code",
   "execution_count": 22,
   "id": "005a6ab3-ff94-4956-805c-20fc6638a6fb",
   "metadata": {},
   "outputs": [],
   "source": [
    "sp500 = pd.read_parquet(common_path + \"sp500.parquet\")\n",
    "sp500_prices = sp500.set_index(\"date\")[\"closing_price\"]\n",
    "sp500_returns_variance = np.var(sp500.set_index(\"date\")[\"daily_return\"])"
   ]
  },
  {
   "cell_type": "code",
   "execution_count": 23,
   "id": "94cfe507-ce9c-4d3f-aea2-fa0132f6883a",
   "metadata": {},
   "outputs": [],
   "source": [
    "# stock_to_beta = {\"ticker\": [], \"beta\": []}\n",
    "\n",
    "# for ticker in sp500_df[\"Symbol\"]:\n",
    "#     try:\n",
    "#         df = get_stock_data(ticker, earliest_data_fetch_date, end_date)\n",
    "#         df = preprocess_input_df(df, earliest_data_fetch_date)\n",
    "#         stock_to_beta[\"beta\"] += [calculate_beta(df[\"daily_return\"], sp500_returns, sp500_returns_variance)]\n",
    "#         stock_to_beta[\"ticker\"] += [ticker]\n",
    "#         path_ticker = common_path + f\"{ticker}.parquet\"\n",
    "#         if all(~df[\"RSI\"].isnull()):\n",
    "#             write_df_to_local_directory(path_ticker, df)\n",
    "#         else:\n",
    "#             logging.warning(f\"Stock data for {ticker} had null RSI values. So, we can't use this for analysis.\")\n",
    "#     except:\n",
    "#         earliest_date = df[\"date\"].values[0]\n",
    "#         logging.error(f\"Unable to fully process stock data for {ticker}. Earliest date is {earliest_date}\")\n",
    "\n",
    "# stock_to_beta = pd.DataFrame(stock_to_beta)\n",
    "# path_beta = common_path + \"stock_to_beta.parquet\"\n",
    "# write_df_to_local_directory(path_beta, stock_to_beta)"
   ]
  },
  {
   "cell_type": "markdown",
   "id": "1e64dda6-1b03-4049-bad9-bbe45d35e71f",
   "metadata": {},
   "source": [
    "# VI. Choosing our sample on each iteration"
   ]
  },
  {
   "cell_type": "code",
   "execution_count": 24,
   "id": "f9584f06-5198-4fb3-b780-4cb16787667d",
   "metadata": {},
   "outputs": [
    {
     "data": {
      "text/plain": [
       "IT    4.536290\n",
       "ID    4.233871\n",
       "F     4.052419\n",
       "HC    3.870968\n",
       "CD    3.568548\n",
       "CS    1.875000\n",
       "RE    1.754032\n",
       "U     1.693548\n",
       "CM    1.572581\n",
       "M     1.572581\n",
       "E     1.270161\n",
       "Name: sector, dtype: float64"
      ]
     },
     "execution_count": 24,
     "metadata": {},
     "output_type": "execute_result"
    }
   ],
   "source": [
    "sp500_df[\"sector\"].value_counts()/len(sp500_df)*30"
   ]
  },
  {
   "cell_type": "markdown",
   "id": "c2efa194-f4a2-4a2e-a41b-dfb239452b3f",
   "metadata": {},
   "source": [
    "Clearly, we can't get an even number of stocks per category, so let us use the normalised values above to determine a fixed number of companies to pick per category:"
   ]
  },
  {
   "cell_type": "code",
   "execution_count": 25,
   "id": "94cd854d-8fc0-4139-82cf-98be7e1675dc",
   "metadata": {},
   "outputs": [],
   "source": [
    "num_stocks_per_sector = {\n",
    "    \"IT\": 4,\n",
    "    \"ID\": 4,\n",
    "    \"F\": 4,\n",
    "    \"HC\": 4,\n",
    "    \"CD\": 3,\n",
    "    \"CS\": 2,\n",
    "    \"RE\": 2,\n",
    "    \"U\": 2,\n",
    "    \"M\": 2,\n",
    "    \"CM\": 2,\n",
    "    \"E\": 1\n",
    "}"
   ]
  },
  {
   "cell_type": "code",
   "execution_count": 26,
   "id": "e79940a7-1b05-47f7-baa7-fdf4899c4f95",
   "metadata": {},
   "outputs": [],
   "source": [
    "tickers_per_sector = {}\n",
    "\n",
    "for sector in num_stocks_per_sector.keys():\n",
    "    mask = sp500_df[\"sector\"] == sector\n",
    "    tickers_per_sector[sector] = np.array(sorted(sp500_df.loc[mask][\"Symbol\"]))"
   ]
  },
  {
   "cell_type": "code",
   "execution_count": 27,
   "id": "a43b9394-41df-435c-bb5f-b6fcb9f82039",
   "metadata": {},
   "outputs": [],
   "source": [
    "def select_sample_for_backtesting(num_stocks_per_sector: dict, tickers_per_sector: dict) -> Iterable:\n",
    "    sample_tickers = []\n",
    "    \n",
    "    for sector in num_stocks_per_sector.keys():\n",
    "        tickers_in_sector = tickers_per_sector[sector]\n",
    "        num_stocks = num_stocks_per_sector[sector]\n",
    "        \n",
    "        random_indices = np.random.randint(0, len(tickers_in_sector), num_stocks, dtype=int)\n",
    "        \n",
    "        sample_tickers += list(tickers_in_sector[random_indices])\n",
    "    \n",
    "    return sample_tickers"
   ]
  },
  {
   "cell_type": "markdown",
   "id": "9952256f-0d9f-4ced-ab0b-e39724009e55",
   "metadata": {},
   "source": [
    "# VII. Iterate through our trading strategy"
   ]
  },
  {
   "cell_type": "code",
   "execution_count": 28,
   "id": "0caa9af1-2036-4ea0-bfba-fe96b67a0286",
   "metadata": {},
   "outputs": [],
   "source": [
    "def create_compiled_df(\n",
    "    df_with_date: pd.DataFrame, stock_sample: Iterable, common_path: str) -> pd.DataFrame:\n",
    "    \n",
    "    df = pd.DataFrame(sp500[\"date\"]).reset_index(drop=True)\n",
    "    \n",
    "    for ticker in stock_sample:\n",
    "        path = common_path + f\"{ticker}.parquet\"\n",
    "        ticker_df = pd.read_parquet(path, columns=[\"closing_price\", \"RSI\", \"daily_return\"]).reset_index(drop=True)\n",
    "        df[f\"closing_price_{ticker}\"] = ticker_df[\"closing_price\"]\n",
    "        df[f\"RSI_{ticker}\"] = ticker_df[\"RSI\"]\n",
    "    \n",
    "    df = df.reset_index(drop=True)\n",
    "    \n",
    "    df[\"month\"] = df[\"date\"].dt.month\n",
    "    df[\"year\"] = df[\"date\"].dt.year\n",
    "    \n",
    "    eom_indices = df.reset_index().groupby([\"month\", \"year\"]).nth(-1)[\"index\"]\n",
    "    df[\"is_eom\"] = df.index.isin(eom_indices)\n",
    "\n",
    "    return df"
   ]
  },
  {
   "cell_type": "code",
   "execution_count": 29,
   "id": "90a13c2b-0977-4523-9b4a-0b9b7d0c9024",
   "metadata": {},
   "outputs": [],
   "source": [
    "def create_is_buy_df(df_with_date: pd.DataFrame, compiled_df: pd.DataFrame) -> pd.DataFrame:\n",
    "    df = pd.DataFrame(sp500[\"date\"]).reset_index(drop=True)\n",
    "    \n",
    "    for ticker in stock_sample:\n",
    "        path = common_path + f\"{ticker}.parquet\"\n",
    "        rsi_col = compiled_df[f\"RSI_{ticker}\"]\n",
    "        mask = (rsi_col <= 30)\n",
    "        mask &= (rsi_col.shift() > 30)\n",
    "        df[f\"is_buy_{ticker}\"] = mask\n",
    "    \n",
    "    return df.reset_index(drop=True)"
   ]
  },
  {
   "cell_type": "code",
   "execution_count": 30,
   "id": "058d2f3d-52c7-41ed-b485-b4f0924837c7",
   "metadata": {},
   "outputs": [],
   "source": [
    "def create_is_sell_df(df_with_date: pd.DataFrame, compiled_df: pd.DataFrame) -> pd.DataFrame:\n",
    "    df = pd.DataFrame(df_with_date[\"date\"]).reset_index(drop=True)\n",
    "    \n",
    "    for ticker in stock_sample:\n",
    "        path = common_path + f\"{ticker}.parquet\"\n",
    "        rsi_col = compiled_df[f\"RSI_{ticker}\"]\n",
    "        mask = (rsi_col >= 70)\n",
    "        mask &= (rsi_col.shift() < 70)\n",
    "        df[f\"is_sell_{ticker}\"] = mask\n",
    "    \n",
    "    return df.reset_index(drop=True)"
   ]
  },
  {
   "cell_type": "code",
   "execution_count": 31,
   "id": "5eb8bb32-2a2e-43ff-ac4f-092e4912a7b8",
   "metadata": {},
   "outputs": [],
   "source": [
    "def get_closing_price(compiled_df: pd.DataFrame, tr_date: dt, ticker: str) -> float:\n",
    "    df = compiled_df.set_index(\"date\")\n",
    "    return df.loc[tr_date][f\"closing_price_{ticker}\"]"
   ]
  },
  {
   "cell_type": "code",
   "execution_count": 32,
   "id": "462adec0-3f74-4dcf-91fb-7e6a11322e51",
   "metadata": {},
   "outputs": [],
   "source": [
    "def get_RSI(compiled_df: pd.DataFrame, tr_date: dt, ticker: str) -> float:\n",
    "    df = compiled_df.set_index(\"date\")\n",
    "    return df.loc[tr_date][f\"RSI_{ticker}\"]"
   ]
  },
  {
   "cell_type": "code",
   "execution_count": 33,
   "id": "4f1acdf8-a9ed-40f7-8138-aa1f9c803e67",
   "metadata": {},
   "outputs": [],
   "source": [
    "def get_avg_expected_daily_return(compiled_df: pd.DataFrame, buy_date: dt, sell_date: dt, ticker: str) -> float:\n",
    "    df = compiled_df.set_index(\"date\")\n",
    "    return np.round(df.loc[buy_date: sell_date][f\"expected_daily_return_{ticker}\"].mean(), 4)"
   ]
  },
  {
   "cell_type": "code",
   "execution_count": 34,
   "id": "83fe0691-4116-445d-b9a3-8c6edc9a6e85",
   "metadata": {},
   "outputs": [],
   "source": [
    "def get_avg_daily_return(compiled_df: pd.DataFrame, buy_date: dt, sell_date: dt, ticker: str) -> float:\n",
    "    df = compiled_df.set_index(\"date\")\n",
    "    return np.round(df.loc[buy_date: sell_date][f\"daily_return_{ticker}\"].mean(), 4)"
   ]
  },
  {
   "cell_type": "code",
   "execution_count": 35,
   "id": "23c5dd35-e913-4eb3-85d8-e15be3cabf8d",
   "metadata": {},
   "outputs": [],
   "source": [
    "def order_tickers_to_buy_by_rsi(tickers_to_buy: set, tr_date) -> set:\n",
    "    ticker_to_RSI = {\"ticker\": [], \"RSI\": []}\n",
    "    for ticker in tickers_to_buy:\n",
    "        ticker_to_RSI[\"ticker\"] += [ticker]\n",
    "        ticker_to_RSI[\"RSI\"] += [get_RSI(compiled_df, tr_date, ticker)]\n",
    "\n",
    "    ticker_to_RSI = pd.DataFrame(ticker_to_RSI).sort_values(by=\"RSI\", ascending=False)\n",
    "\n",
    "    return list(ticker_to_RSI[\"ticker\"])"
   ]
  },
  {
   "cell_type": "code",
   "execution_count": 36,
   "id": "a63d0d77-394f-49fa-b8b1-63359696febc",
   "metadata": {},
   "outputs": [],
   "source": [
    "def implement_trading_strategy(\n",
    "    starting_cash: int, stock_sample: Iterable, compiled_df: pd.DataFrame, is_buy_df: pd.DataFrame, is_sell_df: pd.DataFrame, stock_to_beta_df: pd.DataFrame,\n",
    "    sp500_prices: pd.Series, ten_yr_yield: pd.Series) -> Union[pd.DataFrame, pd.DataFrame]:\n",
    "    \n",
    "    owned_stocks = []\n",
    "    start_date = is_buy_df[\"date\"][0]\n",
    "    \n",
    "    transactions_df = pd.DataFrame(\n",
    "        {\n",
    "            \"transaction_id\": 0,\n",
    "            \"date\": start_date, \n",
    "            \"stock\": None, \n",
    "            \"action\": 0, \n",
    "            \"price\": 0, \n",
    "            \"num_shares\": 0,\n",
    "            \"cash_balance\": starting_cash\n",
    "        },\n",
    "        index=[0]\n",
    "    )\n",
    "    \n",
    "    capm_df = pd.DataFrame(\n",
    "        {\n",
    "            \"sell_transaction_id\": 0,\n",
    "            \"stock\": None, \n",
    "            \"buy_date\": None,\n",
    "            \"buy_price\": 0,\n",
    "            \"sell_date\": None,\n",
    "            \"sell_price\": 0,\n",
    "            \"r_m\": 0,\n",
    "            \"r_f\": 0,\n",
    "            \"E_r\": 0,\n",
    "            \"R_i\": 0,\n",
    "            \"risk_adjusted_ri\": 0\n",
    "        },\n",
    "        index=[0]\n",
    "    )\n",
    "    \n",
    "    transaction_id = 1 \n",
    "    bom_balance = starting_cash\n",
    "    cash_balance = starting_cash\n",
    "    monthly_gains = 0\n",
    "    is_sufficient_balance = True\n",
    "    ticker_to_num_shares_monthly = dict()\n",
    "    ticker_to_purchase_date = dict()\n",
    "    ticker_to_purchase_price = dict()\n",
    "\n",
    "    for row in range(len(is_buy_df)):\n",
    "        is_buy = is_buy_df.iloc[row]\n",
    "        tr_date = is_buy[\"date\"]\n",
    "        is_eom = compiled_df.set_index(\"date\").loc[tr_date][\"is_eom\"]\n",
    "        investment_amount = np.round(bom_balance/30, 2)\n",
    "        \n",
    "        if not is_eom:\n",
    "            tickers_to_buy = set(s[7:] for s in is_buy[is_buy == True].index)\n",
    "            tickers_to_buy = tickers_to_buy.difference(owned_stocks)\n",
    "            tickers_to_buy = order_tickers_to_buy_by_rsi(tickers_to_buy, tr_date)\n",
    "\n",
    "            is_sell = is_sell_df.iloc[row]\n",
    "            tickers_to_sell = set(s[8:] for s in is_sell[is_sell == True].index)\n",
    "            tickers_to_sell = list(tickers_to_sell.intersection(owned_stocks))\n",
    "        else:\n",
    "            tickers_to_buy = []\n",
    "            tickers_to_sell = owned_stocks.copy()\n",
    "        \n",
    "        sell_index = 0\n",
    "        while (len(tickers_to_sell) > 0) and (sell_index < len(tickers_to_sell)):\n",
    "            ticker = tickers_to_sell[sell_index]\n",
    "            buy_date = ticker_to_purchase_date[ticker]\n",
    "            buy_price = ticker_to_purchase_price[ticker]\n",
    "            days_held = (tr_date - buy_date).days\n",
    "            if (days_held >= 45) or (tr_date.date() == end_date):\n",
    "                action = -1\n",
    "                price = get_closing_price(compiled_df, tr_date, ticker)\n",
    "                num_shares = ticker_to_num_shares_monthly[ticker]\n",
    "                cash_balance += num_shares*price\n",
    "                transactions_df.loc[transaction_id, :] = [transaction_id, tr_date, ticker, action, price, num_shares, cash_balance]\n",
    "                \n",
    "                beta = stock_to_beta_df.loc[ticker][\"beta\"]\n",
    "                rm = np.log(sp500_prices.loc[tr_date]/sp500_prices.loc[buy_date])\n",
    "                rf = ten_yr_yield.loc[buy_date: tr_date].mean()/365*days_held\n",
    "                er = rf + beta*(rm - rf)\n",
    "                ri = np.log(price/buy_price)\n",
    "                risk_adjusted_ri = ri - er\n",
    "                capm_df.loc[transaction_id, :] = np.array([transaction_id, ticker, buy_date.date(), buy_price, tr_date.date(), price, rm, rf, er, ri, risk_adjusted_ri], dtype=object)\n",
    "                \n",
    "                ticker_to_num_shares_monthly[ticker] = 0\n",
    "                owned_stocks.remove(ticker)\n",
    "                transaction_id += 1\n",
    "            sell_index += 1\n",
    "        \n",
    "        if cash_balance > investment_amount:\n",
    "            is_sufficient_balance = True\n",
    "\n",
    "        buy_index = 0\n",
    "        while (len(tickers_to_buy) > 0) and (is_sufficient_balance) and buy_index < len(tickers_to_buy):\n",
    "            ticker = tickers_to_buy[buy_index]\n",
    "            price = get_closing_price(compiled_df, tr_date, ticker)\n",
    "            if cash_balance < investment_amount:\n",
    "                is_sufficient_balance = False\n",
    "            else:\n",
    "                action = 1\n",
    "                cash_balance -= investment_amount\n",
    "                price = get_closing_price(compiled_df, tr_date, ticker)\n",
    "                num_shares = np.round(investment_amount/price, 2)\n",
    "                transactions_df.loc[transaction_id, :] = [transaction_id, tr_date, ticker, action, price, num_shares, cash_balance]                \n",
    "                ticker_to_num_shares_monthly[ticker] = num_shares\n",
    "                ticker_to_purchase_date[ticker] = tr_date\n",
    "                ticker_to_purchase_price[ticker] = price\n",
    "                owned_stocks += [ticker]\n",
    "                buy_index += 1\n",
    "                transaction_id += 1\n",
    "        \n",
    "        if is_eom:\n",
    "            bom_balance = transactions_df.iloc[len(transactions_df)-1][\"cash_balance\"]\n",
    "\n",
    "            if bom_balance <= 0:\n",
    "                break\n",
    "        \n",
    "    return transactions_df.set_index(\"transaction_id\"), capm_df.set_index(\"sell_transaction_id\")"
   ]
  },
  {
   "cell_type": "code",
   "execution_count": 37,
   "id": "0f87b968-7e84-4bfa-b15e-cb2a45a182b1",
   "metadata": {},
   "outputs": [],
   "source": [
    "# Trial for one iteration\n",
    "\n",
    "# initial_cash_balance = 30000\n",
    "# stock_sample = select_sample_for_backtesting(num_stocks_per_sector, tickers_per_sector)\n",
    "# stock_to_beta_df = pd.read_parquet(common_path + \"stock_to_beta.parquet\").set_index(\"ticker\")\n",
    "# compiled_df = create_compiled_df(sp500, stock_sample, common_path)\n",
    "# is_buy_df = create_is_buy_df(sp500, compiled_df)\n",
    "# is_sell_df = create_is_sell_df(sp500, compiled_df)\n",
    "# ten_yr_yield = get_10y_treasury_yield_data(sp500, start_date)\n",
    "# transactions_df, capm_df = implement_trading_strategy(initial_cash_balance, stock_sample, compiled_df, is_buy_df, is_sell_df, stock_to_beta_df, sp500_prices, ten_yr_yield)"
   ]
  },
  {
   "cell_type": "code",
   "execution_count": 48,
   "id": "6729dc52-4d6f-4397-8c28-9755f0986374",
   "metadata": {},
   "outputs": [],
   "source": [
    "# for iteration in range(0, 200):\n",
    "#     initial_cash_balance = 30000\n",
    "#     stock_sample = select_sample_for_backtesting(num_stocks_per_sector, tickers_per_sector)\n",
    "#     stock_to_beta_df = pd.read_parquet(common_path + \"stock_to_beta.parquet\").set_index(\"ticker\")\n",
    "#     compiled_df = create_compiled_df(sp500, stock_sample, common_path)\n",
    "#     is_buy_df = create_is_buy_df(sp500, compiled_df)\n",
    "#     is_sell_df = create_is_sell_df(sp500, compiled_df)\n",
    "#     ten_yr_yield = get_10y_treasury_yield_data(sp500, start_date)\n",
    "#     transactions_df, capm_df = implement_trading_strategy(initial_cash_balance, stock_sample, compiled_df, is_buy_df, is_sell_df, stock_to_beta_df, sp500_prices, ten_yr_yield)\n",
    "    \n",
    "#     results_path = \"data/trading_strategy_rsi/\"\n",
    "#     path_transactions_df = results_path + f\"transactions/transactions_{iteration}.parquet\"\n",
    "#     path_capm_df = results_path + f\"capm/capm_{iteration}.parquet\"\n",
    "    \n",
    "#     write_df_to_local_directory(path_transactions_df, transactions_df)\n",
    "#     write_df_to_local_directory(path_capm_df, capm_df)"
   ]
  },
  {
   "cell_type": "markdown",
   "id": "dff2220b-14ba-4385-bbac-73d0da9c010a",
   "metadata": {},
   "source": [
    "# VIII. Analyse the results"
   ]
  },
  {
   "cell_type": "markdown",
   "id": "de24a801-1d09-49d8-95da-267395e74bf8",
   "metadata": {},
   "source": [
    "**Analysis we can do with the data we have (for an initial cash balance of $30k):**\n",
    "1. Hypothesis test on our samples to address our main objective for the problem we posed in this notebook.\n",
    "    - Since our sample size is equal to 200 > 30, we can consider our sample statistically large enough.\n",
    "    - This means that we can use a z-test for our hypothesis testing.\n",
    "    - Since the population variance is unknown, we'll use the sample standard deviation for estimating the standard error of the mean (risk adjusted return). \n",
    "2. Distribution of the mean risk adjusted return for the 200 portfolios created in our iterations.\n",
    "3. Distribution of cash profits for the 200 portfolios created in our iterations.\n",
    "4. Cash profits vs. risk adjusted returns"
   ]
  },
  {
   "cell_type": "code",
   "execution_count": 50,
   "id": "32499325-4f13-4fa4-be71-5724919d6171",
   "metadata": {},
   "outputs": [],
   "source": [
    "results_path = \"data/trading_strategy_rsi/\"\n",
    "initial_cash_balance = 30000\n",
    "cash_profits = []\n",
    "mean_risk_adjusted_ri = []\n",
    "\n",
    "for iteration in range(0, 200):\n",
    "    transactions_df = pd.read_parquet(results_path + f\"transactions/transactions_{iteration}.parquet\")\n",
    "    capm_df = pd.read_parquet(results_path + f\"capm/capm_{iteration}.parquet\")\n",
    "    cash_profits += [transactions_df.iloc[len(transactions_df)-1][\"cash_balance\"] - initial_cash_balance]\n",
    "    mean_risk_adjusted_ri += [capm_df[\"risk_adjusted_ri\"].mean()*100]"
   ]
  },
  {
   "cell_type": "code",
   "execution_count": 63,
   "id": "5a7f984c-8aec-4507-8df0-b8f30845fede",
   "metadata": {},
   "outputs": [
    {
     "data": {
      "application/vnd.plotly.v1+json": {
       "config": {
        "plotlyServerURL": "https://plot.ly"
       },
       "data": [
        {
         "alignmentgroup": "True",
         "bingroup": "x",
         "hovertemplate": "variable=0<br>value=%{x}<br>count=%{y}<extra></extra>",
         "legendgroup": "0",
         "marker": {
          "color": "#636efa",
          "pattern": {
           "shape": ""
          }
         },
         "name": "0",
         "nbinsx": 50,
         "offsetgroup": "0",
         "orientation": "v",
         "showlegend": true,
         "type": "histogram",
         "x": [
          4803.355104989932,
          7375.573367671939,
          8194.110189962405,
          7660.042652244541,
          6657.044557037414,
          9806.563546981815,
          7239.099747247783,
          5495.354220313908,
          5041.421485185572,
          7147.567865419369,
          7301.487620973567,
          5454.020029830943,
          7179.151404738404,
          9133.602584056935,
          2646.3094995975734,
          7962.36634068485,
          7199.393209991402,
          5096.610690975118,
          4143.445876483929,
          7552.70898379328,
          6588.493965587622,
          6617.413577966705,
          6016.678877029386,
          5195.482001075681,
          4628.186328868847,
          8652.703060989363,
          5621.741455578769,
          5668.772389717022,
          5038.991925487528,
          4246.389129056879,
          6484.689714660621,
          9234.4632105446,
          5475.0870708178045,
          6218.457385463669,
          6753.033815736882,
          6085.204315595518,
          6484.6319248199,
          4766.3491847229525,
          3536.932636508929,
          7487.608154945374,
          6898.052037525231,
          7228.864799847557,
          10373.138138217902,
          7263.603669910437,
          5534.603045902295,
          6361.574025087262,
          6081.972859506612,
          5466.681958999623,
          6771.9766286182785,
          8018.283515796647,
          6440.186130399692,
          4441.343314251935,
          10282.200076074529,
          5685.417688570007,
          3466.1929597472918,
          6572.64498309137,
          8624.872444019216,
          7905.789871707035,
          7225.106526069743,
          3121.6602306270215,
          5707.848332071284,
          6256.952956743233,
          5250.4516042614705,
          8036.928956546755,
          7198.503881177909,
          6555.3882199097425,
          6069.003275833144,
          4901.240770854987,
          6765.974048776618,
          7270.680764236473,
          5579.421874256186,
          5895.060010290123,
          4775.691934804905,
          8216.36632286552,
          7803.010164341911,
          5839.212750444392,
          7678.263583068903,
          5009.677853417379,
          4314.703522996875,
          5696.415534267442,
          7825.974721765488,
          4298.846914806425,
          4968.5109946632365,
          6907.084270858737,
          6061.4819713305915,
          7796.218676748191,
          8050.368114967307,
          7142.885469579705,
          8964.027907142598,
          5500.893689804019,
          5729.902153568248,
          5699.319243550301,
          6368.06498375893,
          7524.378281040168,
          6262.299065980878,
          5531.727213420883,
          9012.241538848895,
          8915.625769710547,
          4712.090835873998,
          5791.202253942502,
          6721.94554204942,
          6639.44761529925,
          6287.167241239578,
          5654.424487075827,
          7084.5528135872155,
          7891.213074960702,
          6195.106315679608,
          8801.38601684571,
          3483.532263045272,
          4304.891147155839,
          3780.7861701012007,
          7450.419339857122,
          6380.333155632063,
          3445.895176897,
          6692.998616085046,
          5084.604820952409,
          5060.863553123461,
          6398.570263052068,
          7376.840581464785,
          5461.505800676416,
          4155.8787982702415,
          9038.919059352877,
          8534.383564834628,
          8397.776032295209,
          5440.787993803053,
          5516.638188075944,
          6604.368575673179,
          4784.302354035412,
          7991.0888889408525,
          7827.621676282892,
          7804.001944131873,
          8492.536567239775,
          8336.833791074809,
          7859.994851999378,
          6357.219995260297,
          9410.10905952446,
          5949.144842481641,
          4784.389128723153,
          6287.876756725345,
          6352.48509039401,
          5038.474287977217,
          8030.385457592034,
          7622.199344244065,
          6443.631784992183,
          10308.720179843847,
          4817.366008901641,
          5407.465748777424,
          9768.909734373105,
          5820.616321020083,
          5368.602484149946,
          11037.472423286425,
          8833.070848693926,
          6316.568696861337,
          5465.043327207604,
          7437.159654903473,
          5881.177890043175,
          7000.229264192647,
          4234.545734233769,
          6819.719185070986,
          7023.276368961415,
          3985.9895384788615,
          5033.464146213548,
          7544.475759544424,
          8522.193538656313,
          6889.104959688193,
          7111.3362148666565,
          7241.793490560063,
          9315.961522040452,
          5282.316395225491,
          7937.124876213129,
          7944.888373036367,
          7999.60065806393,
          4374.373263187474,
          7620.668284940752,
          6016.834119565559,
          6804.675464439366,
          7109.564125933655,
          6983.423667278228,
          4196.9412622713935,
          5287.986647138649,
          6042.556744937967,
          6141.99028283111,
          4032.5077954292865,
          7190.388697557442,
          3968.1668853473966,
          5549.529199152028,
          5924.923961901703,
          4772.928160781863,
          6738.362636175094,
          8270.275556011191,
          9132.914246702254,
          9456.948764305074,
          8748.259403133306,
          7955.736782474487,
          7124.653550062198,
          3600.04179127697,
          6176.421963424691,
          9785.26488802913,
          7616.295199098538,
          7155.468638553626
         ],
         "xaxis": "x",
         "yaxis": "y"
        }
       ],
       "layout": {
        "autosize": true,
        "barmode": "relative",
        "legend": {
         "title": {
          "text": "variable"
         },
         "tracegroupgap": 0
        },
        "margin": {
         "t": 60
        },
        "showlegend": false,
        "template": {
         "data": {
          "bar": [
           {
            "error_x": {
             "color": "#2a3f5f"
            },
            "error_y": {
             "color": "#2a3f5f"
            },
            "marker": {
             "line": {
              "color": "#E5ECF6",
              "width": 0.5
             },
             "pattern": {
              "fillmode": "overlay",
              "size": 10,
              "solidity": 0.2
             }
            },
            "type": "bar"
           }
          ],
          "barpolar": [
           {
            "marker": {
             "line": {
              "color": "#E5ECF6",
              "width": 0.5
             },
             "pattern": {
              "fillmode": "overlay",
              "size": 10,
              "solidity": 0.2
             }
            },
            "type": "barpolar"
           }
          ],
          "carpet": [
           {
            "aaxis": {
             "endlinecolor": "#2a3f5f",
             "gridcolor": "white",
             "linecolor": "white",
             "minorgridcolor": "white",
             "startlinecolor": "#2a3f5f"
            },
            "baxis": {
             "endlinecolor": "#2a3f5f",
             "gridcolor": "white",
             "linecolor": "white",
             "minorgridcolor": "white",
             "startlinecolor": "#2a3f5f"
            },
            "type": "carpet"
           }
          ],
          "choropleth": [
           {
            "colorbar": {
             "outlinewidth": 0,
             "ticks": ""
            },
            "type": "choropleth"
           }
          ],
          "contour": [
           {
            "colorbar": {
             "outlinewidth": 0,
             "ticks": ""
            },
            "colorscale": [
             [
              0,
              "#0d0887"
             ],
             [
              0.1111111111111111,
              "#46039f"
             ],
             [
              0.2222222222222222,
              "#7201a8"
             ],
             [
              0.3333333333333333,
              "#9c179e"
             ],
             [
              0.4444444444444444,
              "#bd3786"
             ],
             [
              0.5555555555555556,
              "#d8576b"
             ],
             [
              0.6666666666666666,
              "#ed7953"
             ],
             [
              0.7777777777777778,
              "#fb9f3a"
             ],
             [
              0.8888888888888888,
              "#fdca26"
             ],
             [
              1,
              "#f0f921"
             ]
            ],
            "type": "contour"
           }
          ],
          "contourcarpet": [
           {
            "colorbar": {
             "outlinewidth": 0,
             "ticks": ""
            },
            "type": "contourcarpet"
           }
          ],
          "heatmap": [
           {
            "colorbar": {
             "outlinewidth": 0,
             "ticks": ""
            },
            "colorscale": [
             [
              0,
              "#0d0887"
             ],
             [
              0.1111111111111111,
              "#46039f"
             ],
             [
              0.2222222222222222,
              "#7201a8"
             ],
             [
              0.3333333333333333,
              "#9c179e"
             ],
             [
              0.4444444444444444,
              "#bd3786"
             ],
             [
              0.5555555555555556,
              "#d8576b"
             ],
             [
              0.6666666666666666,
              "#ed7953"
             ],
             [
              0.7777777777777778,
              "#fb9f3a"
             ],
             [
              0.8888888888888888,
              "#fdca26"
             ],
             [
              1,
              "#f0f921"
             ]
            ],
            "type": "heatmap"
           }
          ],
          "heatmapgl": [
           {
            "colorbar": {
             "outlinewidth": 0,
             "ticks": ""
            },
            "colorscale": [
             [
              0,
              "#0d0887"
             ],
             [
              0.1111111111111111,
              "#46039f"
             ],
             [
              0.2222222222222222,
              "#7201a8"
             ],
             [
              0.3333333333333333,
              "#9c179e"
             ],
             [
              0.4444444444444444,
              "#bd3786"
             ],
             [
              0.5555555555555556,
              "#d8576b"
             ],
             [
              0.6666666666666666,
              "#ed7953"
             ],
             [
              0.7777777777777778,
              "#fb9f3a"
             ],
             [
              0.8888888888888888,
              "#fdca26"
             ],
             [
              1,
              "#f0f921"
             ]
            ],
            "type": "heatmapgl"
           }
          ],
          "histogram": [
           {
            "marker": {
             "pattern": {
              "fillmode": "overlay",
              "size": 10,
              "solidity": 0.2
             }
            },
            "type": "histogram"
           }
          ],
          "histogram2d": [
           {
            "colorbar": {
             "outlinewidth": 0,
             "ticks": ""
            },
            "colorscale": [
             [
              0,
              "#0d0887"
             ],
             [
              0.1111111111111111,
              "#46039f"
             ],
             [
              0.2222222222222222,
              "#7201a8"
             ],
             [
              0.3333333333333333,
              "#9c179e"
             ],
             [
              0.4444444444444444,
              "#bd3786"
             ],
             [
              0.5555555555555556,
              "#d8576b"
             ],
             [
              0.6666666666666666,
              "#ed7953"
             ],
             [
              0.7777777777777778,
              "#fb9f3a"
             ],
             [
              0.8888888888888888,
              "#fdca26"
             ],
             [
              1,
              "#f0f921"
             ]
            ],
            "type": "histogram2d"
           }
          ],
          "histogram2dcontour": [
           {
            "colorbar": {
             "outlinewidth": 0,
             "ticks": ""
            },
            "colorscale": [
             [
              0,
              "#0d0887"
             ],
             [
              0.1111111111111111,
              "#46039f"
             ],
             [
              0.2222222222222222,
              "#7201a8"
             ],
             [
              0.3333333333333333,
              "#9c179e"
             ],
             [
              0.4444444444444444,
              "#bd3786"
             ],
             [
              0.5555555555555556,
              "#d8576b"
             ],
             [
              0.6666666666666666,
              "#ed7953"
             ],
             [
              0.7777777777777778,
              "#fb9f3a"
             ],
             [
              0.8888888888888888,
              "#fdca26"
             ],
             [
              1,
              "#f0f921"
             ]
            ],
            "type": "histogram2dcontour"
           }
          ],
          "mesh3d": [
           {
            "colorbar": {
             "outlinewidth": 0,
             "ticks": ""
            },
            "type": "mesh3d"
           }
          ],
          "parcoords": [
           {
            "line": {
             "colorbar": {
              "outlinewidth": 0,
              "ticks": ""
             }
            },
            "type": "parcoords"
           }
          ],
          "pie": [
           {
            "automargin": true,
            "type": "pie"
           }
          ],
          "scatter": [
           {
            "marker": {
             "colorbar": {
              "outlinewidth": 0,
              "ticks": ""
             }
            },
            "type": "scatter"
           }
          ],
          "scatter3d": [
           {
            "line": {
             "colorbar": {
              "outlinewidth": 0,
              "ticks": ""
             }
            },
            "marker": {
             "colorbar": {
              "outlinewidth": 0,
              "ticks": ""
             }
            },
            "type": "scatter3d"
           }
          ],
          "scattercarpet": [
           {
            "marker": {
             "colorbar": {
              "outlinewidth": 0,
              "ticks": ""
             }
            },
            "type": "scattercarpet"
           }
          ],
          "scattergeo": [
           {
            "marker": {
             "colorbar": {
              "outlinewidth": 0,
              "ticks": ""
             }
            },
            "type": "scattergeo"
           }
          ],
          "scattergl": [
           {
            "marker": {
             "colorbar": {
              "outlinewidth": 0,
              "ticks": ""
             }
            },
            "type": "scattergl"
           }
          ],
          "scattermapbox": [
           {
            "marker": {
             "colorbar": {
              "outlinewidth": 0,
              "ticks": ""
             }
            },
            "type": "scattermapbox"
           }
          ],
          "scatterpolar": [
           {
            "marker": {
             "colorbar": {
              "outlinewidth": 0,
              "ticks": ""
             }
            },
            "type": "scatterpolar"
           }
          ],
          "scatterpolargl": [
           {
            "marker": {
             "colorbar": {
              "outlinewidth": 0,
              "ticks": ""
             }
            },
            "type": "scatterpolargl"
           }
          ],
          "scatterternary": [
           {
            "marker": {
             "colorbar": {
              "outlinewidth": 0,
              "ticks": ""
             }
            },
            "type": "scatterternary"
           }
          ],
          "surface": [
           {
            "colorbar": {
             "outlinewidth": 0,
             "ticks": ""
            },
            "colorscale": [
             [
              0,
              "#0d0887"
             ],
             [
              0.1111111111111111,
              "#46039f"
             ],
             [
              0.2222222222222222,
              "#7201a8"
             ],
             [
              0.3333333333333333,
              "#9c179e"
             ],
             [
              0.4444444444444444,
              "#bd3786"
             ],
             [
              0.5555555555555556,
              "#d8576b"
             ],
             [
              0.6666666666666666,
              "#ed7953"
             ],
             [
              0.7777777777777778,
              "#fb9f3a"
             ],
             [
              0.8888888888888888,
              "#fdca26"
             ],
             [
              1,
              "#f0f921"
             ]
            ],
            "type": "surface"
           }
          ],
          "table": [
           {
            "cells": {
             "fill": {
              "color": "#EBF0F8"
             },
             "line": {
              "color": "white"
             }
            },
            "header": {
             "fill": {
              "color": "#C8D4E3"
             },
             "line": {
              "color": "white"
             }
            },
            "type": "table"
           }
          ]
         },
         "layout": {
          "annotationdefaults": {
           "arrowcolor": "#2a3f5f",
           "arrowhead": 0,
           "arrowwidth": 1
          },
          "autotypenumbers": "strict",
          "coloraxis": {
           "colorbar": {
            "outlinewidth": 0,
            "ticks": ""
           }
          },
          "colorscale": {
           "diverging": [
            [
             0,
             "#8e0152"
            ],
            [
             0.1,
             "#c51b7d"
            ],
            [
             0.2,
             "#de77ae"
            ],
            [
             0.3,
             "#f1b6da"
            ],
            [
             0.4,
             "#fde0ef"
            ],
            [
             0.5,
             "#f7f7f7"
            ],
            [
             0.6,
             "#e6f5d0"
            ],
            [
             0.7,
             "#b8e186"
            ],
            [
             0.8,
             "#7fbc41"
            ],
            [
             0.9,
             "#4d9221"
            ],
            [
             1,
             "#276419"
            ]
           ],
           "sequential": [
            [
             0,
             "#0d0887"
            ],
            [
             0.1111111111111111,
             "#46039f"
            ],
            [
             0.2222222222222222,
             "#7201a8"
            ],
            [
             0.3333333333333333,
             "#9c179e"
            ],
            [
             0.4444444444444444,
             "#bd3786"
            ],
            [
             0.5555555555555556,
             "#d8576b"
            ],
            [
             0.6666666666666666,
             "#ed7953"
            ],
            [
             0.7777777777777778,
             "#fb9f3a"
            ],
            [
             0.8888888888888888,
             "#fdca26"
            ],
            [
             1,
             "#f0f921"
            ]
           ],
           "sequentialminus": [
            [
             0,
             "#0d0887"
            ],
            [
             0.1111111111111111,
             "#46039f"
            ],
            [
             0.2222222222222222,
             "#7201a8"
            ],
            [
             0.3333333333333333,
             "#9c179e"
            ],
            [
             0.4444444444444444,
             "#bd3786"
            ],
            [
             0.5555555555555556,
             "#d8576b"
            ],
            [
             0.6666666666666666,
             "#ed7953"
            ],
            [
             0.7777777777777778,
             "#fb9f3a"
            ],
            [
             0.8888888888888888,
             "#fdca26"
            ],
            [
             1,
             "#f0f921"
            ]
           ]
          },
          "colorway": [
           "#636efa",
           "#EF553B",
           "#00cc96",
           "#ab63fa",
           "#FFA15A",
           "#19d3f3",
           "#FF6692",
           "#B6E880",
           "#FF97FF",
           "#FECB52"
          ],
          "font": {
           "color": "#2a3f5f"
          },
          "geo": {
           "bgcolor": "white",
           "lakecolor": "white",
           "landcolor": "#E5ECF6",
           "showlakes": true,
           "showland": true,
           "subunitcolor": "white"
          },
          "hoverlabel": {
           "align": "left"
          },
          "hovermode": "closest",
          "mapbox": {
           "style": "light"
          },
          "paper_bgcolor": "white",
          "plot_bgcolor": "#E5ECF6",
          "polar": {
           "angularaxis": {
            "gridcolor": "white",
            "linecolor": "white",
            "ticks": ""
           },
           "bgcolor": "#E5ECF6",
           "radialaxis": {
            "gridcolor": "white",
            "linecolor": "white",
            "ticks": ""
           }
          },
          "scene": {
           "xaxis": {
            "backgroundcolor": "#E5ECF6",
            "gridcolor": "white",
            "gridwidth": 2,
            "linecolor": "white",
            "showbackground": true,
            "ticks": "",
            "zerolinecolor": "white"
           },
           "yaxis": {
            "backgroundcolor": "#E5ECF6",
            "gridcolor": "white",
            "gridwidth": 2,
            "linecolor": "white",
            "showbackground": true,
            "ticks": "",
            "zerolinecolor": "white"
           },
           "zaxis": {
            "backgroundcolor": "#E5ECF6",
            "gridcolor": "white",
            "gridwidth": 2,
            "linecolor": "white",
            "showbackground": true,
            "ticks": "",
            "zerolinecolor": "white"
           }
          },
          "shapedefaults": {
           "line": {
            "color": "#2a3f5f"
           }
          },
          "ternary": {
           "aaxis": {
            "gridcolor": "white",
            "linecolor": "white",
            "ticks": ""
           },
           "baxis": {
            "gridcolor": "white",
            "linecolor": "white",
            "ticks": ""
           },
           "bgcolor": "#E5ECF6",
           "caxis": {
            "gridcolor": "white",
            "linecolor": "white",
            "ticks": ""
           }
          },
          "title": {
           "x": 0.05
          },
          "xaxis": {
           "automargin": true,
           "gridcolor": "white",
           "linecolor": "white",
           "ticks": "",
           "title": {
            "standoff": 15
           },
           "zerolinecolor": "white",
           "zerolinewidth": 2
          },
          "yaxis": {
           "automargin": true,
           "gridcolor": "white",
           "linecolor": "white",
           "ticks": "",
           "title": {
            "standoff": 15
           },
           "zerolinecolor": "white",
           "zerolinewidth": 2
          }
         }
        },
        "title": {
         "text": "Distribution of cash profits across sample portfolios",
         "x": 0.5,
         "y": 0.95
        },
        "xaxis": {
         "anchor": "y",
         "autorange": true,
         "domain": [
          0,
          1
         ],
         "range": [
          2600,
          11200
         ],
         "title": {
          "text": "Profit ($)"
         },
         "type": "linear"
        },
        "yaxis": {
         "anchor": "x",
         "autorange": true,
         "domain": [
          0,
          1
         ],
         "range": [
          0,
          14.736842105263158
         ],
         "title": {
          "text": "count"
         }
        }
       }
      },
      "image/png": "[encoded data removed]",
      "text/html": [
       "<div>                            <div id=\"63016ba2-1a70-48bf-9a3a-3906dca8c42e\" class=\"plotly-graph-div\" style=\"height:800px; width:100%;\"></div>            <script type=\"text/javascript\">                require([\"plotly\"], function(Plotly) {                    window.PLOTLYENV=window.PLOTLYENV || {};                                    if (document.getElementById(\"63016ba2-1a70-48bf-9a3a-3906dca8c42e\")) {                    Plotly.newPlot(                        \"63016ba2-1a70-48bf-9a3a-3906dca8c42e\",                        [{\"alignmentgroup\":\"True\",\"bingroup\":\"x\",\"hovertemplate\":\"variable=0<br>value=%{x}<br>count=%{y}<extra></extra>\",\"legendgroup\":\"0\",\"marker\":{\"color\":\"#636efa\",\"pattern\":{\"shape\":\"\"}},\"name\":\"0\",\"nbinsx\":50,\"offsetgroup\":\"0\",\"orientation\":\"v\",\"showlegend\":true,\"x\":[4803.355104989932,7375.573367671939,8194.110189962405,7660.042652244541,6657.044557037414,9806.563546981815,7239.099747247783,5495.354220313908,5041.421485185572,7147.567865419369,7301.487620973567,5454.020029830943,7179.151404738404,9133.602584056935,2646.3094995975734,7962.36634068485,7199.393209991402,5096.610690975118,4143.445876483929,7552.70898379328,6588.493965587622,6617.413577966705,6016.678877029386,5195.482001075681,4628.186328868847,8652.703060989363,5621.741455578769,5668.772389717022,5038.991925487528,4246.389129056879,6484.689714660621,9234.4632105446,5475.0870708178045,6218.457385463669,6753.033815736882,6085.204315595518,6484.6319248199,4766.3491847229525,3536.932636508929,7487.608154945374,6898.052037525231,7228.864799847557,10373.138138217902,7263.603669910437,5534.603045902295,6361.574025087262,6081.972859506612,5466.681958999623,6771.9766286182785,8018.283515796647,6440.186130399692,4441.343314251935,10282.200076074529,5685.417688570007,3466.1929597472918,6572.64498309137,8624.872444019216,7905.789871707035,7225.106526069743,3121.6602306270215,5707.848332071284,6256.952956743233,5250.4516042614705,8036.928956546755,7198.503881177909,6555.3882199097425,6069.003275833144,4901.240770854987,6765.974048776618,7270.680764236473,5579.421874256186,5895.060010290123,4775.691934804905,8216.36632286552,7803.010164341911,5839.212750444392,7678.263583068903,5009.677853417379,4314.703522996875,5696.415534267442,7825.974721765488,4298.846914806425,4968.5109946632365,6907.084270858737,6061.4819713305915,7796.218676748191,8050.368114967307,7142.885469579705,8964.027907142598,5500.893689804019,5729.902153568248,5699.319243550301,6368.06498375893,7524.378281040168,6262.299065980878,5531.727213420883,9012.241538848895,8915.625769710547,4712.090835873998,5791.202253942502,6721.94554204942,6639.44761529925,6287.167241239578,5654.424487075827,7084.5528135872155,7891.213074960702,6195.106315679608,8801.38601684571,3483.532263045272,4304.891147155839,3780.7861701012007,7450.419339857122,6380.333155632063,3445.895176897,6692.998616085046,5084.604820952409,5060.863553123461,6398.570263052068,7376.840581464785,5461.505800676416,4155.8787982702415,9038.919059352877,8534.383564834628,8397.776032295209,5440.787993803053,5516.638188075944,6604.368575673179,4784.302354035412,7991.0888889408525,7827.621676282892,7804.001944131873,8492.536567239775,8336.833791074809,7859.994851999378,6357.219995260297,9410.10905952446,5949.144842481641,4784.389128723153,6287.876756725345,6352.48509039401,5038.474287977217,8030.385457592034,7622.199344244065,6443.631784992183,10308.720179843847,4817.366008901641,5407.465748777424,9768.909734373105,5820.616321020083,5368.602484149946,11037.472423286425,8833.070848693926,6316.568696861337,5465.043327207604,7437.159654903473,5881.177890043175,7000.229264192647,4234.545734233769,6819.719185070986,7023.276368961415,3985.9895384788615,5033.464146213548,7544.475759544424,8522.193538656313,6889.104959688193,7111.3362148666565,7241.793490560063,9315.961522040452,5282.316395225491,7937.124876213129,7944.888373036367,7999.60065806393,4374.373263187474,7620.668284940752,6016.834119565559,6804.675464439366,7109.564125933655,6983.423667278228,4196.9412622713935,5287.986647138649,6042.556744937967,6141.99028283111,4032.5077954292865,7190.388697557442,3968.1668853473966,5549.529199152028,5924.923961901703,4772.928160781863,6738.362636175094,8270.275556011191,9132.914246702254,9456.948764305074,8748.259403133306,7955.736782474487,7124.653550062198,3600.04179127697,6176.421963424691,9785.26488802913,7616.295199098538,7155.468638553626],\"xaxis\":\"x\",\"yaxis\":\"y\",\"type\":\"histogram\"}],                        {\"template\":{\"data\":{\"bar\":[{\"error_x\":{\"color\":\"#2a3f5f\"},\"error_y\":{\"color\":\"#2a3f5f\"},\"marker\":{\"line\":{\"color\":\"#E5ECF6\",\"width\":0.5},\"pattern\":{\"fillmode\":\"overlay\",\"size\":10,\"solidity\":0.2}},\"type\":\"bar\"}],\"barpolar\":[{\"marker\":{\"line\":{\"color\":\"#E5ECF6\",\"width\":0.5},\"pattern\":{\"fillmode\":\"overlay\",\"size\":10,\"solidity\":0.2}},\"type\":\"barpolar\"}],\"carpet\":[{\"aaxis\":{\"endlinecolor\":\"#2a3f5f\",\"gridcolor\":\"white\",\"linecolor\":\"white\",\"minorgridcolor\":\"white\",\"startlinecolor\":\"#2a3f5f\"},\"baxis\":{\"endlinecolor\":\"#2a3f5f\",\"gridcolor\":\"white\",\"linecolor\":\"white\",\"minorgridcolor\":\"white\",\"startlinecolor\":\"#2a3f5f\"},\"type\":\"carpet\"}],\"choropleth\":[{\"colorbar\":{\"outlinewidth\":0,\"ticks\":\"\"},\"type\":\"choropleth\"}],\"contour\":[{\"colorbar\":{\"outlinewidth\":0,\"ticks\":\"\"},\"colorscale\":[[0.0,\"#0d0887\"],[0.1111111111111111,\"#46039f\"],[0.2222222222222222,\"#7201a8\"],[0.3333333333333333,\"#9c179e\"],[0.4444444444444444,\"#bd3786\"],[0.5555555555555556,\"#d8576b\"],[0.6666666666666666,\"#ed7953\"],[0.7777777777777778,\"#fb9f3a\"],[0.8888888888888888,\"#fdca26\"],[1.0,\"#f0f921\"]],\"type\":\"contour\"}],\"contourcarpet\":[{\"colorbar\":{\"outlinewidth\":0,\"ticks\":\"\"},\"type\":\"contourcarpet\"}],\"heatmap\":[{\"colorbar\":{\"outlinewidth\":0,\"ticks\":\"\"},\"colorscale\":[[0.0,\"#0d0887\"],[0.1111111111111111,\"#46039f\"],[0.2222222222222222,\"#7201a8\"],[0.3333333333333333,\"#9c179e\"],[0.4444444444444444,\"#bd3786\"],[0.5555555555555556,\"#d8576b\"],[0.6666666666666666,\"#ed7953\"],[0.7777777777777778,\"#fb9f3a\"],[0.8888888888888888,\"#fdca26\"],[1.0,\"#f0f921\"]],\"type\":\"heatmap\"}],\"heatmapgl\":[{\"colorbar\":{\"outlinewidth\":0,\"ticks\":\"\"},\"colorscale\":[[0.0,\"#0d0887\"],[0.1111111111111111,\"#46039f\"],[0.2222222222222222,\"#7201a8\"],[0.3333333333333333,\"#9c179e\"],[0.4444444444444444,\"#bd3786\"],[0.5555555555555556,\"#d8576b\"],[0.6666666666666666,\"#ed7953\"],[0.7777777777777778,\"#fb9f3a\"],[0.8888888888888888,\"#fdca26\"],[1.0,\"#f0f921\"]],\"type\":\"heatmapgl\"}],\"histogram\":[{\"marker\":{\"pattern\":{\"fillmode\":\"overlay\",\"size\":10,\"solidity\":0.2}},\"type\":\"histogram\"}],\"histogram2d\":[{\"colorbar\":{\"outlinewidth\":0,\"ticks\":\"\"},\"colorscale\":[[0.0,\"#0d0887\"],[0.1111111111111111,\"#46039f\"],[0.2222222222222222,\"#7201a8\"],[0.3333333333333333,\"#9c179e\"],[0.4444444444444444,\"#bd3786\"],[0.5555555555555556,\"#d8576b\"],[0.6666666666666666,\"#ed7953\"],[0.7777777777777778,\"#fb9f3a\"],[0.8888888888888888,\"#fdca26\"],[1.0,\"#f0f921\"]],\"type\":\"histogram2d\"}],\"histogram2dcontour\":[{\"colorbar\":{\"outlinewidth\":0,\"ticks\":\"\"},\"colorscale\":[[0.0,\"#0d0887\"],[0.1111111111111111,\"#46039f\"],[0.2222222222222222,\"#7201a8\"],[0.3333333333333333,\"#9c179e\"],[0.4444444444444444,\"#bd3786\"],[0.5555555555555556,\"#d8576b\"],[0.6666666666666666,\"#ed7953\"],[0.7777777777777778,\"#fb9f3a\"],[0.8888888888888888,\"#fdca26\"],[1.0,\"#f0f921\"]],\"type\":\"histogram2dcontour\"}],\"mesh3d\":[{\"colorbar\":{\"outlinewidth\":0,\"ticks\":\"\"},\"type\":\"mesh3d\"}],\"parcoords\":[{\"line\":{\"colorbar\":{\"outlinewidth\":0,\"ticks\":\"\"}},\"type\":\"parcoords\"}],\"pie\":[{\"automargin\":true,\"type\":\"pie\"}],\"scatter\":[{\"marker\":{\"colorbar\":{\"outlinewidth\":0,\"ticks\":\"\"}},\"type\":\"scatter\"}],\"scatter3d\":[{\"line\":{\"colorbar\":{\"outlinewidth\":0,\"ticks\":\"\"}},\"marker\":{\"colorbar\":{\"outlinewidth\":0,\"ticks\":\"\"}},\"type\":\"scatter3d\"}],\"scattercarpet\":[{\"marker\":{\"colorbar\":{\"outlinewidth\":0,\"ticks\":\"\"}},\"type\":\"scattercarpet\"}],\"scattergeo\":[{\"marker\":{\"colorbar\":{\"outlinewidth\":0,\"ticks\":\"\"}},\"type\":\"scattergeo\"}],\"scattergl\":[{\"marker\":{\"colorbar\":{\"outlinewidth\":0,\"ticks\":\"\"}},\"type\":\"scattergl\"}],\"scattermapbox\":[{\"marker\":{\"colorbar\":{\"outlinewidth\":0,\"ticks\":\"\"}},\"type\":\"scattermapbox\"}],\"scatterpolar\":[{\"marker\":{\"colorbar\":{\"outlinewidth\":0,\"ticks\":\"\"}},\"type\":\"scatterpolar\"}],\"scatterpolargl\":[{\"marker\":{\"colorbar\":{\"outlinewidth\":0,\"ticks\":\"\"}},\"type\":\"scatterpolargl\"}],\"scatterternary\":[{\"marker\":{\"colorbar\":{\"outlinewidth\":0,\"ticks\":\"\"}},\"type\":\"scatterternary\"}],\"surface\":[{\"colorbar\":{\"outlinewidth\":0,\"ticks\":\"\"},\"colorscale\":[[0.0,\"#0d0887\"],[0.1111111111111111,\"#46039f\"],[0.2222222222222222,\"#7201a8\"],[0.3333333333333333,\"#9c179e\"],[0.4444444444444444,\"#bd3786\"],[0.5555555555555556,\"#d8576b\"],[0.6666666666666666,\"#ed7953\"],[0.7777777777777778,\"#fb9f3a\"],[0.8888888888888888,\"#fdca26\"],[1.0,\"#f0f921\"]],\"type\":\"surface\"}],\"table\":[{\"cells\":{\"fill\":{\"color\":\"#EBF0F8\"},\"line\":{\"color\":\"white\"}},\"header\":{\"fill\":{\"color\":\"#C8D4E3\"},\"line\":{\"color\":\"white\"}},\"type\":\"table\"}]},\"layout\":{\"annotationdefaults\":{\"arrowcolor\":\"#2a3f5f\",\"arrowhead\":0,\"arrowwidth\":1},\"autotypenumbers\":\"strict\",\"coloraxis\":{\"colorbar\":{\"outlinewidth\":0,\"ticks\":\"\"}},\"colorscale\":{\"diverging\":[[0,\"#8e0152\"],[0.1,\"#c51b7d\"],[0.2,\"#de77ae\"],[0.3,\"#f1b6da\"],[0.4,\"#fde0ef\"],[0.5,\"#f7f7f7\"],[0.6,\"#e6f5d0\"],[0.7,\"#b8e186\"],[0.8,\"#7fbc41\"],[0.9,\"#4d9221\"],[1,\"#276419\"]],\"sequential\":[[0.0,\"#0d0887\"],[0.1111111111111111,\"#46039f\"],[0.2222222222222222,\"#7201a8\"],[0.3333333333333333,\"#9c179e\"],[0.4444444444444444,\"#bd3786\"],[0.5555555555555556,\"#d8576b\"],[0.6666666666666666,\"#ed7953\"],[0.7777777777777778,\"#fb9f3a\"],[0.8888888888888888,\"#fdca26\"],[1.0,\"#f0f921\"]],\"sequentialminus\":[[0.0,\"#0d0887\"],[0.1111111111111111,\"#46039f\"],[0.2222222222222222,\"#7201a8\"],[0.3333333333333333,\"#9c179e\"],[0.4444444444444444,\"#bd3786\"],[0.5555555555555556,\"#d8576b\"],[0.6666666666666666,\"#ed7953\"],[0.7777777777777778,\"#fb9f3a\"],[0.8888888888888888,\"#fdca26\"],[1.0,\"#f0f921\"]]},\"colorway\":[\"#636efa\",\"#EF553B\",\"#00cc96\",\"#ab63fa\",\"#FFA15A\",\"#19d3f3\",\"#FF6692\",\"#B6E880\",\"#FF97FF\",\"#FECB52\"],\"font\":{\"color\":\"#2a3f5f\"},\"geo\":{\"bgcolor\":\"white\",\"lakecolor\":\"white\",\"landcolor\":\"#E5ECF6\",\"showlakes\":true,\"showland\":true,\"subunitcolor\":\"white\"},\"hoverlabel\":{\"align\":\"left\"},\"hovermode\":\"closest\",\"mapbox\":{\"style\":\"light\"},\"paper_bgcolor\":\"white\",\"plot_bgcolor\":\"#E5ECF6\",\"polar\":{\"angularaxis\":{\"gridcolor\":\"white\",\"linecolor\":\"white\",\"ticks\":\"\"},\"bgcolor\":\"#E5ECF6\",\"radialaxis\":{\"gridcolor\":\"white\",\"linecolor\":\"white\",\"ticks\":\"\"}},\"scene\":{\"xaxis\":{\"backgroundcolor\":\"#E5ECF6\",\"gridcolor\":\"white\",\"gridwidth\":2,\"linecolor\":\"white\",\"showbackground\":true,\"ticks\":\"\",\"zerolinecolor\":\"white\"},\"yaxis\":{\"backgroundcolor\":\"#E5ECF6\",\"gridcolor\":\"white\",\"gridwidth\":2,\"linecolor\":\"white\",\"showbackground\":true,\"ticks\":\"\",\"zerolinecolor\":\"white\"},\"zaxis\":{\"backgroundcolor\":\"#E5ECF6\",\"gridcolor\":\"white\",\"gridwidth\":2,\"linecolor\":\"white\",\"showbackground\":true,\"ticks\":\"\",\"zerolinecolor\":\"white\"}},\"shapedefaults\":{\"line\":{\"color\":\"#2a3f5f\"}},\"ternary\":{\"aaxis\":{\"gridcolor\":\"white\",\"linecolor\":\"white\",\"ticks\":\"\"},\"baxis\":{\"gridcolor\":\"white\",\"linecolor\":\"white\",\"ticks\":\"\"},\"bgcolor\":\"#E5ECF6\",\"caxis\":{\"gridcolor\":\"white\",\"linecolor\":\"white\",\"ticks\":\"\"}},\"title\":{\"x\":0.05},\"xaxis\":{\"automargin\":true,\"gridcolor\":\"white\",\"linecolor\":\"white\",\"ticks\":\"\",\"title\":{\"standoff\":15},\"zerolinecolor\":\"white\",\"zerolinewidth\":2},\"yaxis\":{\"automargin\":true,\"gridcolor\":\"white\",\"linecolor\":\"white\",\"ticks\":\"\",\"title\":{\"standoff\":15},\"zerolinecolor\":\"white\",\"zerolinewidth\":2}}},\"xaxis\":{\"anchor\":\"y\",\"domain\":[0.0,1.0],\"title\":{\"text\":\"Profit ($)\"}},\"yaxis\":{\"anchor\":\"x\",\"domain\":[0.0,1.0],\"title\":{\"text\":\"count\"}},\"legend\":{\"title\":{\"text\":\"variable\"},\"tracegroupgap\":0},\"margin\":{\"t\":60},\"barmode\":\"relative\",\"title\":{\"text\":\"Distribution of cash profits across sample portfolios\",\"x\":0.5,\"y\":0.95},\"height\":800,\"showlegend\":false},                        {\"responsive\": true}                    ).then(function(){\n",
       "                            \n",
       "var gd = document.getElementById('63016ba2-1a70-48bf-9a3a-3906dca8c42e');\n",
       "var x = new MutationObserver(function (mutations, observer) {{\n",
       "        var display = window.getComputedStyle(gd).display;\n",
       "        if (!display || display === 'none') {{\n",
       "            console.log([gd, 'removed!']);\n",
       "            Plotly.purge(gd);\n",
       "            observer.disconnect();\n",
       "        }}\n",
       "}});\n",
       "\n",
       "// Listen for the removal of the full notebook cells\n",
       "var notebookContainer = gd.closest('#notebook-container');\n",
       "if (notebookContainer) {{\n",
       "    x.observe(notebookContainer, {childList: true});\n",
       "}}\n",
       "\n",
       "// Listen for the clearing of the current output cell\n",
       "var outputEl = gd.closest('.output');\n",
       "if (outputEl) {{\n",
       "    x.observe(outputEl, {childList: true});\n",
       "}}\n",
       "\n",
       "                        })                };                });            </script>        </div>"
      ]
     },
     "metadata": {},
     "output_type": "display_data"
    }
   ],
   "source": [
    "fig = px.histogram(cash_profits, nbins=50)\n",
    "fig.update_xaxes(title_text=\"Profit ($)\")\n",
    "fig.update_layout(title_text=f\"Distribution of cash profits across sample portfolios\", \n",
    "                  title_x=0.5,\n",
    "                  title_y=0.95,\n",
    "                  height=800,\n",
    "                  showlegend=False\n",
    "                 )\n",
    "fig.show()"
   ]
  },
  {
   "cell_type": "markdown",
   "id": "a6907d0b-e67b-4a22-ba7c-d58a567cc5b3",
   "metadata": {},
   "source": [
    "**We make an average of $7000 in cash profits over 3 years. On a 30k investment. This averages out to an annual return of approximately 8% between April 2019 and March 2022. The S&P500 has historically made a 10.5% annualised return according to Investopedia. In addition, the annual returns over the last 3 years averaged over 20%!**\n",
    "\n",
    "**What could this mean for our risk-adjusted returns? Is it below zero?**"
   ]
  },
  {
   "cell_type": "code",
   "execution_count": 64,
   "id": "c2d57710-17fd-4cfc-a1f3-6eadcf67bf64",
   "metadata": {},
   "outputs": [
    {
     "data": {
      "application/vnd.plotly.v1+json": {
       "config": {
        "plotlyServerURL": "https://plot.ly"
       },
       "data": [
        {
         "alignmentgroup": "True",
         "bingroup": "x",
         "hovertemplate": "variable=0<br>value=%{x}<br>count=%{y}<extra></extra>",
         "legendgroup": "0",
         "marker": {
          "color": "#636efa",
          "pattern": {
           "shape": ""
          }
         },
         "name": "0",
         "nbinsx": 40,
         "offsetgroup": "0",
         "orientation": "v",
         "showlegend": true,
         "type": "histogram",
         "x": [
          -0.7826600510875553,
          -0.22336115112274266,
          0.8949417525282866,
          -0.4208250211552662,
          -0.8471996026463093,
          0.2820091816383838,
          -0.8244866576210647,
          -0.8789686211945477,
          0.05941833216890408,
          0.6846310792900788,
          -0.7049003504165422,
          0.17941465161979775,
          1.8022035806081242,
          1.0831880157228013,
          -1.014855685726095,
          1.1504587406155442,
          0.7722061735501394,
          -0.3478004342307513,
          -1.1039008929293455,
          1.4034550685681957,
          -0.32893255470343336,
          -0.8659259946169059,
          0.883270383292798,
          0.32071577149768327,
          0.26117828202814164,
          0.9723603638529249,
          1.0592483098963128,
          -1.2235145573258106,
          -0.45932962717666953,
          -1.4248259310142761,
          -0.3700830988307211,
          1.5264564095511608,
          -0.21620021865738245,
          -0.17844598993938054,
          -0.4761154071185951,
          0.9540207966541642,
          0.5330034487816301,
          -1.358955195671131,
          -1.457071103470595,
          -0.26627399444518246,
          0.7081270214159056,
          -0.24372297868331547,
          0.3321840372177679,
          -0.554947515086953,
          -0.6226773110854229,
          -0.33920617127172487,
          0.439274990839689,
          -0.6237038330836722,
          -0.12682417440054394,
          0.4622523807768784,
          0.6111504103294684,
          -0.20973052000362452,
          1.5888128622696907,
          -0.4795928647654648,
          -0.19663442111110827,
          0.8533645528688001,
          0.6170212818545281,
          1.2446363461316652,
          0.49341774749977796,
          -1.2550673440230526,
          -0.9304734162034539,
          0.9806187258700855,
          -1.0928057348958666,
          -0.599198349655822,
          0.30944608758032166,
          -0.5538417528526934,
          0.5819084402821537,
          -1.0428797666440597,
          1.5456616340220746,
          -0.6288267027880274,
          0.027396827475867316,
          0.6126679053798265,
          -1.0214960573376155,
          2.179517882472788,
          2.253924769148773,
          -0.6041687297655726,
          0.24227924003905696,
          -1.1696519818965405,
          0.34881512350150323,
          2.1580398829764937,
          -0.35397158036177295,
          -0.9993365778894867,
          -0.9402102671074263,
          0.08888013160576749,
          1.4179108904829383,
          1.9101842854111162,
          0.6357263299812935,
          -0.5481137311253336,
          0.8392977714249641,
          -1.7111019815475863,
          0.9623864137959872,
          1.5441272086318294,
          -1.091338361728153,
          0.05181868154912002,
          0.4305437067862906,
          0.2009386380467971,
          2.0728862791260467,
          0.6150407398397224,
          -1.9586032160844098,
          -0.6528269534678639,
          -0.040255696110575154,
          -0.34498837578997327,
          0.25694888368784036,
          -1.1436631374653523,
          -0.25106871195757413,
          0.37826644315698216,
          -1.4847585830149503,
          0.4026210353888702,
          -2.338106436905804,
          0.49931212315083345,
          -0.8806501719895208,
          0.4452812519217944,
          -1.2998683394850472,
          -0.7173146735235786,
          -1.5063917252521404,
          0.2910172392853905,
          -0.8133955062145627,
          -1.9304962158489216,
          1.434573614890873,
          -0.3905287500301102,
          0.04999945587290061,
          0.21717555491445392,
          0.9727835673877759,
          0.5233566643135901,
          -0.9495903579738936,
          0.8177851915197568,
          -0.10492656671806558,
          -0.1603731999668108,
          0.568912672837532,
          1.4349279295971502,
          1.1243711109965482,
          1.9808985877548937,
          0.4225506601888686,
          1.8438817810869261,
          0.5798141401316679,
          1.6027650893859435,
          -0.5629262844386032,
          -1.013299734516781,
          0.010832509139101857,
          0.9103752634151498,
          -0.4153314365624045,
          0.6555338056895068,
          -0.6402368683282605,
          -0.2360022605836729,
          2.1443535124452415,
          -0.8123510180042055,
          0.12015117726634422,
          0.34665053649878297,
          -0.3671844314182954,
          -0.9324671293000316,
          1.7811283322700662,
          1.4596644948050237,
          0.038541688258000945,
          0.12994681441174336,
          0.051338464740108364,
          -0.5285292687584964,
          -0.3983488631750827,
          -1.8786356839504255,
          -0.8282682870783817,
          -0.06127763829409535,
          -0.20866169848426222,
          -1.0281354743546016,
          0.4012810991959319,
          0.5207763173998632,
          0.10589908369847296,
          0.07567619443237927,
          0.6146102964424527,
          1.4110440557306694,
          0.5949265078025832,
          0.47829229880916757,
          1.6490109008650913,
          1.7645400438678742,
          -1.1039517525269935,
          0.10811536622039276,
          0.312552570961576,
          -1.7735442921665758,
          0.1718964104436685,
          -0.5983023066334765,
          -1.4430969194242145,
          -1.9014705307509205,
          0.15446944470617327,
          1.3333535602932172,
          -0.3371327099465123,
          0.04661240441291175,
          -0.9898565154588226,
          -0.07158621367899891,
          -0.5377337605297053,
          -0.1263064635225188,
          -0.33452852536344474,
          2.0790509756178426,
          0.4111540502314997,
          0.23174637196462303,
          -0.4287825954155168,
          -0.06961259180365044,
          -0.03470658992997767,
          -0.5925046896219882,
          -1.3454560262341644,
          2.239190741732537,
          -0.011609461484996291,
          0.35119939859366395
         ],
         "xaxis": "x",
         "yaxis": "y"
        }
       ],
       "layout": {
        "autosize": true,
        "barmode": "relative",
        "legend": {
         "title": {
          "text": "variable"
         },
         "tracegroupgap": 0
        },
        "margin": {
         "t": 60
        },
        "showlegend": false,
        "template": {
         "data": {
          "bar": [
           {
            "error_x": {
             "color": "#2a3f5f"
            },
            "error_y": {
             "color": "#2a3f5f"
            },
            "marker": {
             "line": {
              "color": "#E5ECF6",
              "width": 0.5
             },
             "pattern": {
              "fillmode": "overlay",
              "size": 10,
              "solidity": 0.2
             }
            },
            "type": "bar"
           }
          ],
          "barpolar": [
           {
            "marker": {
             "line": {
              "color": "#E5ECF6",
              "width": 0.5
             },
             "pattern": {
              "fillmode": "overlay",
              "size": 10,
              "solidity": 0.2
             }
            },
            "type": "barpolar"
           }
          ],
          "carpet": [
           {
            "aaxis": {
             "endlinecolor": "#2a3f5f",
             "gridcolor": "white",
             "linecolor": "white",
             "minorgridcolor": "white",
             "startlinecolor": "#2a3f5f"
            },
            "baxis": {
             "endlinecolor": "#2a3f5f",
             "gridcolor": "white",
             "linecolor": "white",
             "minorgridcolor": "white",
             "startlinecolor": "#2a3f5f"
            },
            "type": "carpet"
           }
          ],
          "choropleth": [
           {
            "colorbar": {
             "outlinewidth": 0,
             "ticks": ""
            },
            "type": "choropleth"
           }
          ],
          "contour": [
           {
            "colorbar": {
             "outlinewidth": 0,
             "ticks": ""
            },
            "colorscale": [
             [
              0,
              "#0d0887"
             ],
             [
              0.1111111111111111,
              "#46039f"
             ],
             [
              0.2222222222222222,
              "#7201a8"
             ],
             [
              0.3333333333333333,
              "#9c179e"
             ],
             [
              0.4444444444444444,
              "#bd3786"
             ],
             [
              0.5555555555555556,
              "#d8576b"
             ],
             [
              0.6666666666666666,
              "#ed7953"
             ],
             [
              0.7777777777777778,
              "#fb9f3a"
             ],
             [
              0.8888888888888888,
              "#fdca26"
             ],
             [
              1,
              "#f0f921"
             ]
            ],
            "type": "contour"
           }
          ],
          "contourcarpet": [
           {
            "colorbar": {
             "outlinewidth": 0,
             "ticks": ""
            },
            "type": "contourcarpet"
           }
          ],
          "heatmap": [
           {
            "colorbar": {
             "outlinewidth": 0,
             "ticks": ""
            },
            "colorscale": [
             [
              0,
              "#0d0887"
             ],
             [
              0.1111111111111111,
              "#46039f"
             ],
             [
              0.2222222222222222,
              "#7201a8"
             ],
             [
              0.3333333333333333,
              "#9c179e"
             ],
             [
              0.4444444444444444,
              "#bd3786"
             ],
             [
              0.5555555555555556,
              "#d8576b"
             ],
             [
              0.6666666666666666,
              "#ed7953"
             ],
             [
              0.7777777777777778,
              "#fb9f3a"
             ],
             [
              0.8888888888888888,
              "#fdca26"
             ],
             [
              1,
              "#f0f921"
             ]
            ],
            "type": "heatmap"
           }
          ],
          "heatmapgl": [
           {
            "colorbar": {
             "outlinewidth": 0,
             "ticks": ""
            },
            "colorscale": [
             [
              0,
              "#0d0887"
             ],
             [
              0.1111111111111111,
              "#46039f"
             ],
             [
              0.2222222222222222,
              "#7201a8"
             ],
             [
              0.3333333333333333,
              "#9c179e"
             ],
             [
              0.4444444444444444,
              "#bd3786"
             ],
             [
              0.5555555555555556,
              "#d8576b"
             ],
             [
              0.6666666666666666,
              "#ed7953"
             ],
             [
              0.7777777777777778,
              "#fb9f3a"
             ],
             [
              0.8888888888888888,
              "#fdca26"
             ],
             [
              1,
              "#f0f921"
             ]
            ],
            "type": "heatmapgl"
           }
          ],
          "histogram": [
           {
            "marker": {
             "pattern": {
              "fillmode": "overlay",
              "size": 10,
              "solidity": 0.2
             }
            },
            "type": "histogram"
           }
          ],
          "histogram2d": [
           {
            "colorbar": {
             "outlinewidth": 0,
             "ticks": ""
            },
            "colorscale": [
             [
              0,
              "#0d0887"
             ],
             [
              0.1111111111111111,
              "#46039f"
             ],
             [
              0.2222222222222222,
              "#7201a8"
             ],
             [
              0.3333333333333333,
              "#9c179e"
             ],
             [
              0.4444444444444444,
              "#bd3786"
             ],
             [
              0.5555555555555556,
              "#d8576b"
             ],
             [
              0.6666666666666666,
              "#ed7953"
             ],
             [
              0.7777777777777778,
              "#fb9f3a"
             ],
             [
              0.8888888888888888,
              "#fdca26"
             ],
             [
              1,
              "#f0f921"
             ]
            ],
            "type": "histogram2d"
           }
          ],
          "histogram2dcontour": [
           {
            "colorbar": {
             "outlinewidth": 0,
             "ticks": ""
            },
            "colorscale": [
             [
              0,
              "#0d0887"
             ],
             [
              0.1111111111111111,
              "#46039f"
             ],
             [
              0.2222222222222222,
              "#7201a8"
             ],
             [
              0.3333333333333333,
              "#9c179e"
             ],
             [
              0.4444444444444444,
              "#bd3786"
             ],
             [
              0.5555555555555556,
              "#d8576b"
             ],
             [
              0.6666666666666666,
              "#ed7953"
             ],
             [
              0.7777777777777778,
              "#fb9f3a"
             ],
             [
              0.8888888888888888,
              "#fdca26"
             ],
             [
              1,
              "#f0f921"
             ]
            ],
            "type": "histogram2dcontour"
           }
          ],
          "mesh3d": [
           {
            "colorbar": {
             "outlinewidth": 0,
             "ticks": ""
            },
            "type": "mesh3d"
           }
          ],
          "parcoords": [
           {
            "line": {
             "colorbar": {
              "outlinewidth": 0,
              "ticks": ""
             }
            },
            "type": "parcoords"
           }
          ],
          "pie": [
           {
            "automargin": true,
            "type": "pie"
           }
          ],
          "scatter": [
           {
            "marker": {
             "colorbar": {
              "outlinewidth": 0,
              "ticks": ""
             }
            },
            "type": "scatter"
           }
          ],
          "scatter3d": [
           {
            "line": {
             "colorbar": {
              "outlinewidth": 0,
              "ticks": ""
             }
            },
            "marker": {
             "colorbar": {
              "outlinewidth": 0,
              "ticks": ""
             }
            },
            "type": "scatter3d"
           }
          ],
          "scattercarpet": [
           {
            "marker": {
             "colorbar": {
              "outlinewidth": 0,
              "ticks": ""
             }
            },
            "type": "scattercarpet"
           }
          ],
          "scattergeo": [
           {
            "marker": {
             "colorbar": {
              "outlinewidth": 0,
              "ticks": ""
             }
            },
            "type": "scattergeo"
           }
          ],
          "scattergl": [
           {
            "marker": {
             "colorbar": {
              "outlinewidth": 0,
              "ticks": ""
             }
            },
            "type": "scattergl"
           }
          ],
          "scattermapbox": [
           {
            "marker": {
             "colorbar": {
              "outlinewidth": 0,
              "ticks": ""
             }
            },
            "type": "scattermapbox"
           }
          ],
          "scatterpolar": [
           {
            "marker": {
             "colorbar": {
              "outlinewidth": 0,
              "ticks": ""
             }
            },
            "type": "scatterpolar"
           }
          ],
          "scatterpolargl": [
           {
            "marker": {
             "colorbar": {
              "outlinewidth": 0,
              "ticks": ""
             }
            },
            "type": "scatterpolargl"
           }
          ],
          "scatterternary": [
           {
            "marker": {
             "colorbar": {
              "outlinewidth": 0,
              "ticks": ""
             }
            },
            "type": "scatterternary"
           }
          ],
          "surface": [
           {
            "colorbar": {
             "outlinewidth": 0,
             "ticks": ""
            },
            "colorscale": [
             [
              0,
              "#0d0887"
             ],
             [
              0.1111111111111111,
              "#46039f"
             ],
             [
              0.2222222222222222,
              "#7201a8"
             ],
             [
              0.3333333333333333,
              "#9c179e"
             ],
             [
              0.4444444444444444,
              "#bd3786"
             ],
             [
              0.5555555555555556,
              "#d8576b"
             ],
             [
              0.6666666666666666,
              "#ed7953"
             ],
             [
              0.7777777777777778,
              "#fb9f3a"
             ],
             [
              0.8888888888888888,
              "#fdca26"
             ],
             [
              1,
              "#f0f921"
             ]
            ],
            "type": "surface"
           }
          ],
          "table": [
           {
            "cells": {
             "fill": {
              "color": "#EBF0F8"
             },
             "line": {
              "color": "white"
             }
            },
            "header": {
             "fill": {
              "color": "#C8D4E3"
             },
             "line": {
              "color": "white"
             }
            },
            "type": "table"
           }
          ]
         },
         "layout": {
          "annotationdefaults": {
           "arrowcolor": "#2a3f5f",
           "arrowhead": 0,
           "arrowwidth": 1
          },
          "autotypenumbers": "strict",
          "coloraxis": {
           "colorbar": {
            "outlinewidth": 0,
            "ticks": ""
           }
          },
          "colorscale": {
           "diverging": [
            [
             0,
             "#8e0152"
            ],
            [
             0.1,
             "#c51b7d"
            ],
            [
             0.2,
             "#de77ae"
            ],
            [
             0.3,
             "#f1b6da"
            ],
            [
             0.4,
             "#fde0ef"
            ],
            [
             0.5,
             "#f7f7f7"
            ],
            [
             0.6,
             "#e6f5d0"
            ],
            [
             0.7,
             "#b8e186"
            ],
            [
             0.8,
             "#7fbc41"
            ],
            [
             0.9,
             "#4d9221"
            ],
            [
             1,
             "#276419"
            ]
           ],
           "sequential": [
            [
             0,
             "#0d0887"
            ],
            [
             0.1111111111111111,
             "#46039f"
            ],
            [
             0.2222222222222222,
             "#7201a8"
            ],
            [
             0.3333333333333333,
             "#9c179e"
            ],
            [
             0.4444444444444444,
             "#bd3786"
            ],
            [
             0.5555555555555556,
             "#d8576b"
            ],
            [
             0.6666666666666666,
             "#ed7953"
            ],
            [
             0.7777777777777778,
             "#fb9f3a"
            ],
            [
             0.8888888888888888,
             "#fdca26"
            ],
            [
             1,
             "#f0f921"
            ]
           ],
           "sequentialminus": [
            [
             0,
             "#0d0887"
            ],
            [
             0.1111111111111111,
             "#46039f"
            ],
            [
             0.2222222222222222,
             "#7201a8"
            ],
            [
             0.3333333333333333,
             "#9c179e"
            ],
            [
             0.4444444444444444,
             "#bd3786"
            ],
            [
             0.5555555555555556,
             "#d8576b"
            ],
            [
             0.6666666666666666,
             "#ed7953"
            ],
            [
             0.7777777777777778,
             "#fb9f3a"
            ],
            [
             0.8888888888888888,
             "#fdca26"
            ],
            [
             1,
             "#f0f921"
            ]
           ]
          },
          "colorway": [
           "#636efa",
           "#EF553B",
           "#00cc96",
           "#ab63fa",
           "#FFA15A",
           "#19d3f3",
           "#FF6692",
           "#B6E880",
           "#FF97FF",
           "#FECB52"
          ],
          "font": {
           "color": "#2a3f5f"
          },
          "geo": {
           "bgcolor": "white",
           "lakecolor": "white",
           "landcolor": "#E5ECF6",
           "showlakes": true,
           "showland": true,
           "subunitcolor": "white"
          },
          "hoverlabel": {
           "align": "left"
          },
          "hovermode": "closest",
          "mapbox": {
           "style": "light"
          },
          "paper_bgcolor": "white",
          "plot_bgcolor": "#E5ECF6",
          "polar": {
           "angularaxis": {
            "gridcolor": "white",
            "linecolor": "white",
            "ticks": ""
           },
           "bgcolor": "#E5ECF6",
           "radialaxis": {
            "gridcolor": "white",
            "linecolor": "white",
            "ticks": ""
           }
          },
          "scene": {
           "xaxis": {
            "backgroundcolor": "#E5ECF6",
            "gridcolor": "white",
            "gridwidth": 2,
            "linecolor": "white",
            "showbackground": true,
            "ticks": "",
            "zerolinecolor": "white"
           },
           "yaxis": {
            "backgroundcolor": "#E5ECF6",
            "gridcolor": "white",
            "gridwidth": 2,
            "linecolor": "white",
            "showbackground": true,
            "ticks": "",
            "zerolinecolor": "white"
           },
           "zaxis": {
            "backgroundcolor": "#E5ECF6",
            "gridcolor": "white",
            "gridwidth": 2,
            "linecolor": "white",
            "showbackground": true,
            "ticks": "",
            "zerolinecolor": "white"
           }
          },
          "shapedefaults": {
           "line": {
            "color": "#2a3f5f"
           }
          },
          "ternary": {
           "aaxis": {
            "gridcolor": "white",
            "linecolor": "white",
            "ticks": ""
           },
           "baxis": {
            "gridcolor": "white",
            "linecolor": "white",
            "ticks": ""
           },
           "bgcolor": "#E5ECF6",
           "caxis": {
            "gridcolor": "white",
            "linecolor": "white",
            "ticks": ""
           }
          },
          "title": {
           "x": 0.05
          },
          "xaxis": {
           "automargin": true,
           "gridcolor": "white",
           "linecolor": "white",
           "ticks": "",
           "title": {
            "standoff": 15
           },
           "zerolinecolor": "white",
           "zerolinewidth": 2
          },
          "yaxis": {
           "automargin": true,
           "gridcolor": "white",
           "linecolor": "white",
           "ticks": "",
           "title": {
            "standoff": 15
           },
           "zerolinecolor": "white",
           "zerolinewidth": 2
          }
         }
        },
        "title": {
         "text": "Distribution of risk adjusted returns across sample portfolios",
         "x": 0.5,
         "y": 0.95
        },
        "xaxis": {
         "anchor": "y",
         "autorange": true,
         "domain": [
          0,
          1
         ],
         "range": [
          -2.3999999999999995,
          2.3999999999999995
         ],
         "title": {
          "text": "Mean portfolio risk adjusted return (%)"
         },
         "type": "linear"
        },
        "yaxis": {
         "anchor": "x",
         "autorange": true,
         "domain": [
          0,
          1
         ],
         "range": [
          0,
          20
         ],
         "title": {
          "text": "count"
         }
        }
       }
      },
      "image/png": "[encoded data removed]",
      "text/html": [
       "<div>                            <div id=\"5b58aeb2-72d7-4132-abc6-d3c0d4800cbd\" class=\"plotly-graph-div\" style=\"height:800px; width:100%;\"></div>            <script type=\"text/javascript\">                require([\"plotly\"], function(Plotly) {                    window.PLOTLYENV=window.PLOTLYENV || {};                                    if (document.getElementById(\"5b58aeb2-72d7-4132-abc6-d3c0d4800cbd\")) {                    Plotly.newPlot(                        \"5b58aeb2-72d7-4132-abc6-d3c0d4800cbd\",                        [{\"alignmentgroup\":\"True\",\"bingroup\":\"x\",\"hovertemplate\":\"variable=0<br>value=%{x}<br>count=%{y}<extra></extra>\",\"legendgroup\":\"0\",\"marker\":{\"color\":\"#636efa\",\"pattern\":{\"shape\":\"\"}},\"name\":\"0\",\"nbinsx\":40,\"offsetgroup\":\"0\",\"orientation\":\"v\",\"showlegend\":true,\"x\":[-0.7826600510875553,-0.22336115112274266,0.8949417525282866,-0.4208250211552662,-0.8471996026463093,0.2820091816383838,-0.8244866576210647,-0.8789686211945477,0.05941833216890408,0.6846310792900788,-0.7049003504165422,0.17941465161979775,1.8022035806081242,1.0831880157228013,-1.014855685726095,1.1504587406155442,0.7722061735501394,-0.3478004342307513,-1.1039008929293455,1.4034550685681957,-0.32893255470343336,-0.8659259946169059,0.883270383292798,0.32071577149768327,0.26117828202814164,0.9723603638529249,1.0592483098963128,-1.2235145573258106,-0.45932962717666953,-1.4248259310142761,-0.3700830988307211,1.5264564095511608,-0.21620021865738245,-0.17844598993938054,-0.4761154071185951,0.9540207966541642,0.5330034487816301,-1.358955195671131,-1.457071103470595,-0.26627399444518246,0.7081270214159056,-0.24372297868331547,0.3321840372177679,-0.554947515086953,-0.6226773110854229,-0.33920617127172487,0.439274990839689,-0.6237038330836722,-0.12682417440054394,0.4622523807768784,0.6111504103294684,-0.20973052000362452,1.5888128622696907,-0.4795928647654648,-0.19663442111110827,0.8533645528688001,0.6170212818545281,1.2446363461316652,0.49341774749977796,-1.2550673440230526,-0.9304734162034539,0.9806187258700855,-1.0928057348958666,-0.599198349655822,0.30944608758032166,-0.5538417528526934,0.5819084402821537,-1.0428797666440597,1.5456616340220746,-0.6288267027880274,0.027396827475867316,0.6126679053798265,-1.0214960573376155,2.179517882472788,2.253924769148773,-0.6041687297655726,0.24227924003905696,-1.1696519818965405,0.34881512350150323,2.1580398829764937,-0.35397158036177295,-0.9993365778894867,-0.9402102671074263,0.08888013160576749,1.4179108904829383,1.9101842854111162,0.6357263299812935,-0.5481137311253336,0.8392977714249641,-1.7111019815475863,0.9623864137959872,1.5441272086318294,-1.091338361728153,0.05181868154912002,0.4305437067862906,0.2009386380467971,2.0728862791260467,0.6150407398397224,-1.9586032160844098,-0.6528269534678639,-0.040255696110575154,-0.34498837578997327,0.25694888368784036,-1.1436631374653523,-0.25106871195757413,0.37826644315698216,-1.4847585830149503,0.4026210353888702,-2.338106436905804,0.49931212315083345,-0.8806501719895208,0.4452812519217944,-1.2998683394850472,-0.7173146735235786,-1.5063917252521404,0.2910172392853905,-0.8133955062145627,-1.9304962158489216,1.434573614890873,-0.3905287500301102,0.04999945587290061,0.21717555491445392,0.9727835673877759,0.5233566643135901,-0.9495903579738936,0.8177851915197568,-0.10492656671806558,-0.1603731999668108,0.568912672837532,1.4349279295971502,1.1243711109965482,1.9808985877548937,0.4225506601888686,1.8438817810869261,0.5798141401316679,1.6027650893859435,-0.5629262844386032,-1.013299734516781,0.010832509139101857,0.9103752634151498,-0.4153314365624045,0.6555338056895068,-0.6402368683282605,-0.2360022605836729,2.1443535124452415,-0.8123510180042055,0.12015117726634422,0.34665053649878297,-0.3671844314182954,-0.9324671293000316,1.7811283322700662,1.4596644948050237,0.038541688258000945,0.12994681441174336,0.051338464740108364,-0.5285292687584964,-0.3983488631750827,-1.8786356839504255,-0.8282682870783817,-0.06127763829409535,-0.20866169848426222,-1.0281354743546016,0.4012810991959319,0.5207763173998632,0.10589908369847296,0.07567619443237927,0.6146102964424527,1.4110440557306694,0.5949265078025832,0.47829229880916757,1.6490109008650913,1.7645400438678742,-1.1039517525269935,0.10811536622039276,0.312552570961576,-1.7735442921665758,0.1718964104436685,-0.5983023066334765,-1.4430969194242145,-1.9014705307509205,0.15446944470617327,1.3333535602932172,-0.3371327099465123,0.04661240441291175,-0.9898565154588226,-0.07158621367899891,-0.5377337605297053,-0.1263064635225188,-0.33452852536344474,2.0790509756178426,0.4111540502314997,0.23174637196462303,-0.4287825954155168,-0.06961259180365044,-0.03470658992997767,-0.5925046896219882,-1.3454560262341644,2.239190741732537,-0.011609461484996291,0.35119939859366395],\"xaxis\":\"x\",\"yaxis\":\"y\",\"type\":\"histogram\"}],                        {\"template\":{\"data\":{\"bar\":[{\"error_x\":{\"color\":\"#2a3f5f\"},\"error_y\":{\"color\":\"#2a3f5f\"},\"marker\":{\"line\":{\"color\":\"#E5ECF6\",\"width\":0.5},\"pattern\":{\"fillmode\":\"overlay\",\"size\":10,\"solidity\":0.2}},\"type\":\"bar\"}],\"barpolar\":[{\"marker\":{\"line\":{\"color\":\"#E5ECF6\",\"width\":0.5},\"pattern\":{\"fillmode\":\"overlay\",\"size\":10,\"solidity\":0.2}},\"type\":\"barpolar\"}],\"carpet\":[{\"aaxis\":{\"endlinecolor\":\"#2a3f5f\",\"gridcolor\":\"white\",\"linecolor\":\"white\",\"minorgridcolor\":\"white\",\"startlinecolor\":\"#2a3f5f\"},\"baxis\":{\"endlinecolor\":\"#2a3f5f\",\"gridcolor\":\"white\",\"linecolor\":\"white\",\"minorgridcolor\":\"white\",\"startlinecolor\":\"#2a3f5f\"},\"type\":\"carpet\"}],\"choropleth\":[{\"colorbar\":{\"outlinewidth\":0,\"ticks\":\"\"},\"type\":\"choropleth\"}],\"contour\":[{\"colorbar\":{\"outlinewidth\":0,\"ticks\":\"\"},\"colorscale\":[[0.0,\"#0d0887\"],[0.1111111111111111,\"#46039f\"],[0.2222222222222222,\"#7201a8\"],[0.3333333333333333,\"#9c179e\"],[0.4444444444444444,\"#bd3786\"],[0.5555555555555556,\"#d8576b\"],[0.6666666666666666,\"#ed7953\"],[0.7777777777777778,\"#fb9f3a\"],[0.8888888888888888,\"#fdca26\"],[1.0,\"#f0f921\"]],\"type\":\"contour\"}],\"contourcarpet\":[{\"colorbar\":{\"outlinewidth\":0,\"ticks\":\"\"},\"type\":\"contourcarpet\"}],\"heatmap\":[{\"colorbar\":{\"outlinewidth\":0,\"ticks\":\"\"},\"colorscale\":[[0.0,\"#0d0887\"],[0.1111111111111111,\"#46039f\"],[0.2222222222222222,\"#7201a8\"],[0.3333333333333333,\"#9c179e\"],[0.4444444444444444,\"#bd3786\"],[0.5555555555555556,\"#d8576b\"],[0.6666666666666666,\"#ed7953\"],[0.7777777777777778,\"#fb9f3a\"],[0.8888888888888888,\"#fdca26\"],[1.0,\"#f0f921\"]],\"type\":\"heatmap\"}],\"heatmapgl\":[{\"colorbar\":{\"outlinewidth\":0,\"ticks\":\"\"},\"colorscale\":[[0.0,\"#0d0887\"],[0.1111111111111111,\"#46039f\"],[0.2222222222222222,\"#7201a8\"],[0.3333333333333333,\"#9c179e\"],[0.4444444444444444,\"#bd3786\"],[0.5555555555555556,\"#d8576b\"],[0.6666666666666666,\"#ed7953\"],[0.7777777777777778,\"#fb9f3a\"],[0.8888888888888888,\"#fdca26\"],[1.0,\"#f0f921\"]],\"type\":\"heatmapgl\"}],\"histogram\":[{\"marker\":{\"pattern\":{\"fillmode\":\"overlay\",\"size\":10,\"solidity\":0.2}},\"type\":\"histogram\"}],\"histogram2d\":[{\"colorbar\":{\"outlinewidth\":0,\"ticks\":\"\"},\"colorscale\":[[0.0,\"#0d0887\"],[0.1111111111111111,\"#46039f\"],[0.2222222222222222,\"#7201a8\"],[0.3333333333333333,\"#9c179e\"],[0.4444444444444444,\"#bd3786\"],[0.5555555555555556,\"#d8576b\"],[0.6666666666666666,\"#ed7953\"],[0.7777777777777778,\"#fb9f3a\"],[0.8888888888888888,\"#fdca26\"],[1.0,\"#f0f921\"]],\"type\":\"histogram2d\"}],\"histogram2dcontour\":[{\"colorbar\":{\"outlinewidth\":0,\"ticks\":\"\"},\"colorscale\":[[0.0,\"#0d0887\"],[0.1111111111111111,\"#46039f\"],[0.2222222222222222,\"#7201a8\"],[0.3333333333333333,\"#9c179e\"],[0.4444444444444444,\"#bd3786\"],[0.5555555555555556,\"#d8576b\"],[0.6666666666666666,\"#ed7953\"],[0.7777777777777778,\"#fb9f3a\"],[0.8888888888888888,\"#fdca26\"],[1.0,\"#f0f921\"]],\"type\":\"histogram2dcontour\"}],\"mesh3d\":[{\"colorbar\":{\"outlinewidth\":0,\"ticks\":\"\"},\"type\":\"mesh3d\"}],\"parcoords\":[{\"line\":{\"colorbar\":{\"outlinewidth\":0,\"ticks\":\"\"}},\"type\":\"parcoords\"}],\"pie\":[{\"automargin\":true,\"type\":\"pie\"}],\"scatter\":[{\"marker\":{\"colorbar\":{\"outlinewidth\":0,\"ticks\":\"\"}},\"type\":\"scatter\"}],\"scatter3d\":[{\"line\":{\"colorbar\":{\"outlinewidth\":0,\"ticks\":\"\"}},\"marker\":{\"colorbar\":{\"outlinewidth\":0,\"ticks\":\"\"}},\"type\":\"scatter3d\"}],\"scattercarpet\":[{\"marker\":{\"colorbar\":{\"outlinewidth\":0,\"ticks\":\"\"}},\"type\":\"scattercarpet\"}],\"scattergeo\":[{\"marker\":{\"colorbar\":{\"outlinewidth\":0,\"ticks\":\"\"}},\"type\":\"scattergeo\"}],\"scattergl\":[{\"marker\":{\"colorbar\":{\"outlinewidth\":0,\"ticks\":\"\"}},\"type\":\"scattergl\"}],\"scattermapbox\":[{\"marker\":{\"colorbar\":{\"outlinewidth\":0,\"ticks\":\"\"}},\"type\":\"scattermapbox\"}],\"scatterpolar\":[{\"marker\":{\"colorbar\":{\"outlinewidth\":0,\"ticks\":\"\"}},\"type\":\"scatterpolar\"}],\"scatterpolargl\":[{\"marker\":{\"colorbar\":{\"outlinewidth\":0,\"ticks\":\"\"}},\"type\":\"scatterpolargl\"}],\"scatterternary\":[{\"marker\":{\"colorbar\":{\"outlinewidth\":0,\"ticks\":\"\"}},\"type\":\"scatterternary\"}],\"surface\":[{\"colorbar\":{\"outlinewidth\":0,\"ticks\":\"\"},\"colorscale\":[[0.0,\"#0d0887\"],[0.1111111111111111,\"#46039f\"],[0.2222222222222222,\"#7201a8\"],[0.3333333333333333,\"#9c179e\"],[0.4444444444444444,\"#bd3786\"],[0.5555555555555556,\"#d8576b\"],[0.6666666666666666,\"#ed7953\"],[0.7777777777777778,\"#fb9f3a\"],[0.8888888888888888,\"#fdca26\"],[1.0,\"#f0f921\"]],\"type\":\"surface\"}],\"table\":[{\"cells\":{\"fill\":{\"color\":\"#EBF0F8\"},\"line\":{\"color\":\"white\"}},\"header\":{\"fill\":{\"color\":\"#C8D4E3\"},\"line\":{\"color\":\"white\"}},\"type\":\"table\"}]},\"layout\":{\"annotationdefaults\":{\"arrowcolor\":\"#2a3f5f\",\"arrowhead\":0,\"arrowwidth\":1},\"autotypenumbers\":\"strict\",\"coloraxis\":{\"colorbar\":{\"outlinewidth\":0,\"ticks\":\"\"}},\"colorscale\":{\"diverging\":[[0,\"#8e0152\"],[0.1,\"#c51b7d\"],[0.2,\"#de77ae\"],[0.3,\"#f1b6da\"],[0.4,\"#fde0ef\"],[0.5,\"#f7f7f7\"],[0.6,\"#e6f5d0\"],[0.7,\"#b8e186\"],[0.8,\"#7fbc41\"],[0.9,\"#4d9221\"],[1,\"#276419\"]],\"sequential\":[[0.0,\"#0d0887\"],[0.1111111111111111,\"#46039f\"],[0.2222222222222222,\"#7201a8\"],[0.3333333333333333,\"#9c179e\"],[0.4444444444444444,\"#bd3786\"],[0.5555555555555556,\"#d8576b\"],[0.6666666666666666,\"#ed7953\"],[0.7777777777777778,\"#fb9f3a\"],[0.8888888888888888,\"#fdca26\"],[1.0,\"#f0f921\"]],\"sequentialminus\":[[0.0,\"#0d0887\"],[0.1111111111111111,\"#46039f\"],[0.2222222222222222,\"#7201a8\"],[0.3333333333333333,\"#9c179e\"],[0.4444444444444444,\"#bd3786\"],[0.5555555555555556,\"#d8576b\"],[0.6666666666666666,\"#ed7953\"],[0.7777777777777778,\"#fb9f3a\"],[0.8888888888888888,\"#fdca26\"],[1.0,\"#f0f921\"]]},\"colorway\":[\"#636efa\",\"#EF553B\",\"#00cc96\",\"#ab63fa\",\"#FFA15A\",\"#19d3f3\",\"#FF6692\",\"#B6E880\",\"#FF97FF\",\"#FECB52\"],\"font\":{\"color\":\"#2a3f5f\"},\"geo\":{\"bgcolor\":\"white\",\"lakecolor\":\"white\",\"landcolor\":\"#E5ECF6\",\"showlakes\":true,\"showland\":true,\"subunitcolor\":\"white\"},\"hoverlabel\":{\"align\":\"left\"},\"hovermode\":\"closest\",\"mapbox\":{\"style\":\"light\"},\"paper_bgcolor\":\"white\",\"plot_bgcolor\":\"#E5ECF6\",\"polar\":{\"angularaxis\":{\"gridcolor\":\"white\",\"linecolor\":\"white\",\"ticks\":\"\"},\"bgcolor\":\"#E5ECF6\",\"radialaxis\":{\"gridcolor\":\"white\",\"linecolor\":\"white\",\"ticks\":\"\"}},\"scene\":{\"xaxis\":{\"backgroundcolor\":\"#E5ECF6\",\"gridcolor\":\"white\",\"gridwidth\":2,\"linecolor\":\"white\",\"showbackground\":true,\"ticks\":\"\",\"zerolinecolor\":\"white\"},\"yaxis\":{\"backgroundcolor\":\"#E5ECF6\",\"gridcolor\":\"white\",\"gridwidth\":2,\"linecolor\":\"white\",\"showbackground\":true,\"ticks\":\"\",\"zerolinecolor\":\"white\"},\"zaxis\":{\"backgroundcolor\":\"#E5ECF6\",\"gridcolor\":\"white\",\"gridwidth\":2,\"linecolor\":\"white\",\"showbackground\":true,\"ticks\":\"\",\"zerolinecolor\":\"white\"}},\"shapedefaults\":{\"line\":{\"color\":\"#2a3f5f\"}},\"ternary\":{\"aaxis\":{\"gridcolor\":\"white\",\"linecolor\":\"white\",\"ticks\":\"\"},\"baxis\":{\"gridcolor\":\"white\",\"linecolor\":\"white\",\"ticks\":\"\"},\"bgcolor\":\"#E5ECF6\",\"caxis\":{\"gridcolor\":\"white\",\"linecolor\":\"white\",\"ticks\":\"\"}},\"title\":{\"x\":0.05},\"xaxis\":{\"automargin\":true,\"gridcolor\":\"white\",\"linecolor\":\"white\",\"ticks\":\"\",\"title\":{\"standoff\":15},\"zerolinecolor\":\"white\",\"zerolinewidth\":2},\"yaxis\":{\"automargin\":true,\"gridcolor\":\"white\",\"linecolor\":\"white\",\"ticks\":\"\",\"title\":{\"standoff\":15},\"zerolinecolor\":\"white\",\"zerolinewidth\":2}}},\"xaxis\":{\"anchor\":\"y\",\"domain\":[0.0,1.0],\"title\":{\"text\":\"Mean portfolio risk adjusted return (%)\"}},\"yaxis\":{\"anchor\":\"x\",\"domain\":[0.0,1.0],\"title\":{\"text\":\"count\"}},\"legend\":{\"title\":{\"text\":\"variable\"},\"tracegroupgap\":0},\"margin\":{\"t\":60},\"barmode\":\"relative\",\"title\":{\"text\":\"Distribution of risk adjusted returns across sample portfolios\",\"x\":0.5,\"y\":0.95},\"height\":800,\"showlegend\":false},                        {\"responsive\": true}                    ).then(function(){\n",
       "                            \n",
       "var gd = document.getElementById('5b58aeb2-72d7-4132-abc6-d3c0d4800cbd');\n",
       "var x = new MutationObserver(function (mutations, observer) {{\n",
       "        var display = window.getComputedStyle(gd).display;\n",
       "        if (!display || display === 'none') {{\n",
       "            console.log([gd, 'removed!']);\n",
       "            Plotly.purge(gd);\n",
       "            observer.disconnect();\n",
       "        }}\n",
       "}});\n",
       "\n",
       "// Listen for the removal of the full notebook cells\n",
       "var notebookContainer = gd.closest('#notebook-container');\n",
       "if (notebookContainer) {{\n",
       "    x.observe(notebookContainer, {childList: true});\n",
       "}}\n",
       "\n",
       "// Listen for the clearing of the current output cell\n",
       "var outputEl = gd.closest('.output');\n",
       "if (outputEl) {{\n",
       "    x.observe(outputEl, {childList: true});\n",
       "}}\n",
       "\n",
       "                        })                };                });            </script>        </div>"
      ]
     },
     "metadata": {},
     "output_type": "display_data"
    }
   ],
   "source": [
    "fig = px.histogram(mean_risk_adjusted_ri, nbins=40)\n",
    "fig.update_xaxes(title_text=\"Mean portfolio risk adjusted return (%)\")\n",
    "fig.update_layout(title_text=f\"Distribution of risk adjusted returns across sample portfolios\", \n",
    "                  title_x=0.5,\n",
    "                  title_y=0.95,\n",
    "                  height=800,\n",
    "                  showlegend=False\n",
    "                 )\n",
    "fig.show()"
   ]
  },
  {
   "cell_type": "markdown",
   "id": "feb4826f-ea37-4be0-a0fe-5aa705bfb451",
   "metadata": {},
   "source": [
    "**The risk adjusted returns have a mean of around zero, which seems to side with our initial hypothesis. The most probable reasons for the lower average cash returns is because (1) our algorithm ensures that every stock in the SP500 has an equal chance of being selected in the sample portfolio of each iteration and (2) our trading strategy invests an equal amount in every stock of the sample portfolio (indicating equal weighting). The S&P500 index, on the other hand, uses a free-float market cap weighting method, which means the larger large-cap stocks get higher weightage than the smaller ones. Large-cap tech stocks like FAANG performed extremely well in 2021, which definitely pushed the index performance up.**\n",
    "\n",
    "**In summary, it is still up to our hypothesis test to evaluate whether we can make positive risk-adjusted returns or not.**"
   ]
  },
  {
   "cell_type": "code",
   "execution_count": 79,
   "id": "c40798b2-ba1d-46fe-9e5c-9cefcc69c948",
   "metadata": {},
   "outputs": [
    {
     "name": "stdout",
     "output_type": "stream",
     "text": [
      "Our mean risk adjusted return from 200 portfolios is 0.052198991761892424.\n",
      "The z-statistic is equal to 0.76, which corresponds to a p-value of 0.22.\n"
     ]
    }
   ],
   "source": [
    "alpha = 0.05\n",
    "n = len(mean_risk_adjusted_ri)\n",
    "u0 = 0\n",
    "x_bar = np.mean(mean_risk_adjusted_ri)\n",
    "std_error_of_sample = np.std(mean_risk_adjusted_ri)/np.sqrt(n)\n",
    "\n",
    "z_statistic = (x_bar - u0)/(std_error_of_sample)\n",
    "p_value = scipy.stats.norm.sf(abs(z_statistic))\n",
    "\n",
    "print(f\"Our mean risk adjusted return from {n} portfolios is {x_bar}.\")\n",
    "print(f\"The z-statistic is equal to {np.round(z_statistic, 2)}, which corresponds to a p-value of {np.round(p_value, 2)}.\")"
   ]
  },
  {
   "cell_type": "code",
   "execution_count": 88,
   "id": "35586700-6dac-41f1-a380-d37a380ab506",
   "metadata": {},
   "outputs": [
    {
     "data": {
      "application/vnd.plotly.v1+json": {
       "config": {
        "plotlyServerURL": "https://plot.ly"
       },
       "data": [
        {
         "hovertemplate": "x=%{x}<br>y=%{y}<extra></extra>",
         "legendgroup": "",
         "marker": {
          "color": "#636efa",
          "symbol": "circle"
         },
         "mode": "markers",
         "name": "",
         "orientation": "v",
         "showlegend": false,
         "type": "scatter",
         "x": [
          4803.355104989932,
          7375.573367671939,
          8194.110189962405,
          7660.042652244541,
          6657.044557037414,
          9806.563546981815,
          7239.099747247783,
          5495.354220313908,
          5041.421485185572,
          7147.567865419369,
          7301.487620973567,
          5454.020029830943,
          7179.151404738404,
          9133.602584056935,
          2646.3094995975734,
          7962.36634068485,
          7199.393209991402,
          5096.610690975118,
          4143.445876483929,
          7552.70898379328,
          6588.493965587622,
          6617.413577966705,
          6016.678877029386,
          5195.482001075681,
          4628.186328868847,
          8652.703060989363,
          5621.741455578769,
          5668.772389717022,
          5038.991925487528,
          4246.389129056879,
          6484.689714660621,
          9234.4632105446,
          5475.0870708178045,
          6218.457385463669,
          6753.033815736882,
          6085.204315595518,
          6484.6319248199,
          4766.3491847229525,
          3536.932636508929,
          7487.608154945374,
          6898.052037525231,
          7228.864799847557,
          10373.138138217902,
          7263.603669910437,
          5534.603045902295,
          6361.574025087262,
          6081.972859506612,
          5466.681958999623,
          6771.9766286182785,
          8018.283515796647,
          6440.186130399692,
          4441.343314251935,
          10282.200076074529,
          5685.417688570007,
          3466.1929597472918,
          6572.64498309137,
          8624.872444019216,
          7905.789871707035,
          7225.106526069743,
          3121.6602306270215,
          5707.848332071284,
          6256.952956743233,
          5250.4516042614705,
          8036.928956546755,
          7198.503881177909,
          6555.3882199097425,
          6069.003275833144,
          4901.240770854987,
          6765.974048776618,
          7270.680764236473,
          5579.421874256186,
          5895.060010290123,
          4775.691934804905,
          8216.36632286552,
          7803.010164341911,
          5839.212750444392,
          7678.263583068903,
          5009.677853417379,
          4314.703522996875,
          5696.415534267442,
          7825.974721765488,
          4298.846914806425,
          4968.5109946632365,
          6907.084270858737,
          6061.4819713305915,
          7796.218676748191,
          8050.368114967307,
          7142.885469579705,
          8964.027907142598,
          5500.893689804019,
          5729.902153568248,
          5699.319243550301,
          6368.06498375893,
          7524.378281040168,
          6262.299065980878,
          5531.727213420883,
          9012.241538848895,
          8915.625769710547,
          4712.090835873998,
          5791.202253942502,
          6721.94554204942,
          6639.44761529925,
          6287.167241239578,
          5654.424487075827,
          7084.5528135872155,
          7891.213074960702,
          6195.106315679608,
          8801.38601684571,
          3483.532263045272,
          4304.891147155839,
          3780.7861701012007,
          7450.419339857122,
          6380.333155632063,
          3445.895176897,
          6692.998616085046,
          5084.604820952409,
          5060.863553123461,
          6398.570263052068,
          7376.840581464785,
          5461.505800676416,
          4155.8787982702415,
          9038.919059352877,
          8534.383564834628,
          8397.776032295209,
          5440.787993803053,
          5516.638188075944,
          6604.368575673179,
          4784.302354035412,
          7991.0888889408525,
          7827.621676282892,
          7804.001944131873,
          8492.536567239775,
          8336.833791074809,
          7859.994851999378,
          6357.219995260297,
          9410.10905952446,
          5949.144842481641,
          4784.389128723153,
          6287.876756725345,
          6352.48509039401,
          5038.474287977217,
          8030.385457592034,
          7622.199344244065,
          6443.631784992183,
          10308.720179843847,
          4817.366008901641,
          5407.465748777424,
          9768.909734373105,
          5820.616321020083,
          5368.602484149946,
          11037.472423286425,
          8833.070848693926,
          6316.568696861337,
          5465.043327207604,
          7437.159654903473,
          5881.177890043175,
          7000.229264192647,
          4234.545734233769,
          6819.719185070986,
          7023.276368961415,
          3985.9895384788615,
          5033.464146213548,
          7544.475759544424,
          8522.193538656313,
          6889.104959688193,
          7111.3362148666565,
          7241.793490560063,
          9315.961522040452,
          5282.316395225491,
          7937.124876213129,
          7944.888373036367,
          7999.60065806393,
          4374.373263187474,
          7620.668284940752,
          6016.834119565559,
          6804.675464439366,
          7109.564125933655,
          6983.423667278228,
          4196.9412622713935,
          5287.986647138649,
          6042.556744937967,
          6141.99028283111,
          4032.5077954292865,
          7190.388697557442,
          3968.1668853473966,
          5549.529199152028,
          5924.923961901703,
          4772.928160781863,
          6738.362636175094,
          8270.275556011191,
          9132.914246702254,
          9456.948764305074,
          8748.259403133306,
          7955.736782474487,
          7124.653550062198,
          3600.04179127697,
          6176.421963424691,
          9785.26488802913,
          7616.295199098538,
          7155.468638553626
         ],
         "xaxis": "x",
         "y": [
          -0.7826600510875553,
          -0.22336115112274266,
          0.8949417525282866,
          -0.4208250211552662,
          -0.8471996026463093,
          0.2820091816383838,
          -0.8244866576210647,
          -0.8789686211945477,
          0.05941833216890408,
          0.6846310792900788,
          -0.7049003504165422,
          0.17941465161979775,
          1.8022035806081242,
          1.0831880157228013,
          -1.014855685726095,
          1.1504587406155442,
          0.7722061735501394,
          -0.3478004342307513,
          -1.1039008929293455,
          1.4034550685681957,
          -0.32893255470343336,
          -0.8659259946169059,
          0.883270383292798,
          0.32071577149768327,
          0.26117828202814164,
          0.9723603638529249,
          1.0592483098963128,
          -1.2235145573258106,
          -0.45932962717666953,
          -1.4248259310142761,
          -0.3700830988307211,
          1.5264564095511608,
          -0.21620021865738245,
          -0.17844598993938054,
          -0.4761154071185951,
          0.9540207966541642,
          0.5330034487816301,
          -1.358955195671131,
          -1.457071103470595,
          -0.26627399444518246,
          0.7081270214159056,
          -0.24372297868331547,
          0.3321840372177679,
          -0.554947515086953,
          -0.6226773110854229,
          -0.33920617127172487,
          0.439274990839689,
          -0.6237038330836722,
          -0.12682417440054394,
          0.4622523807768784,
          0.6111504103294684,
          -0.20973052000362452,
          1.5888128622696907,
          -0.4795928647654648,
          -0.19663442111110827,
          0.8533645528688001,
          0.6170212818545281,
          1.2446363461316652,
          0.49341774749977796,
          -1.2550673440230526,
          -0.9304734162034539,
          0.9806187258700855,
          -1.0928057348958666,
          -0.599198349655822,
          0.30944608758032166,
          -0.5538417528526934,
          0.5819084402821537,
          -1.0428797666440597,
          1.5456616340220746,
          -0.6288267027880274,
          0.027396827475867316,
          0.6126679053798265,
          -1.0214960573376155,
          2.179517882472788,
          2.253924769148773,
          -0.6041687297655726,
          0.24227924003905696,
          -1.1696519818965405,
          0.34881512350150323,
          2.1580398829764937,
          -0.35397158036177295,
          -0.9993365778894867,
          -0.9402102671074263,
          0.08888013160576749,
          1.4179108904829383,
          1.9101842854111162,
          0.6357263299812935,
          -0.5481137311253336,
          0.8392977714249641,
          -1.7111019815475863,
          0.9623864137959872,
          1.5441272086318294,
          -1.091338361728153,
          0.05181868154912002,
          0.4305437067862906,
          0.2009386380467971,
          2.0728862791260467,
          0.6150407398397224,
          -1.9586032160844098,
          -0.6528269534678639,
          -0.040255696110575154,
          -0.34498837578997327,
          0.25694888368784036,
          -1.1436631374653523,
          -0.25106871195757413,
          0.37826644315698216,
          -1.4847585830149503,
          0.4026210353888702,
          -2.338106436905804,
          0.49931212315083345,
          -0.8806501719895208,
          0.4452812519217944,
          -1.2998683394850472,
          -0.7173146735235786,
          -1.5063917252521404,
          0.2910172392853905,
          -0.8133955062145627,
          -1.9304962158489216,
          1.434573614890873,
          -0.3905287500301102,
          0.04999945587290061,
          0.21717555491445392,
          0.9727835673877759,
          0.5233566643135901,
          -0.9495903579738936,
          0.8177851915197568,
          -0.10492656671806558,
          -0.1603731999668108,
          0.568912672837532,
          1.4349279295971502,
          1.1243711109965482,
          1.9808985877548937,
          0.4225506601888686,
          1.8438817810869261,
          0.5798141401316679,
          1.6027650893859435,
          -0.5629262844386032,
          -1.013299734516781,
          0.010832509139101857,
          0.9103752634151498,
          -0.4153314365624045,
          0.6555338056895068,
          -0.6402368683282605,
          -0.2360022605836729,
          2.1443535124452415,
          -0.8123510180042055,
          0.12015117726634422,
          0.34665053649878297,
          -0.3671844314182954,
          -0.9324671293000316,
          1.7811283322700662,
          1.4596644948050237,
          0.038541688258000945,
          0.12994681441174336,
          0.051338464740108364,
          -0.5285292687584964,
          -0.3983488631750827,
          -1.8786356839504255,
          -0.8282682870783817,
          -0.06127763829409535,
          -0.20866169848426222,
          -1.0281354743546016,
          0.4012810991959319,
          0.5207763173998632,
          0.10589908369847296,
          0.07567619443237927,
          0.6146102964424527,
          1.4110440557306694,
          0.5949265078025832,
          0.47829229880916757,
          1.6490109008650913,
          1.7645400438678742,
          -1.1039517525269935,
          0.10811536622039276,
          0.312552570961576,
          -1.7735442921665758,
          0.1718964104436685,
          -0.5983023066334765,
          -1.4430969194242145,
          -1.9014705307509205,
          0.15446944470617327,
          1.3333535602932172,
          -0.3371327099465123,
          0.04661240441291175,
          -0.9898565154588226,
          -0.07158621367899891,
          -0.5377337605297053,
          -0.1263064635225188,
          -0.33452852536344474,
          2.0790509756178426,
          0.4111540502314997,
          0.23174637196462303,
          -0.4287825954155168,
          -0.06961259180365044,
          -0.03470658992997767,
          -0.5925046896219882,
          -1.3454560262341644,
          2.239190741732537,
          -0.011609461484996291,
          0.35119939859366395
         ],
         "yaxis": "y"
        },
        {
         "hovertemplate": "<b>OLS trendline</b><br>y = 0.000357221 * x + -2.29282<br>R<sup>2</sup>=0.347963<br><br>x=%{x}<br>y=%{y} <b>(trend)</b><extra></extra>",
         "legendgroup": "",
         "marker": {
          "color": "#636efa",
          "symbol": "circle"
         },
         "mode": "lines",
         "name": "",
         "showlegend": false,
         "type": "scatter",
         "x": [
          2646.3094995975734,
          3121.6602306270215,
          3445.895176897,
          3466.1929597472918,
          3483.532263045272,
          3536.932636508929,
          3600.04179127697,
          3780.7861701012007,
          3968.1668853473966,
          3985.9895384788615,
          4032.5077954292865,
          4143.445876483929,
          4155.8787982702415,
          4196.9412622713935,
          4234.545734233769,
          4246.389129056879,
          4298.846914806425,
          4304.891147155839,
          4314.703522996875,
          4374.373263187474,
          4441.343314251935,
          4628.186328868847,
          4712.090835873998,
          4766.3491847229525,
          4772.928160781863,
          4775.691934804905,
          4784.302354035412,
          4784.389128723153,
          4803.355104989932,
          4817.366008901641,
          4901.240770854987,
          4968.5109946632365,
          5009.677853417379,
          5033.464146213548,
          5038.474287977217,
          5038.991925487528,
          5041.421485185572,
          5060.863553123461,
          5084.604820952409,
          5096.610690975118,
          5195.482001075681,
          5250.4516042614705,
          5282.316395225491,
          5287.986647138649,
          5368.602484149946,
          5407.465748777424,
          5440.787993803053,
          5454.020029830943,
          5461.505800676416,
          5465.043327207604,
          5466.681958999623,
          5475.0870708178045,
          5495.354220313908,
          5500.893689804019,
          5516.638188075944,
          5531.727213420883,
          5534.603045902295,
          5549.529199152028,
          5579.421874256186,
          5621.741455578769,
          5654.424487075827,
          5668.772389717022,
          5685.417688570007,
          5696.415534267442,
          5699.319243550301,
          5707.848332071284,
          5729.902153568248,
          5791.202253942502,
          5820.616321020083,
          5839.212750444392,
          5881.177890043175,
          5895.060010290123,
          5924.923961901703,
          5949.144842481641,
          6016.678877029386,
          6016.834119565559,
          6042.556744937967,
          6061.4819713305915,
          6069.003275833144,
          6081.972859506612,
          6085.204315595518,
          6141.99028283111,
          6176.421963424691,
          6195.106315679608,
          6218.457385463669,
          6256.952956743233,
          6262.299065980878,
          6287.167241239578,
          6287.876756725345,
          6316.568696861337,
          6352.48509039401,
          6357.219995260297,
          6361.574025087262,
          6368.06498375893,
          6380.333155632063,
          6398.570263052068,
          6440.186130399692,
          6443.631784992183,
          6484.6319248199,
          6484.689714660621,
          6555.3882199097425,
          6572.64498309137,
          6588.493965587622,
          6604.368575673179,
          6617.413577966705,
          6639.44761529925,
          6657.044557037414,
          6692.998616085046,
          6721.94554204942,
          6738.362636175094,
          6753.033815736882,
          6765.974048776618,
          6771.9766286182785,
          6804.675464439366,
          6819.719185070986,
          6889.104959688193,
          6898.052037525231,
          6907.084270858737,
          6983.423667278228,
          7000.229264192647,
          7023.276368961415,
          7084.5528135872155,
          7109.564125933655,
          7111.3362148666565,
          7124.653550062198,
          7142.885469579705,
          7147.567865419369,
          7155.468638553626,
          7179.151404738404,
          7190.388697557442,
          7198.503881177909,
          7199.393209991402,
          7225.106526069743,
          7228.864799847557,
          7239.099747247783,
          7241.793490560063,
          7263.603669910437,
          7270.680764236473,
          7301.487620973567,
          7375.573367671939,
          7376.840581464785,
          7437.159654903473,
          7450.419339857122,
          7487.608154945374,
          7524.378281040168,
          7544.475759544424,
          7552.70898379328,
          7616.295199098538,
          7620.668284940752,
          7622.199344244065,
          7660.042652244541,
          7678.263583068903,
          7796.218676748191,
          7803.010164341911,
          7804.001944131873,
          7825.974721765488,
          7827.621676282892,
          7859.994851999378,
          7891.213074960702,
          7905.789871707035,
          7937.124876213129,
          7944.888373036367,
          7955.736782474487,
          7962.36634068485,
          7991.0888889408525,
          7999.60065806393,
          8018.283515796647,
          8030.385457592034,
          8036.928956546755,
          8050.368114967307,
          8194.110189962405,
          8216.36632286552,
          8270.275556011191,
          8336.833791074809,
          8397.776032295209,
          8492.536567239775,
          8522.193538656313,
          8534.383564834628,
          8624.872444019216,
          8652.703060989363,
          8748.259403133306,
          8801.38601684571,
          8833.070848693926,
          8915.625769710547,
          8964.027907142598,
          9012.241538848895,
          9038.919059352877,
          9132.914246702254,
          9133.602584056935,
          9234.4632105446,
          9315.961522040452,
          9410.10905952446,
          9456.948764305074,
          9768.909734373105,
          9785.26488802913,
          9806.563546981815,
          10282.200076074529,
          10308.720179843847,
          10373.138138217902,
          11037.472423286425
         ],
         "xaxis": "x",
         "y": [
          -1.347501225939681,
          -1.1776959440137655,
          -1.0618723996965547,
          -1.0546216046217254,
          -1.0484276406857993,
          -1.0293519038055636,
          -1.006807985982432,
          -0.942242291224151,
          -0.875305957475484,
          -0.8689393308099436,
          -0.8523220307396093,
          -0.8126926141843698,
          -0.808251312948721,
          -0.793582936903126,
          -0.780149828365736,
          -0.7759191185642744,
          -0.7571800938464202,
          -0.7550209668879,
          -0.7515157797970087,
          -0.7302004932220458,
          -0.7062773820132626,
          -0.6395331262419441,
          -0.609560671090756,
          -0.5901784473521317,
          -0.587828298690221,
          -0.5868410204627408,
          -0.5837651975608382,
          -0.5837341998167431,
          -0.5769591540731376,
          -0.5719541644234694,
          -0.5419923348305857,
          -0.5179619956024517,
          -0.5032563275547497,
          -0.49475936333323967,
          -0.492969635287958,
          -0.49278472427881015,
          -0.4919168344396827,
          -0.4849717187347664,
          -0.47649083837881845,
          -0.4722020890177794,
          -0.43688317691754586,
          -0.4172468781658767,
          -0.4058641044370177,
          -0.4038385711584225,
          -0.37504089811866237,
          -0.3611581223578284,
          -0.3492547153750991,
          -0.3445279537199655,
          -0.34185387888243346,
          -0.3405901999802301,
          -0.3400048462292977,
          -0.3370023634544963,
          -0.32976251125827183,
          -0.3277836962126921,
          -0.3221594301848345,
          -0.3167693128768503,
          -0.31574200501046645,
          -0.31041006904152124,
          -0.2997317765887284,
          -0.28461433178769635,
          -0.27293926532564905,
          -0.26781389263976463,
          -0.26186784169260147,
          -0.25793917982815806,
          -0.25690191378180316,
          -0.25385514392044195,
          -0.24597705489610044,
          -0.22407936936273742,
          -0.21357204576636946,
          -0.20692900992971142,
          -0.19193817916944456,
          -0.18697919375428063,
          -0.17631116193734409,
          -0.1676589538162725,
          -0.14353437584173268,
          -0.14347891994169704,
          -0.13429025698586816,
          -0.127529767954639,
          -0.12484299974721313,
          -0.12020999159475787,
          -0.1190556474938882,
          -0.09877050528953557,
          -0.08647078458075619,
          -0.0797963408592155,
          -0.07145484745419406,
          -0.057703419493056796,
          -0.055793676797722735,
          -0.04691024139910338,
          -0.04665678754024327,
          -0.036407422880084805,
          -0.023577331472905083,
          -0.02188592383801824,
          -0.02033057278032535,
          -0.018011865780916736,
          -0.013629416680393636,
          -0.00711473822337183,
          0.007751325140517462,
          0.008982185453344282,
          0.023628297992962732,
          0.0236489417398964,
          0.04890393522558911,
          0.0550684140954103,
          0.060730004086419154,
          0.0664007487915006,
          0.07106069806175652,
          0.07893171976633306,
          0.08521771757349272,
          0.09806126389505287,
          0.10840171485770123,
          0.11426624627511828,
          0.11950710027839317,
          0.12412962376697712,
          0.12627387157340975,
          0.13795458367250424,
          0.1433285171837344,
          0.16811457566944865,
          0.17131066010849239,
          0.17453716388244267,
          0.20180720237169236,
          0.20781051515887583,
          0.21604342586537983,
          0.23793266106770705,
          0.246867228045498,
          0.24750025549496524,
          0.25225748780737467,
          0.25877031303647735,
          0.2604429633423284,
          0.26326528572855823,
          0.2717252680664055,
          0.275739465480362,
          0.27863837980320216,
          0.27895606676578044,
          0.2881414042459123,
          0.2894839387088646,
          0.29314007725109104,
          0.2941023390353257,
          0.3018933939589705,
          0.304421480945702,
          0.3154263383110507,
          0.3418913257058631,
          0.342344001133307,
          0.36389124320567046,
          0.3686278816387851,
          0.3819125087958226,
          0.3950475714356889,
          0.40222681358395374,
          0.4051678945026862,
          0.4278822283864865,
          0.4294443866537412,
          0.4299913132485136,
          0.44350973904353364,
          0.45001863888025584,
          0.49215467997444406,
          0.49458074222757364,
          0.49493502683439017,
          0.502784165285679,
          0.5033724920892189,
          0.5149368715474565,
          0.5260886775827465,
          0.5312958160586407,
          0.5424893389186645,
          0.5452626233184716,
          0.54913790340713,
          0.5515061210777268,
          0.5617664196023107,
          0.5648070026103609,
          0.5714809124571292,
          0.5758039806766018,
          0.578141456170501,
          0.582942206301897,
          0.6342898996488682,
          0.6422402585638736,
          0.6614977708283143,
          0.6852737726974873,
          0.7070436234121718,
          0.7408940801409654,
          0.7514881742776209,
          0.7558427080918646,
          0.7881672395127435,
          0.7981089214168677,
          0.8322436572200962,
          0.8512216013576115,
          0.8625400899041837,
          0.8920304445466183,
          0.909320706359547,
          0.9265436299613055,
          0.9360734015479664,
          0.9696504600137743,
          0.9698963485986485,
          1.005925886365156,
          1.0350387978569908,
          1.0686702789961506,
          1.0854024069943002,
          1.1968414287826192,
          1.2026838337611259,
          1.2102921628369478,
          1.380199537843906,
          1.3896730768610888,
          1.4126845268679271,
          1.6499987102811078
         ],
         "yaxis": "y"
        }
       ],
       "layout": {
        "autosize": true,
        "legend": {
         "tracegroupgap": 0
        },
        "margin": {
         "t": 60
        },
        "showlegend": false,
        "template": {
         "data": {
          "bar": [
           {
            "error_x": {
             "color": "#2a3f5f"
            },
            "error_y": {
             "color": "#2a3f5f"
            },
            "marker": {
             "line": {
              "color": "#E5ECF6",
              "width": 0.5
             },
             "pattern": {
              "fillmode": "overlay",
              "size": 10,
              "solidity": 0.2
             }
            },
            "type": "bar"
           }
          ],
          "barpolar": [
           {
            "marker": {
             "line": {
              "color": "#E5ECF6",
              "width": 0.5
             },
             "pattern": {
              "fillmode": "overlay",
              "size": 10,
              "solidity": 0.2
             }
            },
            "type": "barpolar"
           }
          ],
          "carpet": [
           {
            "aaxis": {
             "endlinecolor": "#2a3f5f",
             "gridcolor": "white",
             "linecolor": "white",
             "minorgridcolor": "white",
             "startlinecolor": "#2a3f5f"
            },
            "baxis": {
             "endlinecolor": "#2a3f5f",
             "gridcolor": "white",
             "linecolor": "white",
             "minorgridcolor": "white",
             "startlinecolor": "#2a3f5f"
            },
            "type": "carpet"
           }
          ],
          "choropleth": [
           {
            "colorbar": {
             "outlinewidth": 0,
             "ticks": ""
            },
            "type": "choropleth"
           }
          ],
          "contour": [
           {
            "colorbar": {
             "outlinewidth": 0,
             "ticks": ""
            },
            "colorscale": [
             [
              0,
              "#0d0887"
             ],
             [
              0.1111111111111111,
              "#46039f"
             ],
             [
              0.2222222222222222,
              "#7201a8"
             ],
             [
              0.3333333333333333,
              "#9c179e"
             ],
             [
              0.4444444444444444,
              "#bd3786"
             ],
             [
              0.5555555555555556,
              "#d8576b"
             ],
             [
              0.6666666666666666,
              "#ed7953"
             ],
             [
              0.7777777777777778,
              "#fb9f3a"
             ],
             [
              0.8888888888888888,
              "#fdca26"
             ],
             [
              1,
              "#f0f921"
             ]
            ],
            "type": "contour"
           }
          ],
          "contourcarpet": [
           {
            "colorbar": {
             "outlinewidth": 0,
             "ticks": ""
            },
            "type": "contourcarpet"
           }
          ],
          "heatmap": [
           {
            "colorbar": {
             "outlinewidth": 0,
             "ticks": ""
            },
            "colorscale": [
             [
              0,
              "#0d0887"
             ],
             [
              0.1111111111111111,
              "#46039f"
             ],
             [
              0.2222222222222222,
              "#7201a8"
             ],
             [
              0.3333333333333333,
              "#9c179e"
             ],
             [
              0.4444444444444444,
              "#bd3786"
             ],
             [
              0.5555555555555556,
              "#d8576b"
             ],
             [
              0.6666666666666666,
              "#ed7953"
             ],
             [
              0.7777777777777778,
              "#fb9f3a"
             ],
             [
              0.8888888888888888,
              "#fdca26"
             ],
             [
              1,
              "#f0f921"
             ]
            ],
            "type": "heatmap"
           }
          ],
          "heatmapgl": [
           {
            "colorbar": {
             "outlinewidth": 0,
             "ticks": ""
            },
            "colorscale": [
             [
              0,
              "#0d0887"
             ],
             [
              0.1111111111111111,
              "#46039f"
             ],
             [
              0.2222222222222222,
              "#7201a8"
             ],
             [
              0.3333333333333333,
              "#9c179e"
             ],
             [
              0.4444444444444444,
              "#bd3786"
             ],
             [
              0.5555555555555556,
              "#d8576b"
             ],
             [
              0.6666666666666666,
              "#ed7953"
             ],
             [
              0.7777777777777778,
              "#fb9f3a"
             ],
             [
              0.8888888888888888,
              "#fdca26"
             ],
             [
              1,
              "#f0f921"
             ]
            ],
            "type": "heatmapgl"
           }
          ],
          "histogram": [
           {
            "marker": {
             "pattern": {
              "fillmode": "overlay",
              "size": 10,
              "solidity": 0.2
             }
            },
            "type": "histogram"
           }
          ],
          "histogram2d": [
           {
            "colorbar": {
             "outlinewidth": 0,
             "ticks": ""
            },
            "colorscale": [
             [
              0,
              "#0d0887"
             ],
             [
              0.1111111111111111,
              "#46039f"
             ],
             [
              0.2222222222222222,
              "#7201a8"
             ],
             [
              0.3333333333333333,
              "#9c179e"
             ],
             [
              0.4444444444444444,
              "#bd3786"
             ],
             [
              0.5555555555555556,
              "#d8576b"
             ],
             [
              0.6666666666666666,
              "#ed7953"
             ],
             [
              0.7777777777777778,
              "#fb9f3a"
             ],
             [
              0.8888888888888888,
              "#fdca26"
             ],
             [
              1,
              "#f0f921"
             ]
            ],
            "type": "histogram2d"
           }
          ],
          "histogram2dcontour": [
           {
            "colorbar": {
             "outlinewidth": 0,
             "ticks": ""
            },
            "colorscale": [
             [
              0,
              "#0d0887"
             ],
             [
              0.1111111111111111,
              "#46039f"
             ],
             [
              0.2222222222222222,
              "#7201a8"
             ],
             [
              0.3333333333333333,
              "#9c179e"
             ],
             [
              0.4444444444444444,
              "#bd3786"
             ],
             [
              0.5555555555555556,
              "#d8576b"
             ],
             [
              0.6666666666666666,
              "#ed7953"
             ],
             [
              0.7777777777777778,
              "#fb9f3a"
             ],
             [
              0.8888888888888888,
              "#fdca26"
             ],
             [
              1,
              "#f0f921"
             ]
            ],
            "type": "histogram2dcontour"
           }
          ],
          "mesh3d": [
           {
            "colorbar": {
             "outlinewidth": 0,
             "ticks": ""
            },
            "type": "mesh3d"
           }
          ],
          "parcoords": [
           {
            "line": {
             "colorbar": {
              "outlinewidth": 0,
              "ticks": ""
             }
            },
            "type": "parcoords"
           }
          ],
          "pie": [
           {
            "automargin": true,
            "type": "pie"
           }
          ],
          "scatter": [
           {
            "marker": {
             "colorbar": {
              "outlinewidth": 0,
              "ticks": ""
             }
            },
            "type": "scatter"
           }
          ],
          "scatter3d": [
           {
            "line": {
             "colorbar": {
              "outlinewidth": 0,
              "ticks": ""
             }
            },
            "marker": {
             "colorbar": {
              "outlinewidth": 0,
              "ticks": ""
             }
            },
            "type": "scatter3d"
           }
          ],
          "scattercarpet": [
           {
            "marker": {
             "colorbar": {
              "outlinewidth": 0,
              "ticks": ""
             }
            },
            "type": "scattercarpet"
           }
          ],
          "scattergeo": [
           {
            "marker": {
             "colorbar": {
              "outlinewidth": 0,
              "ticks": ""
             }
            },
            "type": "scattergeo"
           }
          ],
          "scattergl": [
           {
            "marker": {
             "colorbar": {
              "outlinewidth": 0,
              "ticks": ""
             }
            },
            "type": "scattergl"
           }
          ],
          "scattermapbox": [
           {
            "marker": {
             "colorbar": {
              "outlinewidth": 0,
              "ticks": ""
             }
            },
            "type": "scattermapbox"
           }
          ],
          "scatterpolar": [
           {
            "marker": {
             "colorbar": {
              "outlinewidth": 0,
              "ticks": ""
             }
            },
            "type": "scatterpolar"
           }
          ],
          "scatterpolargl": [
           {
            "marker": {
             "colorbar": {
              "outlinewidth": 0,
              "ticks": ""
             }
            },
            "type": "scatterpolargl"
           }
          ],
          "scatterternary": [
           {
            "marker": {
             "colorbar": {
              "outlinewidth": 0,
              "ticks": ""
             }
            },
            "type": "scatterternary"
           }
          ],
          "surface": [
           {
            "colorbar": {
             "outlinewidth": 0,
             "ticks": ""
            },
            "colorscale": [
             [
              0,
              "#0d0887"
             ],
             [
              0.1111111111111111,
              "#46039f"
             ],
             [
              0.2222222222222222,
              "#7201a8"
             ],
             [
              0.3333333333333333,
              "#9c179e"
             ],
             [
              0.4444444444444444,
              "#bd3786"
             ],
             [
              0.5555555555555556,
              "#d8576b"
             ],
             [
              0.6666666666666666,
              "#ed7953"
             ],
             [
              0.7777777777777778,
              "#fb9f3a"
             ],
             [
              0.8888888888888888,
              "#fdca26"
             ],
             [
              1,
              "#f0f921"
             ]
            ],
            "type": "surface"
           }
          ],
          "table": [
           {
            "cells": {
             "fill": {
              "color": "#EBF0F8"
             },
             "line": {
              "color": "white"
             }
            },
            "header": {
             "fill": {
              "color": "#C8D4E3"
             },
             "line": {
              "color": "white"
             }
            },
            "type": "table"
           }
          ]
         },
         "layout": {
          "annotationdefaults": {
           "arrowcolor": "#2a3f5f",
           "arrowhead": 0,
           "arrowwidth": 1
          },
          "autotypenumbers": "strict",
          "coloraxis": {
           "colorbar": {
            "outlinewidth": 0,
            "ticks": ""
           }
          },
          "colorscale": {
           "diverging": [
            [
             0,
             "#8e0152"
            ],
            [
             0.1,
             "#c51b7d"
            ],
            [
             0.2,
             "#de77ae"
            ],
            [
             0.3,
             "#f1b6da"
            ],
            [
             0.4,
             "#fde0ef"
            ],
            [
             0.5,
             "#f7f7f7"
            ],
            [
             0.6,
             "#e6f5d0"
            ],
            [
             0.7,
             "#b8e186"
            ],
            [
             0.8,
             "#7fbc41"
            ],
            [
             0.9,
             "#4d9221"
            ],
            [
             1,
             "#276419"
            ]
           ],
           "sequential": [
            [
             0,
             "#0d0887"
            ],
            [
             0.1111111111111111,
             "#46039f"
            ],
            [
             0.2222222222222222,
             "#7201a8"
            ],
            [
             0.3333333333333333,
             "#9c179e"
            ],
            [
             0.4444444444444444,
             "#bd3786"
            ],
            [
             0.5555555555555556,
             "#d8576b"
            ],
            [
             0.6666666666666666,
             "#ed7953"
            ],
            [
             0.7777777777777778,
             "#fb9f3a"
            ],
            [
             0.8888888888888888,
             "#fdca26"
            ],
            [
             1,
             "#f0f921"
            ]
           ],
           "sequentialminus": [
            [
             0,
             "#0d0887"
            ],
            [
             0.1111111111111111,
             "#46039f"
            ],
            [
             0.2222222222222222,
             "#7201a8"
            ],
            [
             0.3333333333333333,
             "#9c179e"
            ],
            [
             0.4444444444444444,
             "#bd3786"
            ],
            [
             0.5555555555555556,
             "#d8576b"
            ],
            [
             0.6666666666666666,
             "#ed7953"
            ],
            [
             0.7777777777777778,
             "#fb9f3a"
            ],
            [
             0.8888888888888888,
             "#fdca26"
            ],
            [
             1,
             "#f0f921"
            ]
           ]
          },
          "colorway": [
           "#636efa",
           "#EF553B",
           "#00cc96",
           "#ab63fa",
           "#FFA15A",
           "#19d3f3",
           "#FF6692",
           "#B6E880",
           "#FF97FF",
           "#FECB52"
          ],
          "font": {
           "color": "#2a3f5f"
          },
          "geo": {
           "bgcolor": "white",
           "lakecolor": "white",
           "landcolor": "#E5ECF6",
           "showlakes": true,
           "showland": true,
           "subunitcolor": "white"
          },
          "hoverlabel": {
           "align": "left"
          },
          "hovermode": "closest",
          "mapbox": {
           "style": "light"
          },
          "paper_bgcolor": "white",
          "plot_bgcolor": "#E5ECF6",
          "polar": {
           "angularaxis": {
            "gridcolor": "white",
            "linecolor": "white",
            "ticks": ""
           },
           "bgcolor": "#E5ECF6",
           "radialaxis": {
            "gridcolor": "white",
            "linecolor": "white",
            "ticks": ""
           }
          },
          "scene": {
           "xaxis": {
            "backgroundcolor": "#E5ECF6",
            "gridcolor": "white",
            "gridwidth": 2,
            "linecolor": "white",
            "showbackground": true,
            "ticks": "",
            "zerolinecolor": "white"
           },
           "yaxis": {
            "backgroundcolor": "#E5ECF6",
            "gridcolor": "white",
            "gridwidth": 2,
            "linecolor": "white",
            "showbackground": true,
            "ticks": "",
            "zerolinecolor": "white"
           },
           "zaxis": {
            "backgroundcolor": "#E5ECF6",
            "gridcolor": "white",
            "gridwidth": 2,
            "linecolor": "white",
            "showbackground": true,
            "ticks": "",
            "zerolinecolor": "white"
           }
          },
          "shapedefaults": {
           "line": {
            "color": "#2a3f5f"
           }
          },
          "ternary": {
           "aaxis": {
            "gridcolor": "white",
            "linecolor": "white",
            "ticks": ""
           },
           "baxis": {
            "gridcolor": "white",
            "linecolor": "white",
            "ticks": ""
           },
           "bgcolor": "#E5ECF6",
           "caxis": {
            "gridcolor": "white",
            "linecolor": "white",
            "ticks": ""
           }
          },
          "title": {
           "x": 0.05
          },
          "xaxis": {
           "automargin": true,
           "gridcolor": "white",
           "linecolor": "white",
           "ticks": "",
           "title": {
            "standoff": 15
           },
           "zerolinecolor": "white",
           "zerolinewidth": 2
          },
          "yaxis": {
           "automargin": true,
           "gridcolor": "white",
           "linecolor": "white",
           "ticks": "",
           "title": {
            "standoff": 15
           },
           "zerolinecolor": "white",
           "zerolinewidth": 2
          }
         }
        },
        "title": {
         "text": "Mean portfolio risk adjusted return (%) vs. Total cash profits (Apr 2019 - Mar 2022)",
         "x": 0.5,
         "y": 0.95
        },
        "xaxis": {
         "anchor": "y",
         "autorange": true,
         "domain": [
          0,
          1
         ],
         "range": [
          2153.93235861673,
          11529.849564267268
         ],
         "title": {
          "text": "Cash profits ($)"
         },
         "type": "linear"
        },
        "yaxis": {
         "anchor": "x",
         "autorange": true,
         "domain": [
          0,
          1
         ],
         "range": [
          -2.625842407617664,
          2.541660739860633
         ],
         "title": {
          "text": "Mean portfolio risk adjusted return (%)"
         },
         "type": "linear"
        }
       }
      },
      "image/png": "[encoded data removed]",
      "text/html": [
       "<div>                            <div id=\"fb700d56-66ce-4404-87a6-9fc6ce098b7c\" class=\"plotly-graph-div\" style=\"height:800px; width:100%;\"></div>            <script type=\"text/javascript\">                require([\"plotly\"], function(Plotly) {                    window.PLOTLYENV=window.PLOTLYENV || {};                                    if (document.getElementById(\"fb700d56-66ce-4404-87a6-9fc6ce098b7c\")) {                    Plotly.newPlot(                        \"fb700d56-66ce-4404-87a6-9fc6ce098b7c\",                        [{\"hovertemplate\":\"x=%{x}<br>y=%{y}<extra></extra>\",\"legendgroup\":\"\",\"marker\":{\"color\":\"#636efa\",\"symbol\":\"circle\"},\"mode\":\"markers\",\"name\":\"\",\"orientation\":\"v\",\"showlegend\":false,\"x\":[4803.355104989932,7375.573367671939,8194.110189962405,7660.042652244541,6657.044557037414,9806.563546981815,7239.099747247783,5495.354220313908,5041.421485185572,7147.567865419369,7301.487620973567,5454.020029830943,7179.151404738404,9133.602584056935,2646.3094995975734,7962.36634068485,7199.393209991402,5096.610690975118,4143.445876483929,7552.70898379328,6588.493965587622,6617.413577966705,6016.678877029386,5195.482001075681,4628.186328868847,8652.703060989363,5621.741455578769,5668.772389717022,5038.991925487528,4246.389129056879,6484.689714660621,9234.4632105446,5475.0870708178045,6218.457385463669,6753.033815736882,6085.204315595518,6484.6319248199,4766.3491847229525,3536.932636508929,7487.608154945374,6898.052037525231,7228.864799847557,10373.138138217902,7263.603669910437,5534.603045902295,6361.574025087262,6081.972859506612,5466.681958999623,6771.9766286182785,8018.283515796647,6440.186130399692,4441.343314251935,10282.200076074529,5685.417688570007,3466.1929597472918,6572.64498309137,8624.872444019216,7905.789871707035,7225.106526069743,3121.6602306270215,5707.848332071284,6256.952956743233,5250.4516042614705,8036.928956546755,7198.503881177909,6555.3882199097425,6069.003275833144,4901.240770854987,6765.974048776618,7270.680764236473,5579.421874256186,5895.060010290123,4775.691934804905,8216.36632286552,7803.010164341911,5839.212750444392,7678.263583068903,5009.677853417379,4314.703522996875,5696.415534267442,7825.974721765488,4298.846914806425,4968.5109946632365,6907.084270858737,6061.4819713305915,7796.218676748191,8050.368114967307,7142.885469579705,8964.027907142598,5500.893689804019,5729.902153568248,5699.319243550301,6368.06498375893,7524.378281040168,6262.299065980878,5531.727213420883,9012.241538848895,8915.625769710547,4712.090835873998,5791.202253942502,6721.94554204942,6639.44761529925,6287.167241239578,5654.424487075827,7084.5528135872155,7891.213074960702,6195.106315679608,8801.38601684571,3483.532263045272,4304.891147155839,3780.7861701012007,7450.419339857122,6380.333155632063,3445.895176897,6692.998616085046,5084.604820952409,5060.863553123461,6398.570263052068,7376.840581464785,5461.505800676416,4155.8787982702415,9038.919059352877,8534.383564834628,8397.776032295209,5440.787993803053,5516.638188075944,6604.368575673179,4784.302354035412,7991.0888889408525,7827.621676282892,7804.001944131873,8492.536567239775,8336.833791074809,7859.994851999378,6357.219995260297,9410.10905952446,5949.144842481641,4784.389128723153,6287.876756725345,6352.48509039401,5038.474287977217,8030.385457592034,7622.199344244065,6443.631784992183,10308.720179843847,4817.366008901641,5407.465748777424,9768.909734373105,5820.616321020083,5368.602484149946,11037.472423286425,8833.070848693926,6316.568696861337,5465.043327207604,7437.159654903473,5881.177890043175,7000.229264192647,4234.545734233769,6819.719185070986,7023.276368961415,3985.9895384788615,5033.464146213548,7544.475759544424,8522.193538656313,6889.104959688193,7111.3362148666565,7241.793490560063,9315.961522040452,5282.316395225491,7937.124876213129,7944.888373036367,7999.60065806393,4374.373263187474,7620.668284940752,6016.834119565559,6804.675464439366,7109.564125933655,6983.423667278228,4196.9412622713935,5287.986647138649,6042.556744937967,6141.99028283111,4032.5077954292865,7190.388697557442,3968.1668853473966,5549.529199152028,5924.923961901703,4772.928160781863,6738.362636175094,8270.275556011191,9132.914246702254,9456.948764305074,8748.259403133306,7955.736782474487,7124.653550062198,3600.04179127697,6176.421963424691,9785.26488802913,7616.295199098538,7155.468638553626],\"xaxis\":\"x\",\"y\":[-0.7826600510875553,-0.22336115112274266,0.8949417525282866,-0.4208250211552662,-0.8471996026463093,0.2820091816383838,-0.8244866576210647,-0.8789686211945477,0.05941833216890408,0.6846310792900788,-0.7049003504165422,0.17941465161979775,1.8022035806081242,1.0831880157228013,-1.014855685726095,1.1504587406155442,0.7722061735501394,-0.3478004342307513,-1.1039008929293455,1.4034550685681957,-0.32893255470343336,-0.8659259946169059,0.883270383292798,0.32071577149768327,0.26117828202814164,0.9723603638529249,1.0592483098963128,-1.2235145573258106,-0.45932962717666953,-1.4248259310142761,-0.3700830988307211,1.5264564095511608,-0.21620021865738245,-0.17844598993938054,-0.4761154071185951,0.9540207966541642,0.5330034487816301,-1.358955195671131,-1.457071103470595,-0.26627399444518246,0.7081270214159056,-0.24372297868331547,0.3321840372177679,-0.554947515086953,-0.6226773110854229,-0.33920617127172487,0.439274990839689,-0.6237038330836722,-0.12682417440054394,0.4622523807768784,0.6111504103294684,-0.20973052000362452,1.5888128622696907,-0.4795928647654648,-0.19663442111110827,0.8533645528688001,0.6170212818545281,1.2446363461316652,0.49341774749977796,-1.2550673440230526,-0.9304734162034539,0.9806187258700855,-1.0928057348958666,-0.599198349655822,0.30944608758032166,-0.5538417528526934,0.5819084402821537,-1.0428797666440597,1.5456616340220746,-0.6288267027880274,0.027396827475867316,0.6126679053798265,-1.0214960573376155,2.179517882472788,2.253924769148773,-0.6041687297655726,0.24227924003905696,-1.1696519818965405,0.34881512350150323,2.1580398829764937,-0.35397158036177295,-0.9993365778894867,-0.9402102671074263,0.08888013160576749,1.4179108904829383,1.9101842854111162,0.6357263299812935,-0.5481137311253336,0.8392977714249641,-1.7111019815475863,0.9623864137959872,1.5441272086318294,-1.091338361728153,0.05181868154912002,0.4305437067862906,0.2009386380467971,2.0728862791260467,0.6150407398397224,-1.9586032160844098,-0.6528269534678639,-0.040255696110575154,-0.34498837578997327,0.25694888368784036,-1.1436631374653523,-0.25106871195757413,0.37826644315698216,-1.4847585830149503,0.4026210353888702,-2.338106436905804,0.49931212315083345,-0.8806501719895208,0.4452812519217944,-1.2998683394850472,-0.7173146735235786,-1.5063917252521404,0.2910172392853905,-0.8133955062145627,-1.9304962158489216,1.434573614890873,-0.3905287500301102,0.04999945587290061,0.21717555491445392,0.9727835673877759,0.5233566643135901,-0.9495903579738936,0.8177851915197568,-0.10492656671806558,-0.1603731999668108,0.568912672837532,1.4349279295971502,1.1243711109965482,1.9808985877548937,0.4225506601888686,1.8438817810869261,0.5798141401316679,1.6027650893859435,-0.5629262844386032,-1.013299734516781,0.010832509139101857,0.9103752634151498,-0.4153314365624045,0.6555338056895068,-0.6402368683282605,-0.2360022605836729,2.1443535124452415,-0.8123510180042055,0.12015117726634422,0.34665053649878297,-0.3671844314182954,-0.9324671293000316,1.7811283322700662,1.4596644948050237,0.038541688258000945,0.12994681441174336,0.051338464740108364,-0.5285292687584964,-0.3983488631750827,-1.8786356839504255,-0.8282682870783817,-0.06127763829409535,-0.20866169848426222,-1.0281354743546016,0.4012810991959319,0.5207763173998632,0.10589908369847296,0.07567619443237927,0.6146102964424527,1.4110440557306694,0.5949265078025832,0.47829229880916757,1.6490109008650913,1.7645400438678742,-1.1039517525269935,0.10811536622039276,0.312552570961576,-1.7735442921665758,0.1718964104436685,-0.5983023066334765,-1.4430969194242145,-1.9014705307509205,0.15446944470617327,1.3333535602932172,-0.3371327099465123,0.04661240441291175,-0.9898565154588226,-0.07158621367899891,-0.5377337605297053,-0.1263064635225188,-0.33452852536344474,2.0790509756178426,0.4111540502314997,0.23174637196462303,-0.4287825954155168,-0.06961259180365044,-0.03470658992997767,-0.5925046896219882,-1.3454560262341644,2.239190741732537,-0.011609461484996291,0.35119939859366395],\"yaxis\":\"y\",\"type\":\"scatter\"},{\"hovertemplate\":\"<b>OLS trendline</b><br>y = 0.000357221 * x + -2.29282<br>R<sup>2</sup>=0.347963<br><br>x=%{x}<br>y=%{y} <b>(trend)</b><extra></extra>\",\"legendgroup\":\"\",\"marker\":{\"color\":\"#636efa\",\"symbol\":\"circle\"},\"mode\":\"lines\",\"name\":\"\",\"showlegend\":false,\"x\":[2646.3094995975734,3121.6602306270215,3445.895176897,3466.1929597472918,3483.532263045272,3536.932636508929,3600.04179127697,3780.7861701012007,3968.1668853473966,3985.9895384788615,4032.5077954292865,4143.445876483929,4155.8787982702415,4196.9412622713935,4234.545734233769,4246.389129056879,4298.846914806425,4304.891147155839,4314.703522996875,4374.373263187474,4441.343314251935,4628.186328868847,4712.090835873998,4766.3491847229525,4772.928160781863,4775.691934804905,4784.302354035412,4784.389128723153,4803.355104989932,4817.366008901641,4901.240770854987,4968.5109946632365,5009.677853417379,5033.464146213548,5038.474287977217,5038.991925487528,5041.421485185572,5060.863553123461,5084.604820952409,5096.610690975118,5195.482001075681,5250.4516042614705,5282.316395225491,5287.986647138649,5368.602484149946,5407.465748777424,5440.787993803053,5454.020029830943,5461.505800676416,5465.043327207604,5466.681958999623,5475.0870708178045,5495.354220313908,5500.893689804019,5516.638188075944,5531.727213420883,5534.603045902295,5549.529199152028,5579.421874256186,5621.741455578769,5654.424487075827,5668.772389717022,5685.417688570007,5696.415534267442,5699.319243550301,5707.848332071284,5729.902153568248,5791.202253942502,5820.616321020083,5839.212750444392,5881.177890043175,5895.060010290123,5924.923961901703,5949.144842481641,6016.678877029386,6016.834119565559,6042.556744937967,6061.4819713305915,6069.003275833144,6081.972859506612,6085.204315595518,6141.99028283111,6176.421963424691,6195.106315679608,6218.457385463669,6256.952956743233,6262.299065980878,6287.167241239578,6287.876756725345,6316.568696861337,6352.48509039401,6357.219995260297,6361.574025087262,6368.06498375893,6380.333155632063,6398.570263052068,6440.186130399692,6443.631784992183,6484.6319248199,6484.689714660621,6555.3882199097425,6572.64498309137,6588.493965587622,6604.368575673179,6617.413577966705,6639.44761529925,6657.044557037414,6692.998616085046,6721.94554204942,6738.362636175094,6753.033815736882,6765.974048776618,6771.9766286182785,6804.675464439366,6819.719185070986,6889.104959688193,6898.052037525231,6907.084270858737,6983.423667278228,7000.229264192647,7023.276368961415,7084.5528135872155,7109.564125933655,7111.3362148666565,7124.653550062198,7142.885469579705,7147.567865419369,7155.468638553626,7179.151404738404,7190.388697557442,7198.503881177909,7199.393209991402,7225.106526069743,7228.864799847557,7239.099747247783,7241.793490560063,7263.603669910437,7270.680764236473,7301.487620973567,7375.573367671939,7376.840581464785,7437.159654903473,7450.419339857122,7487.608154945374,7524.378281040168,7544.475759544424,7552.70898379328,7616.295199098538,7620.668284940752,7622.199344244065,7660.042652244541,7678.263583068903,7796.218676748191,7803.010164341911,7804.001944131873,7825.974721765488,7827.621676282892,7859.994851999378,7891.213074960702,7905.789871707035,7937.124876213129,7944.888373036367,7955.736782474487,7962.36634068485,7991.0888889408525,7999.60065806393,8018.283515796647,8030.385457592034,8036.928956546755,8050.368114967307,8194.110189962405,8216.36632286552,8270.275556011191,8336.833791074809,8397.776032295209,8492.536567239775,8522.193538656313,8534.383564834628,8624.872444019216,8652.703060989363,8748.259403133306,8801.38601684571,8833.070848693926,8915.625769710547,8964.027907142598,9012.241538848895,9038.919059352877,9132.914246702254,9133.602584056935,9234.4632105446,9315.961522040452,9410.10905952446,9456.948764305074,9768.909734373105,9785.26488802913,9806.563546981815,10282.200076074529,10308.720179843847,10373.138138217902,11037.472423286425],\"xaxis\":\"x\",\"y\":[-1.347501225939681,-1.1776959440137655,-1.0618723996965547,-1.0546216046217254,-1.0484276406857993,-1.0293519038055636,-1.006807985982432,-0.942242291224151,-0.875305957475484,-0.8689393308099436,-0.8523220307396093,-0.8126926141843698,-0.808251312948721,-0.793582936903126,-0.780149828365736,-0.7759191185642744,-0.7571800938464202,-0.7550209668879,-0.7515157797970087,-0.7302004932220458,-0.7062773820132626,-0.6395331262419441,-0.609560671090756,-0.5901784473521317,-0.587828298690221,-0.5868410204627408,-0.5837651975608382,-0.5837341998167431,-0.5769591540731376,-0.5719541644234694,-0.5419923348305857,-0.5179619956024517,-0.5032563275547497,-0.49475936333323967,-0.492969635287958,-0.49278472427881015,-0.4919168344396827,-0.4849717187347664,-0.47649083837881845,-0.4722020890177794,-0.43688317691754586,-0.4172468781658767,-0.4058641044370177,-0.4038385711584225,-0.37504089811866237,-0.3611581223578284,-0.3492547153750991,-0.3445279537199655,-0.34185387888243346,-0.3405901999802301,-0.3400048462292977,-0.3370023634544963,-0.32976251125827183,-0.3277836962126921,-0.3221594301848345,-0.3167693128768503,-0.31574200501046645,-0.31041006904152124,-0.2997317765887284,-0.28461433178769635,-0.27293926532564905,-0.26781389263976463,-0.26186784169260147,-0.25793917982815806,-0.25690191378180316,-0.25385514392044195,-0.24597705489610044,-0.22407936936273742,-0.21357204576636946,-0.20692900992971142,-0.19193817916944456,-0.18697919375428063,-0.17631116193734409,-0.1676589538162725,-0.14353437584173268,-0.14347891994169704,-0.13429025698586816,-0.127529767954639,-0.12484299974721313,-0.12020999159475787,-0.1190556474938882,-0.09877050528953557,-0.08647078458075619,-0.0797963408592155,-0.07145484745419406,-0.057703419493056796,-0.055793676797722735,-0.04691024139910338,-0.04665678754024327,-0.036407422880084805,-0.023577331472905083,-0.02188592383801824,-0.02033057278032535,-0.018011865780916736,-0.013629416680393636,-0.00711473822337183,0.007751325140517462,0.008982185453344282,0.023628297992962732,0.0236489417398964,0.04890393522558911,0.0550684140954103,0.060730004086419154,0.0664007487915006,0.07106069806175652,0.07893171976633306,0.08521771757349272,0.09806126389505287,0.10840171485770123,0.11426624627511828,0.11950710027839317,0.12412962376697712,0.12627387157340975,0.13795458367250424,0.1433285171837344,0.16811457566944865,0.17131066010849239,0.17453716388244267,0.20180720237169236,0.20781051515887583,0.21604342586537983,0.23793266106770705,0.246867228045498,0.24750025549496524,0.25225748780737467,0.25877031303647735,0.2604429633423284,0.26326528572855823,0.2717252680664055,0.275739465480362,0.27863837980320216,0.27895606676578044,0.2881414042459123,0.2894839387088646,0.29314007725109104,0.2941023390353257,0.3018933939589705,0.304421480945702,0.3154263383110507,0.3418913257058631,0.342344001133307,0.36389124320567046,0.3686278816387851,0.3819125087958226,0.3950475714356889,0.40222681358395374,0.4051678945026862,0.4278822283864865,0.4294443866537412,0.4299913132485136,0.44350973904353364,0.45001863888025584,0.49215467997444406,0.49458074222757364,0.49493502683439017,0.502784165285679,0.5033724920892189,0.5149368715474565,0.5260886775827465,0.5312958160586407,0.5424893389186645,0.5452626233184716,0.54913790340713,0.5515061210777268,0.5617664196023107,0.5648070026103609,0.5714809124571292,0.5758039806766018,0.578141456170501,0.582942206301897,0.6342898996488682,0.6422402585638736,0.6614977708283143,0.6852737726974873,0.7070436234121718,0.7408940801409654,0.7514881742776209,0.7558427080918646,0.7881672395127435,0.7981089214168677,0.8322436572200962,0.8512216013576115,0.8625400899041837,0.8920304445466183,0.909320706359547,0.9265436299613055,0.9360734015479664,0.9696504600137743,0.9698963485986485,1.005925886365156,1.0350387978569908,1.0686702789961506,1.0854024069943002,1.1968414287826192,1.2026838337611259,1.2102921628369478,1.380199537843906,1.3896730768610888,1.4126845268679271,1.6499987102811078],\"yaxis\":\"y\",\"type\":\"scatter\"}],                        {\"template\":{\"data\":{\"bar\":[{\"error_x\":{\"color\":\"#2a3f5f\"},\"error_y\":{\"color\":\"#2a3f5f\"},\"marker\":{\"line\":{\"color\":\"#E5ECF6\",\"width\":0.5},\"pattern\":{\"fillmode\":\"overlay\",\"size\":10,\"solidity\":0.2}},\"type\":\"bar\"}],\"barpolar\":[{\"marker\":{\"line\":{\"color\":\"#E5ECF6\",\"width\":0.5},\"pattern\":{\"fillmode\":\"overlay\",\"size\":10,\"solidity\":0.2}},\"type\":\"barpolar\"}],\"carpet\":[{\"aaxis\":{\"endlinecolor\":\"#2a3f5f\",\"gridcolor\":\"white\",\"linecolor\":\"white\",\"minorgridcolor\":\"white\",\"startlinecolor\":\"#2a3f5f\"},\"baxis\":{\"endlinecolor\":\"#2a3f5f\",\"gridcolor\":\"white\",\"linecolor\":\"white\",\"minorgridcolor\":\"white\",\"startlinecolor\":\"#2a3f5f\"},\"type\":\"carpet\"}],\"choropleth\":[{\"colorbar\":{\"outlinewidth\":0,\"ticks\":\"\"},\"type\":\"choropleth\"}],\"contour\":[{\"colorbar\":{\"outlinewidth\":0,\"ticks\":\"\"},\"colorscale\":[[0.0,\"#0d0887\"],[0.1111111111111111,\"#46039f\"],[0.2222222222222222,\"#7201a8\"],[0.3333333333333333,\"#9c179e\"],[0.4444444444444444,\"#bd3786\"],[0.5555555555555556,\"#d8576b\"],[0.6666666666666666,\"#ed7953\"],[0.7777777777777778,\"#fb9f3a\"],[0.8888888888888888,\"#fdca26\"],[1.0,\"#f0f921\"]],\"type\":\"contour\"}],\"contourcarpet\":[{\"colorbar\":{\"outlinewidth\":0,\"ticks\":\"\"},\"type\":\"contourcarpet\"}],\"heatmap\":[{\"colorbar\":{\"outlinewidth\":0,\"ticks\":\"\"},\"colorscale\":[[0.0,\"#0d0887\"],[0.1111111111111111,\"#46039f\"],[0.2222222222222222,\"#7201a8\"],[0.3333333333333333,\"#9c179e\"],[0.4444444444444444,\"#bd3786\"],[0.5555555555555556,\"#d8576b\"],[0.6666666666666666,\"#ed7953\"],[0.7777777777777778,\"#fb9f3a\"],[0.8888888888888888,\"#fdca26\"],[1.0,\"#f0f921\"]],\"type\":\"heatmap\"}],\"heatmapgl\":[{\"colorbar\":{\"outlinewidth\":0,\"ticks\":\"\"},\"colorscale\":[[0.0,\"#0d0887\"],[0.1111111111111111,\"#46039f\"],[0.2222222222222222,\"#7201a8\"],[0.3333333333333333,\"#9c179e\"],[0.4444444444444444,\"#bd3786\"],[0.5555555555555556,\"#d8576b\"],[0.6666666666666666,\"#ed7953\"],[0.7777777777777778,\"#fb9f3a\"],[0.8888888888888888,\"#fdca26\"],[1.0,\"#f0f921\"]],\"type\":\"heatmapgl\"}],\"histogram\":[{\"marker\":{\"pattern\":{\"fillmode\":\"overlay\",\"size\":10,\"solidity\":0.2}},\"type\":\"histogram\"}],\"histogram2d\":[{\"colorbar\":{\"outlinewidth\":0,\"ticks\":\"\"},\"colorscale\":[[0.0,\"#0d0887\"],[0.1111111111111111,\"#46039f\"],[0.2222222222222222,\"#7201a8\"],[0.3333333333333333,\"#9c179e\"],[0.4444444444444444,\"#bd3786\"],[0.5555555555555556,\"#d8576b\"],[0.6666666666666666,\"#ed7953\"],[0.7777777777777778,\"#fb9f3a\"],[0.8888888888888888,\"#fdca26\"],[1.0,\"#f0f921\"]],\"type\":\"histogram2d\"}],\"histogram2dcontour\":[{\"colorbar\":{\"outlinewidth\":0,\"ticks\":\"\"},\"colorscale\":[[0.0,\"#0d0887\"],[0.1111111111111111,\"#46039f\"],[0.2222222222222222,\"#7201a8\"],[0.3333333333333333,\"#9c179e\"],[0.4444444444444444,\"#bd3786\"],[0.5555555555555556,\"#d8576b\"],[0.6666666666666666,\"#ed7953\"],[0.7777777777777778,\"#fb9f3a\"],[0.8888888888888888,\"#fdca26\"],[1.0,\"#f0f921\"]],\"type\":\"histogram2dcontour\"}],\"mesh3d\":[{\"colorbar\":{\"outlinewidth\":0,\"ticks\":\"\"},\"type\":\"mesh3d\"}],\"parcoords\":[{\"line\":{\"colorbar\":{\"outlinewidth\":0,\"ticks\":\"\"}},\"type\":\"parcoords\"}],\"pie\":[{\"automargin\":true,\"type\":\"pie\"}],\"scatter\":[{\"marker\":{\"colorbar\":{\"outlinewidth\":0,\"ticks\":\"\"}},\"type\":\"scatter\"}],\"scatter3d\":[{\"line\":{\"colorbar\":{\"outlinewidth\":0,\"ticks\":\"\"}},\"marker\":{\"colorbar\":{\"outlinewidth\":0,\"ticks\":\"\"}},\"type\":\"scatter3d\"}],\"scattercarpet\":[{\"marker\":{\"colorbar\":{\"outlinewidth\":0,\"ticks\":\"\"}},\"type\":\"scattercarpet\"}],\"scattergeo\":[{\"marker\":{\"colorbar\":{\"outlinewidth\":0,\"ticks\":\"\"}},\"type\":\"scattergeo\"}],\"scattergl\":[{\"marker\":{\"colorbar\":{\"outlinewidth\":0,\"ticks\":\"\"}},\"type\":\"scattergl\"}],\"scattermapbox\":[{\"marker\":{\"colorbar\":{\"outlinewidth\":0,\"ticks\":\"\"}},\"type\":\"scattermapbox\"}],\"scatterpolar\":[{\"marker\":{\"colorbar\":{\"outlinewidth\":0,\"ticks\":\"\"}},\"type\":\"scatterpolar\"}],\"scatterpolargl\":[{\"marker\":{\"colorbar\":{\"outlinewidth\":0,\"ticks\":\"\"}},\"type\":\"scatterpolargl\"}],\"scatterternary\":[{\"marker\":{\"colorbar\":{\"outlinewidth\":0,\"ticks\":\"\"}},\"type\":\"scatterternary\"}],\"surface\":[{\"colorbar\":{\"outlinewidth\":0,\"ticks\":\"\"},\"colorscale\":[[0.0,\"#0d0887\"],[0.1111111111111111,\"#46039f\"],[0.2222222222222222,\"#7201a8\"],[0.3333333333333333,\"#9c179e\"],[0.4444444444444444,\"#bd3786\"],[0.5555555555555556,\"#d8576b\"],[0.6666666666666666,\"#ed7953\"],[0.7777777777777778,\"#fb9f3a\"],[0.8888888888888888,\"#fdca26\"],[1.0,\"#f0f921\"]],\"type\":\"surface\"}],\"table\":[{\"cells\":{\"fill\":{\"color\":\"#EBF0F8\"},\"line\":{\"color\":\"white\"}},\"header\":{\"fill\":{\"color\":\"#C8D4E3\"},\"line\":{\"color\":\"white\"}},\"type\":\"table\"}]},\"layout\":{\"annotationdefaults\":{\"arrowcolor\":\"#2a3f5f\",\"arrowhead\":0,\"arrowwidth\":1},\"autotypenumbers\":\"strict\",\"coloraxis\":{\"colorbar\":{\"outlinewidth\":0,\"ticks\":\"\"}},\"colorscale\":{\"diverging\":[[0,\"#8e0152\"],[0.1,\"#c51b7d\"],[0.2,\"#de77ae\"],[0.3,\"#f1b6da\"],[0.4,\"#fde0ef\"],[0.5,\"#f7f7f7\"],[0.6,\"#e6f5d0\"],[0.7,\"#b8e186\"],[0.8,\"#7fbc41\"],[0.9,\"#4d9221\"],[1,\"#276419\"]],\"sequential\":[[0.0,\"#0d0887\"],[0.1111111111111111,\"#46039f\"],[0.2222222222222222,\"#7201a8\"],[0.3333333333333333,\"#9c179e\"],[0.4444444444444444,\"#bd3786\"],[0.5555555555555556,\"#d8576b\"],[0.6666666666666666,\"#ed7953\"],[0.7777777777777778,\"#fb9f3a\"],[0.8888888888888888,\"#fdca26\"],[1.0,\"#f0f921\"]],\"sequentialminus\":[[0.0,\"#0d0887\"],[0.1111111111111111,\"#46039f\"],[0.2222222222222222,\"#7201a8\"],[0.3333333333333333,\"#9c179e\"],[0.4444444444444444,\"#bd3786\"],[0.5555555555555556,\"#d8576b\"],[0.6666666666666666,\"#ed7953\"],[0.7777777777777778,\"#fb9f3a\"],[0.8888888888888888,\"#fdca26\"],[1.0,\"#f0f921\"]]},\"colorway\":[\"#636efa\",\"#EF553B\",\"#00cc96\",\"#ab63fa\",\"#FFA15A\",\"#19d3f3\",\"#FF6692\",\"#B6E880\",\"#FF97FF\",\"#FECB52\"],\"font\":{\"color\":\"#2a3f5f\"},\"geo\":{\"bgcolor\":\"white\",\"lakecolor\":\"white\",\"landcolor\":\"#E5ECF6\",\"showlakes\":true,\"showland\":true,\"subunitcolor\":\"white\"},\"hoverlabel\":{\"align\":\"left\"},\"hovermode\":\"closest\",\"mapbox\":{\"style\":\"light\"},\"paper_bgcolor\":\"white\",\"plot_bgcolor\":\"#E5ECF6\",\"polar\":{\"angularaxis\":{\"gridcolor\":\"white\",\"linecolor\":\"white\",\"ticks\":\"\"},\"bgcolor\":\"#E5ECF6\",\"radialaxis\":{\"gridcolor\":\"white\",\"linecolor\":\"white\",\"ticks\":\"\"}},\"scene\":{\"xaxis\":{\"backgroundcolor\":\"#E5ECF6\",\"gridcolor\":\"white\",\"gridwidth\":2,\"linecolor\":\"white\",\"showbackground\":true,\"ticks\":\"\",\"zerolinecolor\":\"white\"},\"yaxis\":{\"backgroundcolor\":\"#E5ECF6\",\"gridcolor\":\"white\",\"gridwidth\":2,\"linecolor\":\"white\",\"showbackground\":true,\"ticks\":\"\",\"zerolinecolor\":\"white\"},\"zaxis\":{\"backgroundcolor\":\"#E5ECF6\",\"gridcolor\":\"white\",\"gridwidth\":2,\"linecolor\":\"white\",\"showbackground\":true,\"ticks\":\"\",\"zerolinecolor\":\"white\"}},\"shapedefaults\":{\"line\":{\"color\":\"#2a3f5f\"}},\"ternary\":{\"aaxis\":{\"gridcolor\":\"white\",\"linecolor\":\"white\",\"ticks\":\"\"},\"baxis\":{\"gridcolor\":\"white\",\"linecolor\":\"white\",\"ticks\":\"\"},\"bgcolor\":\"#E5ECF6\",\"caxis\":{\"gridcolor\":\"white\",\"linecolor\":\"white\",\"ticks\":\"\"}},\"title\":{\"x\":0.05},\"xaxis\":{\"automargin\":true,\"gridcolor\":\"white\",\"linecolor\":\"white\",\"ticks\":\"\",\"title\":{\"standoff\":15},\"zerolinecolor\":\"white\",\"zerolinewidth\":2},\"yaxis\":{\"automargin\":true,\"gridcolor\":\"white\",\"linecolor\":\"white\",\"ticks\":\"\",\"title\":{\"standoff\":15},\"zerolinecolor\":\"white\",\"zerolinewidth\":2}}},\"xaxis\":{\"anchor\":\"y\",\"domain\":[0.0,1.0],\"title\":{\"text\":\"Cash profits ($)\"}},\"yaxis\":{\"anchor\":\"x\",\"domain\":[0.0,1.0],\"title\":{\"text\":\"Mean portfolio risk adjusted return (%)\"}},\"legend\":{\"tracegroupgap\":0},\"margin\":{\"t\":60},\"title\":{\"text\":\"Mean portfolio risk adjusted return (%) vs. Total cash profits (Apr 2019 - Mar 2022)\",\"x\":0.5,\"y\":0.95},\"height\":800,\"showlegend\":false},                        {\"responsive\": true}                    ).then(function(){\n",
       "                            \n",
       "var gd = document.getElementById('fb700d56-66ce-4404-87a6-9fc6ce098b7c');\n",
       "var x = new MutationObserver(function (mutations, observer) {{\n",
       "        var display = window.getComputedStyle(gd).display;\n",
       "        if (!display || display === 'none') {{\n",
       "            console.log([gd, 'removed!']);\n",
       "            Plotly.purge(gd);\n",
       "            observer.disconnect();\n",
       "        }}\n",
       "}});\n",
       "\n",
       "// Listen for the removal of the full notebook cells\n",
       "var notebookContainer = gd.closest('#notebook-container');\n",
       "if (notebookContainer) {{\n",
       "    x.observe(notebookContainer, {childList: true});\n",
       "}}\n",
       "\n",
       "// Listen for the clearing of the current output cell\n",
       "var outputEl = gd.closest('.output');\n",
       "if (outputEl) {{\n",
       "    x.observe(outputEl, {childList: true});\n",
       "}}\n",
       "\n",
       "                        })                };                });            </script>        </div>"
      ]
     },
     "metadata": {},
     "output_type": "display_data"
    }
   ],
   "source": [
    "fig = px.scatter(x=cash_profits, y=mean_risk_adjusted_ri, trendline=\"ols\")\n",
    "fig.update_yaxes(title_text=\"Mean portfolio risk adjusted return (%)\")\n",
    "fig.update_xaxes(title_text=\"Cash profits ($)\")\n",
    "fig.update_layout(title_text=f\"Mean portfolio risk adjusted return (%) vs. Total cash profits (Apr 2019 - Mar 2022)\", \n",
    "                  title_x=0.5,\n",
    "                  title_y=0.95,\n",
    "                  height=800,\n",
    "                  showlegend=False\n",
    "                 )\n",
    "fig.show()"
   ]
  },
  {
   "cell_type": "code",
   "execution_count": 89,
   "id": "cd7747c1-a1f1-4ec0-9f1e-c3fce3ed2f37",
   "metadata": {},
   "outputs": [
    {
     "data": {
      "text/html": [
       "<table class=\"simpletable\">\n",
       "<caption>OLS Regression Results</caption>\n",
       "<tr>\n",
       "  <th>Dep. Variable:</th>            <td>y</td>        <th>  R-squared:         </th> <td>   0.348</td>\n",
       "</tr>\n",
       "<tr>\n",
       "  <th>Model:</th>                   <td>OLS</td>       <th>  Adj. R-squared:    </th> <td>   0.345</td>\n",
       "</tr>\n",
       "<tr>\n",
       "  <th>Method:</th>             <td>Least Squares</td>  <th>  F-statistic:       </th> <td>   105.7</td>\n",
       "</tr>\n",
       "<tr>\n",
       "  <th>Date:</th>             <td>Sun, 03 Apr 2022</td> <th>  Prob (F-statistic):</th> <td>3.90e-20</td>\n",
       "</tr>\n",
       "<tr>\n",
       "  <th>Time:</th>                 <td>22:44:27</td>     <th>  Log-Likelihood:    </th> <td> -234.21</td>\n",
       "</tr>\n",
       "<tr>\n",
       "  <th>No. Observations:</th>      <td>   200</td>      <th>  AIC:               </th> <td>   472.4</td>\n",
       "</tr>\n",
       "<tr>\n",
       "  <th>Df Residuals:</th>          <td>   198</td>      <th>  BIC:               </th> <td>   479.0</td>\n",
       "</tr>\n",
       "<tr>\n",
       "  <th>Df Model:</th>              <td>     1</td>      <th>                     </th>     <td> </td>   \n",
       "</tr>\n",
       "<tr>\n",
       "  <th>Covariance Type:</th>      <td>nonrobust</td>    <th>                     </th>     <td> </td>   \n",
       "</tr>\n",
       "</table>\n",
       "<table class=\"simpletable\">\n",
       "<tr>\n",
       "    <td></td>       <th>coef</th>     <th>std err</th>      <th>t</th>      <th>P>|t|</th>  <th>[0.025</th>    <th>0.975]</th>  \n",
       "</tr>\n",
       "<tr>\n",
       "  <th>const</th> <td>   -2.2928</td> <td>    0.235</td> <td>   -9.766</td> <td> 0.000</td> <td>   -2.756</td> <td>   -1.830</td>\n",
       "</tr>\n",
       "<tr>\n",
       "  <th>x1</th>    <td>    0.0004</td> <td> 3.48e-05</td> <td>   10.279</td> <td> 0.000</td> <td>    0.000</td> <td>    0.000</td>\n",
       "</tr>\n",
       "</table>\n",
       "<table class=\"simpletable\">\n",
       "<tr>\n",
       "  <th>Omnibus:</th>       <td> 1.878</td> <th>  Durbin-Watson:     </th> <td>   1.763</td>\n",
       "</tr>\n",
       "<tr>\n",
       "  <th>Prob(Omnibus):</th> <td> 0.391</td> <th>  Jarque-Bera (JB):  </th> <td>   1.955</td>\n",
       "</tr>\n",
       "<tr>\n",
       "  <th>Skew:</th>          <td> 0.220</td> <th>  Prob(JB):          </th> <td>   0.376</td>\n",
       "</tr>\n",
       "<tr>\n",
       "  <th>Kurtosis:</th>      <td> 2.799</td> <th>  Cond. No.          </th> <td>2.86e+04</td>\n",
       "</tr>\n",
       "</table><br/><br/>Notes:<br/>[1] Standard Errors assume that the covariance matrix of the errors is correctly specified.<br/>[2] The condition number is large, 2.86e+04. This might indicate that there are<br/>strong multicollinearity or other numerical problems."
      ],
      "text/plain": [
       "<class 'statsmodels.iolib.summary.Summary'>\n",
       "\"\"\"\n",
       "                            OLS Regression Results                            \n",
       "==============================================================================\n",
       "Dep. Variable:                      y   R-squared:                       0.348\n",
       "Model:                            OLS   Adj. R-squared:                  0.345\n",
       "Method:                 Least Squares   F-statistic:                     105.7\n",
       "Date:                Sun, 03 Apr 2022   Prob (F-statistic):           3.90e-20\n",
       "Time:                        22:44:27   Log-Likelihood:                -234.21\n",
       "No. Observations:                 200   AIC:                             472.4\n",
       "Df Residuals:                     198   BIC:                             479.0\n",
       "Df Model:                           1                                         \n",
       "Covariance Type:            nonrobust                                         \n",
       "==============================================================================\n",
       "                 coef    std err          t      P>|t|      [0.025      0.975]\n",
       "------------------------------------------------------------------------------\n",
       "const         -2.2928      0.235     -9.766      0.000      -2.756      -1.830\n",
       "x1             0.0004   3.48e-05     10.279      0.000       0.000       0.000\n",
       "==============================================================================\n",
       "Omnibus:                        1.878   Durbin-Watson:                   1.763\n",
       "Prob(Omnibus):                  0.391   Jarque-Bera (JB):                1.955\n",
       "Skew:                           0.220   Prob(JB):                        0.376\n",
       "Kurtosis:                       2.799   Cond. No.                     2.86e+04\n",
       "==============================================================================\n",
       "\n",
       "Notes:\n",
       "[1] Standard Errors assume that the covariance matrix of the errors is correctly specified.\n",
       "[2] The condition number is large, 2.86e+04. This might indicate that there are\n",
       "strong multicollinearity or other numerical problems.\n",
       "\"\"\""
      ]
     },
     "execution_count": 89,
     "metadata": {},
     "output_type": "execute_result"
    }
   ],
   "source": [
    "results = px.get_trendline_results(fig)\n",
    "results.px_fit_results.iloc[0].summary()"
   ]
  },
  {
   "cell_type": "markdown",
   "id": "f1159706-92d7-4755-89e4-f732fa74eaa5",
   "metadata": {},
   "source": [
    "# IX. Conclusions"
   ]
  },
  {
   "cell_type": "markdown",
   "id": "a09cf35e-3cc8-409d-b044-070ea0da6a05",
   "metadata": {},
   "source": [
    "1. While our mean risk adjusted returns is greater than zero, our p-value > level of significance = 0.05. So, we cannot reject our null hypothesis. This means that we **cannot** statistically prove that our trading strategy will result in positive risk-adjusted returns (given the constraints we used in our testing + the assumptions we made).\n",
    "\n",
    "2. We see that ash profits and risk adjusted returns on the portfolio generally move in the same direction, but they do not have a strong linear correlation (R2=0.348). This makes a lot of sense, because of the difference between \"absolute returns\" and \"risk-adjusted returns\": we can always invest in a risky asset and make a lot of profit, but we may not have achieved as high a return on that risky asset as expected."
   ]
  },
  {
   "cell_type": "markdown",
   "id": "ad11d1c1-6f56-4b37-a96e-3f0b8c35c5d0",
   "metadata": {},
   "source": [
    "# X. Next steps"
   ]
  },
  {
   "attachments": {
    "a1ffd522-7ae2-4a69-b1a5-f2dcb5a63684.png": {
     "image/png": "[encoded data removed]"
    }
   },
   "cell_type": "markdown",
   "id": "7a799354-eda9-4e47-b0c7-5dd3acf68765",
   "metadata": {},
   "source": [
    "It is a positive that our mean risk adjusted return on the 200 sample portfolios is greater than zero. This certainly means that we are on the right track and that it is possible for us to refine this basic strategy to come up with one that can generate positive risk-adjusted returns. \n",
    "\n",
    "Well... what is lacking in this strategy? Let me use the example below to illustrate one of the possible edge cases:\n",
    "![image.png](attachment:a1ffd522-7ae2-4a69-b1a5-f2dcb5a63684.png)"
   ]
  },
  {
   "cell_type": "markdown",
   "id": "c733914a-5d42-49e9-b83f-70727366d787",
   "metadata": {},
   "source": [
    "The chart above is for Agilent technologies from March 3, 2019 to July 7, 2019. One of the trades our algorithm would have placed would have been a \"buy\" at 75 on April 22, when Agilent's RSI went < 30. Using technical analysis alone, this may have looked like an excellent buy (because we may be thinking of this as a dip). However, our algorithm missed out on the fact that this was not a dip but just the beginning of a downfall. In less than a month, the stock price fell down 13% to 65.\n",
    "\n",
    "Our strategy would have sold the stock when the price hit a RSI = 70 on June 17, but this was signalling that the stock was over-bought on a different scale of price oscillation. A stock that was considered oversold by our algorithm at 75 turned into a one that would be considered overbought at 70. This shows that our trading algorithm relying purely on the RSI momentum oscillator fails to recognise the change in resistance and support levels when a stock falls below its previous support. If we are able to account for this in our trading strategy, we can expect to have better performance relative to our current strategy."
   ]
  },
  {
   "cell_type": "code",
   "execution_count": null,
   "id": "adcce333-4c04-42b8-b415-13c12338ad0d",
   "metadata": {},
   "outputs": [],
   "source": []
  }
 ],
 "metadata": {
  "kernelspec": {
   "display_name": "stock-price-forecasts",
   "language": "python",
   "name": "stock-price-forecasts"
  },
  "language_info": {
   "codemirror_mode": {
    "name": "ipython",
    "version": 3
   },
   "file_extension": ".py",
   "mimetype": "text/x-python",
   "name": "python",
   "nbconvert_exporter": "python",
   "pygments_lexer": "ipython3",
   "version": "3.8.4"
  }
 },
 "nbformat": 4,
 "nbformat_minor": 5
}
